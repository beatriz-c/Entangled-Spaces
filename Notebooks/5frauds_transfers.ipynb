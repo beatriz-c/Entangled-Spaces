{
 "cells": [
  {
   "cell_type": "code",
   "execution_count": 1,
   "id": "a179725b",
   "metadata": {},
   "outputs": [],
   "source": [
    "#load the original frauds before synthetic generation\n",
    "import pandas as pd\n",
    "\n",
    "fraudsb = pd.read_csv(r'C:/Users/BeatrizCarvalho/OneDrive - Closer Consultoria Lda/Documents/Entangled-Spaces/Datasets/0frauds_transfers_corr.csv')"
   ]
  },
  {
   "cell_type": "code",
   "execution_count": 3,
   "id": "dfb36559",
   "metadata": {},
   "outputs": [
    {
     "data": {
      "text/plain": [
       "569"
      ]
     },
     "execution_count": 3,
     "metadata": {},
     "output_type": "execute_result"
    }
   ],
   "source": [
    "#how many frauds existed originally\n",
    "len(fraudsb)"
   ]
  },
  {
   "cell_type": "code",
   "execution_count": 3,
   "id": "e04675dd",
   "metadata": {},
   "outputs": [
    {
     "data": {
      "application/vnd.jupyter.widget-view+json": {
       "model_id": "dad41e033b374aa9b25b1b070e7ba7e7",
       "version_major": 2,
       "version_minor": 0
      },
      "text/plain": [
       "Summarize dataset:   0%|          | 0/5 [00:00<?, ?it/s]"
      ]
     },
     "metadata": {},
     "output_type": "display_data"
    },
    {
     "data": {
      "application/vnd.jupyter.widget-view+json": {
       "model_id": "cbe4400671d84c2ca852259d2279a9f0",
       "version_major": 2,
       "version_minor": 0
      },
      "text/plain": [
       "Generate report structure:   0%|          | 0/1 [00:00<?, ?it/s]"
      ]
     },
     "metadata": {},
     "output_type": "display_data"
    },
    {
     "data": {
      "application/vnd.jupyter.widget-view+json": {
       "model_id": "4cb0e78e0e8a4ff0b4ad4dca873cf4df",
       "version_major": 2,
       "version_minor": 0
      },
      "text/plain": [
       "Render HTML:   0%|          | 0/1 [00:00<?, ?it/s]"
      ]
     },
     "metadata": {},
     "output_type": "display_data"
    },
    {
     "data": {
      "application/vnd.jupyter.widget-view+json": {
       "model_id": "44d33fdfe5eb4cb5844c94297a48ad57",
       "version_major": 2,
       "version_minor": 0
      },
      "text/plain": [
       "Export report to file:   0%|          | 0/1 [00:00<?, ?it/s]"
      ]
     },
     "metadata": {},
     "output_type": "display_data"
    }
   ],
   "source": [
    "#profiling of the original frauds before synthetic generation\n",
    "#gives the distribution of frauds per column\n",
    "#gives the most common values of each column\n",
    "#gives maximum and minimum values\n",
    "\n",
    "from pandas_profiling import ProfileReport\n",
    "\n",
    "#ProfileReport(predata.sample(n = 10000)) for much data - it randomizes data order and selects representative sample\n",
    "prof = ProfileReport(fraudsb, minimal = True)             \n",
    "prof.to_file(output_file = 'rC:/Users/BeatrizCarvalho/OneDrive - Closer Consultoria Lda/Documents/Entangled-Spaces/Profiles/0frauds_transfers_nd_corr.html')"
   ]
  },
  {
   "cell_type": "code",
   "execution_count": null,
   "id": "1d17b859",
   "metadata": {},
   "outputs": [],
   "source": [
    "#------------------------------------load the frauds after the synthetic generation by smote----------------------------------#\n",
    "import pandas as pd\n",
    "\n",
    "fraudss = pd.read_csv(r'C:/Users/BeatrizCarvalho/OneDrive - Closer Consultoria Lda/Documents/Entangled-Spaces/Datasets/2frauds_transfers_balanced_smote+rund.csv')"
   ]
  },
  {
   "cell_type": "code",
   "execution_count": null,
   "id": "2572c8eb",
   "metadata": {},
   "outputs": [],
   "source": [
    "#how many frauds exist now\n",
    "len(fraudss)"
   ]
  },
  {
   "cell_type": "code",
   "execution_count": null,
   "id": "344bc3de",
   "metadata": {},
   "outputs": [],
   "source": [
    "#profiling of the frauds after the synthetic generation by smote\n",
    "#gives the distribution of frauds per column\n",
    "#gives the most common values of each column\n",
    "#gives maximum and minimum values\n",
    "\n",
    "from pandas_profiling import ProfileReport\n",
    "\n",
    "#ProfileReport(predata.sample(n = 10000)) for much data - it randomizes data order and selects representative sample\n",
    "prof = ProfileReport(fraudss, minimal = True)           \n",
    "prof.to_file(output_file = r'C:/Users/BeatrizCarvalho/OneDrive - Closer Consultoria Lda/Documents/Entangled-Spaces/Profiles/2frauds_transfers_balanced_smote+rund.html')"
   ]
  },
  {
   "cell_type": "code",
   "execution_count": null,
   "id": "f7be6fcb",
   "metadata": {},
   "outputs": [],
   "source": [
    "#------------------------------------load the frauds after the synthetic generation by gans-----------------------------------#\n",
    "import pandas as pd\n",
    "\n",
    "fraudsg = pd.read_csv(r'C:/Users/BeatrizCarvalho/OneDrive - Closer Consultoria Lda/Documents/Entangled-Spaces/Datasets/2frauds_transfers_balanced_gan+rund.csv')"
   ]
  },
  {
   "cell_type": "code",
   "execution_count": null,
   "id": "002620bf",
   "metadata": {},
   "outputs": [],
   "source": [
    "#how many frauds exist now\n",
    "len(fraudsg)"
   ]
  },
  {
   "cell_type": "code",
   "execution_count": null,
   "id": "63ef2d2e",
   "metadata": {},
   "outputs": [],
   "source": [
    "#profiling of the frauds after the synthetic generation by gans\n",
    "#gives the distribution of frauds per column\n",
    "#gives the most common values of each column\n",
    "#gives maximum and minimum values\n",
    "\n",
    "from pandas_profiling import ProfileReport\n",
    "\n",
    "#ProfileReport(predata.sample(n = 10000)) for much data - it randomizes data order and selects representative sample\n",
    "prof = ProfileReport(fraudsg, minimal = True)           \n",
    "prof.to_file(output_file = r'C:/Users/BeatrizCarvalho/OneDrive - Closer Consultoria Lda/Documents/Entangled-Spaces/Profiles/2frauds_transfers_balanced_gan+rund.csv.html')"
   ]
  }
 ],
 "metadata": {
  "kernelspec": {
   "display_name": "Python 3 (ipykernel)",
   "language": "python",
   "name": "python3"
  },
  "language_info": {
   "codemirror_mode": {
    "name": "ipython",
    "version": 3
   },
   "file_extension": ".py",
   "mimetype": "text/x-python",
   "name": "python",
   "nbconvert_exporter": "python",
   "pygments_lexer": "ipython3",
   "version": "3.9.9"
  }
 },
 "nbformat": 4,
 "nbformat_minor": 5
}
