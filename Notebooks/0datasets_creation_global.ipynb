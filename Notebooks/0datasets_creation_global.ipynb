{
 "cells": [
  {
   "cell_type": "code",
   "execution_count": 1,
   "id": "8c5dd168-6c17-401b-b1aa-0e4c36c4ee4a",
   "metadata": {},
   "outputs": [],
   "source": [
    "#data loading\n",
    "import dask.dataframe as dd\n",
    "\n",
    "dtype = {'trusted_indicator': 'object'}\n",
    "global_data = dd.read_csv(r'C:/Users/BeatrizCarvalho/OneDrive - Closer Consultoria Lda/Documents/Entangled-Spaces/Datasets/0globaldata.csv', \n",
    "                          dtype = dtype, names = ['canal', 'operativa', 'entity', 'reference', 'trusted_indicator', 'iban_orig',\n",
    "                                                  'iban_dest', 'amount', 'accountbalance', 'ipaddress', 'is_fraud', 'is_tablet',\n",
    "                                                  'is_pc', 'is_mobile', 'is_touch', 'clientid', 'browser_family', 'os_family', \n",
    "                                                  'hour', 'week', 'timestamp'])"
   ]
  },
  {
   "cell_type": "code",
   "execution_count": 2,
   "id": "284a610e",
   "metadata": {},
   "outputs": [
    {
     "data": {
      "text/plain": [
       "(Delayed('int-925e4bb8-de23-40e3-b7de-81afe12cdbf0'), 21)"
      ]
     },
     "execution_count": 2,
     "metadata": {},
     "output_type": "execute_result"
    }
   ],
   "source": [
    "#make sure the columns were well selected\n",
    "global_data.shape"
   ]
  },
  {
   "cell_type": "code",
   "execution_count": 25,
   "id": "b8e22c2a",
   "metadata": {
    "scrolled": true
   },
   "outputs": [
    {
     "data": {
      "text/plain": [
       "29051438"
      ]
     },
     "execution_count": 25,
     "metadata": {},
     "output_type": "execute_result"
    }
   ],
   "source": [
    "#total lines in the csv\n",
    "len(global_data)"
   ]
  },
  {
   "cell_type": "code",
   "execution_count": 2,
   "id": "a9e2b6d0",
   "metadata": {
    "scrolled": true
   },
   "outputs": [
    {
     "data": {
      "text/plain": [
       "False    29051438\n",
       "Name: is_bot, dtype: int64"
      ]
     },
     "execution_count": 2,
     "metadata": {},
     "output_type": "execute_result"
    }
   ],
   "source": [
    "#there's no ocurrencies of bots in the entire dataset so it can be eliminated\n",
    "global_data[\"is_bot\"].value_counts().compute()"
   ]
  },
  {
   "cell_type": "code",
   "execution_count": 2,
   "id": "9228a56b",
   "metadata": {},
   "outputs": [],
   "source": [
    "#visualize all the output\n",
    "import pandas as pd\n",
    "pd.set_option('display.max_columns', None)\n",
    "pd.set_option('display.max_rows', None)"
   ]
  },
  {
   "cell_type": "code",
   "execution_count": 4,
   "id": "ebce4ffb",
   "metadata": {},
   "outputs": [
    {
     "data": {
      "text/plain": [
       "Unnamed: 0                           0\n",
       "timestamp                            0\n",
       "ID                                   0\n",
       "rowid                                0\n",
       "canal                                0\n",
       "operativa                            0\n",
       "client                               0\n",
       "clientid                             0\n",
       "entity                               0\n",
       "reference                            0\n",
       "trusted_indicator                    0\n",
       "iban_orig                            0\n",
       "iban_dest                            0\n",
       "amount                               0\n",
       "accountbalance                       0\n",
       "fingerprint                          0\n",
       "ipaddress                            0\n",
       "description_originator               0\n",
       "description_beneficiary              0\n",
       "is_fraud                             0\n",
       "dummy_var                            0\n",
       "is_mobile                            0\n",
       "is_tablet                            0\n",
       "is_pc                                0\n",
       "is_touch                             0\n",
       "is_bot                               0\n",
       "browser_family                       0\n",
       "os_family                            0\n",
       "#clientid_30D                        0\n",
       "#fingerprint_30D                     0\n",
       "#ipaddress_30D                       0\n",
       "#iban_orig_30D                       0\n",
       "#iban_dest_30D                       0\n",
       "clientid_time_diff                   0\n",
       "fingerprint_time_diff                0\n",
       "iban_dest_time_diff                  0\n",
       "clientid_fingerprint_30D             0\n",
       "clientid_ipaddress_30D               0\n",
       "clientid_iban_orig_30D               0\n",
       "clientid_iban_dest_30D               0\n",
       "mean_amount_clientid_30D             0\n",
       "mean_amount_iban_dest_30D            0\n",
       "#clientid_ipaddress_30D              0\n",
       "#clientid_fingerprint_30D            0\n",
       "#clientid_iban_orig_30D              0\n",
       "#clientid_iban_dest_30D              0\n",
       "is_fraud_cons                        0\n",
       "amount_ratio_avg_clientid_30D        0\n",
       "amount_ratio_avg_iban_dest_30D       0\n",
       "canal__MBE                           0\n",
       "canal__MBP                           0\n",
       "canal__NBE                           0\n",
       "canal__NBP                           0\n",
       "canal__OBE                           0\n",
       "operativa__PAGSRV                    0\n",
       "operativa__TRFINT                    0\n",
       "operativa__TRFIPS                    0\n",
       "operativa__TRFITC                    0\n",
       "operativa__TRFSEP                    0\n",
       "operativa__others                    0\n",
       "entity__3                            0\n",
       "entity__37                           0\n",
       "entity__469                          0\n",
       "entity__5623                         0\n",
       "entity__others                       0\n",
       "browser_family__chrome               0\n",
       "browser_family__chrome mobile        0\n",
       "browser_family__edge                 0\n",
       "browser_family__firefox              0\n",
       "browser_family__ie                   0\n",
       "browser_family__mobile safari        0\n",
       "browser_family__others               0\n",
       "os_family__android                   0\n",
       "os_family__ios                       0\n",
       "os_family__linux                     0\n",
       "os_family__mac os x                  0\n",
       "os_family__others                    0\n",
       "os_family__windows                   0\n",
       "trusted_indicator__0.0               0\n",
       "trusted_indicator__1.0               0\n",
       "trusted_indicator__UNKNOWN           0\n",
       "date                                 0\n",
       "hour                                 0\n",
       "week                                 0\n",
       "amount_ratio_avg_30D_per_clientid    0\n",
       "amount_ratio_max_30D_per_clientid    0\n",
       "amount_over_account_balance          0\n",
       "amount_is_integer                    0\n",
       "amount_categories                    0\n",
       "cons_freq_fingerprint                0\n",
       "cons_freq_clientid                   0\n",
       "cons_freq_ipaddress                  0\n",
       "cons_time_fingerprint                0\n",
       "dtype: int64"
      ]
     },
     "execution_count": 4,
     "metadata": {},
     "output_type": "execute_result"
    }
   ],
   "source": [
    "#find if there is NaN values\n",
    "global_data.isna().sum(axis = 0).compute()"
   ]
  },
  {
   "cell_type": "code",
   "execution_count": 5,
   "id": "f293f20c",
   "metadata": {},
   "outputs": [
    {
     "data": {
      "text/plain": [
       "Unnamed: 0                           0\n",
       "timestamp                            0\n",
       "ID                                   0\n",
       "rowid                                0\n",
       "canal                                0\n",
       "operativa                            0\n",
       "client                               0\n",
       "clientid                             0\n",
       "entity                               0\n",
       "reference                            0\n",
       "trusted_indicator                    0\n",
       "iban_orig                            0\n",
       "iban_dest                            0\n",
       "amount                               0\n",
       "accountbalance                       0\n",
       "fingerprint                          0\n",
       "ipaddress                            0\n",
       "description_originator               0\n",
       "description_beneficiary              0\n",
       "is_fraud                             0\n",
       "dummy_var                            0\n",
       "is_mobile                            0\n",
       "is_tablet                            0\n",
       "is_pc                                0\n",
       "is_touch                             0\n",
       "is_bot                               0\n",
       "browser_family                       0\n",
       "os_family                            0\n",
       "#clientid_30D                        0\n",
       "#fingerprint_30D                     0\n",
       "#ipaddress_30D                       0\n",
       "#iban_orig_30D                       0\n",
       "#iban_dest_30D                       0\n",
       "clientid_time_diff                   0\n",
       "fingerprint_time_diff                0\n",
       "iban_dest_time_diff                  0\n",
       "clientid_fingerprint_30D             0\n",
       "clientid_ipaddress_30D               0\n",
       "clientid_iban_orig_30D               0\n",
       "clientid_iban_dest_30D               0\n",
       "mean_amount_clientid_30D             0\n",
       "mean_amount_iban_dest_30D            0\n",
       "#clientid_ipaddress_30D              0\n",
       "#clientid_fingerprint_30D            0\n",
       "#clientid_iban_orig_30D              0\n",
       "#clientid_iban_dest_30D              0\n",
       "is_fraud_cons                        0\n",
       "amount_ratio_avg_clientid_30D        0\n",
       "amount_ratio_avg_iban_dest_30D       0\n",
       "canal__MBE                           0\n",
       "canal__MBP                           0\n",
       "canal__NBE                           0\n",
       "canal__NBP                           0\n",
       "canal__OBE                           0\n",
       "operativa__PAGSRV                    0\n",
       "operativa__TRFINT                    0\n",
       "operativa__TRFIPS                    0\n",
       "operativa__TRFITC                    0\n",
       "operativa__TRFSEP                    0\n",
       "operativa__others                    0\n",
       "entity__3                            0\n",
       "entity__37                           0\n",
       "entity__469                          0\n",
       "entity__5623                         0\n",
       "entity__others                       0\n",
       "browser_family__chrome               0\n",
       "browser_family__chrome mobile        0\n",
       "browser_family__edge                 0\n",
       "browser_family__firefox              0\n",
       "browser_family__ie                   0\n",
       "browser_family__mobile safari        0\n",
       "browser_family__others               0\n",
       "os_family__android                   0\n",
       "os_family__ios                       0\n",
       "os_family__linux                     0\n",
       "os_family__mac os x                  0\n",
       "os_family__others                    0\n",
       "os_family__windows                   0\n",
       "trusted_indicator__0.0               0\n",
       "trusted_indicator__1.0               0\n",
       "trusted_indicator__UNKNOWN           0\n",
       "date                                 0\n",
       "hour                                 0\n",
       "week                                 0\n",
       "amount_ratio_avg_30D_per_clientid    0\n",
       "amount_ratio_max_30D_per_clientid    0\n",
       "amount_over_account_balance          0\n",
       "amount_is_integer                    0\n",
       "amount_categories                    0\n",
       "cons_freq_fingerprint                0\n",
       "cons_freq_clientid                   0\n",
       "cons_freq_ipaddress                  0\n",
       "cons_time_fingerprint                0\n",
       "dtype: int64"
      ]
     },
     "execution_count": 5,
     "metadata": {},
     "output_type": "execute_result"
    }
   ],
   "source": [
    "#find if there is missing values\n",
    "global_data.isnull().sum().compute()"
   ]
  },
  {
   "cell_type": "code",
   "execution_count": 12,
   "id": "cd6affe8",
   "metadata": {
    "scrolled": true
   },
   "outputs": [
    {
     "data": {
      "text/plain": [
       "{'APGCMP',\n",
       " 'APGEST',\n",
       " 'APGINT',\n",
       " 'APGSEG',\n",
       " 'APGSRV',\n",
       " 'APGTEL',\n",
       " 'APGTRP',\n",
       " 'ATFINT',\n",
       " 'ATFIPS',\n",
       " 'ATFITC',\n",
       " 'ATFITI',\n",
       " 'ATFSEP',\n",
       " 'PAGCMP',\n",
       " 'PAGEST',\n",
       " 'PAGINT',\n",
       " 'PAGSEC',\n",
       " 'PAGSEG',\n",
       " 'PAGSRV',\n",
       " 'PAGTEL',\n",
       " 'PAGTRP',\n",
       " 'RTFINT',\n",
       " 'RTFIPS',\n",
       " 'RTFITC',\n",
       " 'RTFSEP',\n",
       " 'TRFIBS',\n",
       " 'TRFINT',\n",
       " 'TRFIPS',\n",
       " 'TRFITC',\n",
       " 'TRFITI',\n",
       " 'TRFMBW',\n",
       " 'TRFSEP'}"
      ]
     },
     "execution_count": 12,
     "metadata": {},
     "output_type": "execute_result"
    }
   ],
   "source": [
    "#values that operativa takes\n",
    "set(global_data['operativa'])"
   ]
  },
  {
   "cell_type": "code",
   "execution_count": 2,
   "id": "13eb78c5",
   "metadata": {},
   "outputs": [
    {
     "data": {
      "text/plain": [
       "20200531"
      ]
     },
     "execution_count": 2,
     "metadata": {},
     "output_type": "execute_result"
    }
   ],
   "source": [
    "#date in which the data ends\n",
    "max(global_data['date'])"
   ]
  },
  {
   "cell_type": "code",
   "execution_count": 3,
   "id": "5e83a722",
   "metadata": {},
   "outputs": [
    {
     "data": {
      "text/plain": [
       "20190801"
      ]
     },
     "execution_count": 3,
     "metadata": {},
     "output_type": "execute_result"
    }
   ],
   "source": [
    "#date in which the data begins\n",
    "min(global_data['date'])"
   ]
  },
  {
   "cell_type": "code",
   "execution_count": 77,
   "id": "5e96550f",
   "metadata": {},
   "outputs": [
    {
     "data": {
      "text/plain": [
       "Unnamed: 0               821\n",
       "timestamp                821\n",
       "ID                       821\n",
       "rowid                    821\n",
       "canal                    821\n",
       "                        ... \n",
       "amount_categories        821\n",
       "cons_freq_fingerprint    821\n",
       "cons_freq_clientid       821\n",
       "cons_freq_ipaddress      821\n",
       "cons_time_fingerprint    821\n",
       "Length: 93, dtype: int64"
      ]
     },
     "execution_count": 77,
     "metadata": {},
     "output_type": "execute_result"
    }
   ],
   "source": [
    "#how many frauds in the global dataset\n",
    "target_col = 'is_fraud'\n",
    "global_data[(global_data[target_col] == 1)].count().compute()"
   ]
  },
  {
   "cell_type": "code",
   "execution_count": null,
   "id": "2efba193",
   "metadata": {},
   "outputs": [],
   "source": [
    "#drop duplicates\n",
    "global_data = global_data.drop_duplicates()\n",
    "\n",
    "#save dataframe without the duplicates in a single csv file\n",
    "global_data.to_csv(r'C:\\Users\\BeatrizCarvalho\\OneDrive - Closer Consultoria Lda\\Documents\\Entangled-Spaces\\Datasets\\0globaldata_nd.csv', index = False, single_file = True)"
   ]
  },
  {
   "cell_type": "code",
   "execution_count": null,
   "id": "7c1f46ad",
   "metadata": {},
   "outputs": [],
   "source": [
    "#rows in the new dataframe after the duplicates removal (before there was 29051438)\n",
    "len(global_data)"
   ]
  },
  {
   "cell_type": "code",
   "execution_count": null,
   "id": "682a2f15",
   "metadata": {},
   "outputs": [],
   "source": [
    "#make sure that no frauds were eliminated\n",
    "target_col = 'is_fraud'\n",
    "global_data[(global_data[target_col] == 1)].count().compute()"
   ]
  },
  {
   "cell_type": "code",
   "execution_count": null,
   "id": "073c3a86",
   "metadata": {},
   "outputs": [],
   "source": [
    "#--------------------------------------------------------payments-------------------------------------------------------------#"
   ]
  },
  {
   "cell_type": "code",
   "execution_count": 30,
   "id": "1e883f94",
   "metadata": {},
   "outputs": [
    {
     "data": {
      "text/plain": [
       "Unnamed: 0               25294\n",
       "timestamp                25294\n",
       "ID                       25294\n",
       "rowid                    25294\n",
       "canal                    25294\n",
       "                         ...  \n",
       "amount_categories        25294\n",
       "cons_freq_fingerprint    25294\n",
       "cons_freq_clientid       25294\n",
       "cons_freq_ipaddress      25294\n",
       "cons_time_fingerprint    25294\n",
       "Length: 93, dtype: int64"
      ]
     },
     "execution_count": 30,
     "metadata": {},
     "output_type": "execute_result"
    }
   ],
   "source": [
    "#number of payments rows per operativa\n",
    "global_data[(global_data['operativa'] == 'RTFSEP')].count().compute()"
   ]
  },
  {
   "cell_type": "code",
   "execution_count": 31,
   "id": "9d33abe5",
   "metadata": {},
   "outputs": [
    {
     "data": {
      "text/plain": [
       "Unnamed: 0               292\n",
       "timestamp                292\n",
       "ID                       292\n",
       "rowid                    292\n",
       "canal                    292\n",
       "                        ... \n",
       "amount_categories        292\n",
       "cons_freq_fingerprint    292\n",
       "cons_freq_clientid       292\n",
       "cons_freq_ipaddress      292\n",
       "cons_time_fingerprint    292\n",
       "Length: 93, dtype: int64"
      ]
     },
     "execution_count": 31,
     "metadata": {},
     "output_type": "execute_result"
    }
   ],
   "source": [
    "global_data[(global_data['operativa'] == 'RTFITC')].count().compute()"
   ]
  },
  {
   "cell_type": "code",
   "execution_count": 32,
   "id": "aa8c1742",
   "metadata": {},
   "outputs": [
    {
     "data": {
      "text/plain": [
       "Unnamed: 0               582\n",
       "timestamp                582\n",
       "ID                       582\n",
       "rowid                    582\n",
       "canal                    582\n",
       "                        ... \n",
       "amount_categories        582\n",
       "cons_freq_fingerprint    582\n",
       "cons_freq_clientid       582\n",
       "cons_freq_ipaddress      582\n",
       "cons_time_fingerprint    582\n",
       "Length: 93, dtype: int64"
      ]
     },
     "execution_count": 32,
     "metadata": {},
     "output_type": "execute_result"
    }
   ],
   "source": [
    "global_data[(global_data['operativa'] == 'RTFIPS')].count().compute()"
   ]
  },
  {
   "cell_type": "code",
   "execution_count": 33,
   "id": "e1aac0f8",
   "metadata": {},
   "outputs": [
    {
     "data": {
      "text/plain": [
       "Unnamed: 0               19101\n",
       "timestamp                19101\n",
       "ID                       19101\n",
       "rowid                    19101\n",
       "canal                    19101\n",
       "                         ...  \n",
       "amount_categories        19101\n",
       "cons_freq_fingerprint    19101\n",
       "cons_freq_clientid       19101\n",
       "cons_freq_ipaddress      19101\n",
       "cons_time_fingerprint    19101\n",
       "Length: 93, dtype: int64"
      ]
     },
     "execution_count": 33,
     "metadata": {},
     "output_type": "execute_result"
    }
   ],
   "source": [
    "global_data[(global_data['operativa'] == 'RTFINT')].count().compute()"
   ]
  },
  {
   "cell_type": "code",
   "execution_count": 34,
   "id": "80267507",
   "metadata": {},
   "outputs": [
    {
     "data": {
      "text/plain": [
       "Unnamed: 0               1099\n",
       "timestamp                1099\n",
       "ID                       1099\n",
       "rowid                    1099\n",
       "canal                    1099\n",
       "                         ... \n",
       "amount_categories        1099\n",
       "cons_freq_fingerprint    1099\n",
       "cons_freq_clientid       1099\n",
       "cons_freq_ipaddress      1099\n",
       "cons_time_fingerprint    1099\n",
       "Length: 93, dtype: int64"
      ]
     },
     "execution_count": 34,
     "metadata": {},
     "output_type": "execute_result"
    }
   ],
   "source": [
    "global_data[(global_data['operativa'] == 'PAGTRP')].count().compute()"
   ]
  },
  {
   "cell_type": "code",
   "execution_count": 35,
   "id": "248fce66",
   "metadata": {},
   "outputs": [
    {
     "data": {
      "text/plain": [
       "Unnamed: 0               2093825\n",
       "timestamp                2093825\n",
       "ID                       2093825\n",
       "rowid                    2093825\n",
       "canal                    2093825\n",
       "                          ...   \n",
       "amount_categories        2093825\n",
       "cons_freq_fingerprint    2093825\n",
       "cons_freq_clientid       2093825\n",
       "cons_freq_ipaddress      2093825\n",
       "cons_time_fingerprint    2093825\n",
       "Length: 93, dtype: int64"
      ]
     },
     "execution_count": 35,
     "metadata": {},
     "output_type": "execute_result"
    }
   ],
   "source": [
    "global_data[(global_data['operativa'] == 'PAGTEL')].count().compute()"
   ]
  },
  {
   "cell_type": "code",
   "execution_count": 36,
   "id": "aca9f2b4",
   "metadata": {},
   "outputs": [
    {
     "data": {
      "text/plain": [
       "Unnamed: 0               8621210\n",
       "timestamp                8621210\n",
       "ID                       8621210\n",
       "rowid                    8621210\n",
       "canal                    8621210\n",
       "                          ...   \n",
       "amount_categories        8621210\n",
       "cons_freq_fingerprint    8621210\n",
       "cons_freq_clientid       8621210\n",
       "cons_freq_ipaddress      8621210\n",
       "cons_time_fingerprint    8621210\n",
       "Length: 93, dtype: int64"
      ]
     },
     "execution_count": 36,
     "metadata": {},
     "output_type": "execute_result"
    }
   ],
   "source": [
    "global_data[(global_data['operativa'] == 'PAGSRV')].count().compute()"
   ]
  },
  {
   "cell_type": "code",
   "execution_count": 37,
   "id": "beba37ee",
   "metadata": {},
   "outputs": [
    {
     "data": {
      "text/plain": [
       "Unnamed: 0               262944\n",
       "timestamp                262944\n",
       "ID                       262944\n",
       "rowid                    262944\n",
       "canal                    262944\n",
       "                          ...  \n",
       "amount_categories        262944\n",
       "cons_freq_fingerprint    262944\n",
       "cons_freq_clientid       262944\n",
       "cons_freq_ipaddress      262944\n",
       "cons_time_fingerprint    262944\n",
       "Length: 93, dtype: int64"
      ]
     },
     "execution_count": 37,
     "metadata": {},
     "output_type": "execute_result"
    }
   ],
   "source": [
    "global_data[(global_data['operativa'] == 'PAGSEG')].count().compute()"
   ]
  },
  {
   "cell_type": "code",
   "execution_count": 38,
   "id": "a7af565c",
   "metadata": {},
   "outputs": [
    {
     "data": {
      "text/plain": [
       "Unnamed: 0               81597\n",
       "timestamp                81597\n",
       "ID                       81597\n",
       "rowid                    81597\n",
       "canal                    81597\n",
       "                         ...  \n",
       "amount_categories        81597\n",
       "cons_freq_fingerprint    81597\n",
       "cons_freq_clientid       81597\n",
       "cons_freq_ipaddress      81597\n",
       "cons_time_fingerprint    81597\n",
       "Length: 93, dtype: int64"
      ]
     },
     "execution_count": 38,
     "metadata": {},
     "output_type": "execute_result"
    }
   ],
   "source": [
    "global_data[(global_data['operativa'] == 'PAGSEC')].count().compute()"
   ]
  },
  {
   "cell_type": "code",
   "execution_count": 39,
   "id": "ced988f3",
   "metadata": {},
   "outputs": [
    {
     "data": {
      "text/plain": [
       "Unnamed: 0               5425\n",
       "timestamp                5425\n",
       "ID                       5425\n",
       "rowid                    5425\n",
       "canal                    5425\n",
       "                         ... \n",
       "amount_categories        5425\n",
       "cons_freq_fingerprint    5425\n",
       "cons_freq_clientid       5425\n",
       "cons_freq_ipaddress      5425\n",
       "cons_time_fingerprint    5425\n",
       "Length: 93, dtype: int64"
      ]
     },
     "execution_count": 39,
     "metadata": {},
     "output_type": "execute_result"
    }
   ],
   "source": [
    "global_data[(global_data['operativa'] == 'PAGINT')].count().compute()"
   ]
  },
  {
   "cell_type": "code",
   "execution_count": 40,
   "id": "01e17982",
   "metadata": {},
   "outputs": [
    {
     "data": {
      "text/plain": [
       "Unnamed: 0               1506497\n",
       "timestamp                1506497\n",
       "ID                       1506497\n",
       "rowid                    1506497\n",
       "canal                    1506497\n",
       "                          ...   \n",
       "amount_categories        1506497\n",
       "cons_freq_fingerprint    1506497\n",
       "cons_freq_clientid       1506497\n",
       "cons_freq_ipaddress      1506497\n",
       "cons_time_fingerprint    1506497\n",
       "Length: 93, dtype: int64"
      ]
     },
     "execution_count": 40,
     "metadata": {},
     "output_type": "execute_result"
    }
   ],
   "source": [
    "global_data[(global_data['operativa'] == 'PAGEST')].count().compute()"
   ]
  },
  {
   "cell_type": "code",
   "execution_count": 41,
   "id": "a207cdb2",
   "metadata": {},
   "outputs": [
    {
     "data": {
      "text/plain": [
       "Unnamed: 0               272392\n",
       "timestamp                272392\n",
       "ID                       272392\n",
       "rowid                    272392\n",
       "canal                    272392\n",
       "                          ...  \n",
       "amount_categories        272392\n",
       "cons_freq_fingerprint    272392\n",
       "cons_freq_clientid       272392\n",
       "cons_freq_ipaddress      272392\n",
       "cons_time_fingerprint    272392\n",
       "Length: 93, dtype: int64"
      ]
     },
     "execution_count": 41,
     "metadata": {},
     "output_type": "execute_result"
    }
   ],
   "source": [
    "global_data[(global_data['operativa'] == 'PAGCMP')].count().compute()"
   ]
  },
  {
   "cell_type": "code",
   "execution_count": 42,
   "id": "aa764cb9",
   "metadata": {},
   "outputs": [
    {
     "data": {
      "text/plain": [
       "Unnamed: 0               151765\n",
       "timestamp                151765\n",
       "ID                       151765\n",
       "rowid                    151765\n",
       "canal                    151765\n",
       "                          ...  \n",
       "amount_categories        151765\n",
       "cons_freq_fingerprint    151765\n",
       "cons_freq_clientid       151765\n",
       "cons_freq_ipaddress      151765\n",
       "cons_time_fingerprint    151765\n",
       "Length: 93, dtype: int64"
      ]
     },
     "execution_count": 42,
     "metadata": {},
     "output_type": "execute_result"
    }
   ],
   "source": [
    "global_data[(global_data['operativa'] == 'ATFSEP')].count().compute()"
   ]
  },
  {
   "cell_type": "code",
   "execution_count": 43,
   "id": "7e23ebe4",
   "metadata": {},
   "outputs": [
    {
     "data": {
      "text/plain": [
       "Unnamed: 0               9\n",
       "timestamp                9\n",
       "ID                       9\n",
       "rowid                    9\n",
       "canal                    9\n",
       "                        ..\n",
       "amount_categories        9\n",
       "cons_freq_fingerprint    9\n",
       "cons_freq_clientid       9\n",
       "cons_freq_ipaddress      9\n",
       "cons_time_fingerprint    9\n",
       "Length: 93, dtype: int64"
      ]
     },
     "execution_count": 43,
     "metadata": {},
     "output_type": "execute_result"
    }
   ],
   "source": [
    "global_data[(global_data['operativa'] == 'ATFITI')].count().compute()"
   ]
  },
  {
   "cell_type": "code",
   "execution_count": 44,
   "id": "646f047a",
   "metadata": {},
   "outputs": [
    {
     "data": {
      "text/plain": [
       "Unnamed: 0               600\n",
       "timestamp                600\n",
       "ID                       600\n",
       "rowid                    600\n",
       "canal                    600\n",
       "                        ... \n",
       "amount_categories        600\n",
       "cons_freq_fingerprint    600\n",
       "cons_freq_clientid       600\n",
       "cons_freq_ipaddress      600\n",
       "cons_time_fingerprint    600\n",
       "Length: 93, dtype: int64"
      ]
     },
     "execution_count": 44,
     "metadata": {},
     "output_type": "execute_result"
    }
   ],
   "source": [
    "global_data[(global_data['operativa'] == 'ATFITC')].count().compute()"
   ]
  },
  {
   "cell_type": "code",
   "execution_count": 45,
   "id": "f9152e79",
   "metadata": {},
   "outputs": [
    {
     "data": {
      "text/plain": [
       "Unnamed: 0               2349\n",
       "timestamp                2349\n",
       "ID                       2349\n",
       "rowid                    2349\n",
       "canal                    2349\n",
       "                         ... \n",
       "amount_categories        2349\n",
       "cons_freq_fingerprint    2349\n",
       "cons_freq_clientid       2349\n",
       "cons_freq_ipaddress      2349\n",
       "cons_time_fingerprint    2349\n",
       "Length: 93, dtype: int64"
      ]
     },
     "execution_count": 45,
     "metadata": {},
     "output_type": "execute_result"
    }
   ],
   "source": [
    "global_data[(global_data['operativa'] == 'ATFIPS')].count().compute()"
   ]
  },
  {
   "cell_type": "code",
   "execution_count": 46,
   "id": "567c6997",
   "metadata": {},
   "outputs": [
    {
     "data": {
      "text/plain": [
       "Unnamed: 0               54174\n",
       "timestamp                54174\n",
       "ID                       54174\n",
       "rowid                    54174\n",
       "canal                    54174\n",
       "                         ...  \n",
       "amount_categories        54174\n",
       "cons_freq_fingerprint    54174\n",
       "cons_freq_clientid       54174\n",
       "cons_freq_ipaddress      54174\n",
       "cons_time_fingerprint    54174\n",
       "Length: 93, dtype: int64"
      ]
     },
     "execution_count": 46,
     "metadata": {},
     "output_type": "execute_result"
    }
   ],
   "source": [
    "global_data[(global_data['operativa'] == 'ATFINT')].count().compute()"
   ]
  },
  {
   "cell_type": "code",
   "execution_count": 47,
   "id": "ee4b0335",
   "metadata": {},
   "outputs": [
    {
     "data": {
      "text/plain": [
       "Unnamed: 0               177\n",
       "timestamp                177\n",
       "ID                       177\n",
       "rowid                    177\n",
       "canal                    177\n",
       "                        ... \n",
       "amount_categories        177\n",
       "cons_freq_fingerprint    177\n",
       "cons_freq_clientid       177\n",
       "cons_freq_ipaddress      177\n",
       "cons_time_fingerprint    177\n",
       "Length: 93, dtype: int64"
      ]
     },
     "execution_count": 47,
     "metadata": {},
     "output_type": "execute_result"
    }
   ],
   "source": [
    "global_data[(global_data['operativa'] == 'APGTRP')].count().compute()"
   ]
  },
  {
   "cell_type": "code",
   "execution_count": 48,
   "id": "ef616464",
   "metadata": {},
   "outputs": [
    {
     "data": {
      "text/plain": [
       "Unnamed: 0               10092\n",
       "timestamp                10092\n",
       "ID                       10092\n",
       "rowid                    10092\n",
       "canal                    10092\n",
       "                         ...  \n",
       "amount_categories        10092\n",
       "cons_freq_fingerprint    10092\n",
       "cons_freq_clientid       10092\n",
       "cons_freq_ipaddress      10092\n",
       "cons_time_fingerprint    10092\n",
       "Length: 93, dtype: int64"
      ]
     },
     "execution_count": 48,
     "metadata": {},
     "output_type": "execute_result"
    }
   ],
   "source": [
    "global_data[(global_data['operativa'] == 'APGTEL')].count().compute()"
   ]
  },
  {
   "cell_type": "code",
   "execution_count": 49,
   "id": "28aea7b5",
   "metadata": {},
   "outputs": [
    {
     "data": {
      "text/plain": [
       "Unnamed: 0               180668\n",
       "timestamp                180668\n",
       "ID                       180668\n",
       "rowid                    180668\n",
       "canal                    180668\n",
       "                          ...  \n",
       "amount_categories        180668\n",
       "cons_freq_fingerprint    180668\n",
       "cons_freq_clientid       180668\n",
       "cons_freq_ipaddress      180668\n",
       "cons_time_fingerprint    180668\n",
       "Length: 93, dtype: int64"
      ]
     },
     "execution_count": 49,
     "metadata": {},
     "output_type": "execute_result"
    }
   ],
   "source": [
    "global_data[(global_data['operativa'] == 'APGSRV')].count().compute()"
   ]
  },
  {
   "cell_type": "code",
   "execution_count": 50,
   "id": "9da3a451",
   "metadata": {},
   "outputs": [
    {
     "data": {
      "text/plain": [
       "Unnamed: 0               47488\n",
       "timestamp                47488\n",
       "ID                       47488\n",
       "rowid                    47488\n",
       "canal                    47488\n",
       "                         ...  \n",
       "amount_categories        47488\n",
       "cons_freq_fingerprint    47488\n",
       "cons_freq_clientid       47488\n",
       "cons_freq_ipaddress      47488\n",
       "cons_time_fingerprint    47488\n",
       "Length: 93, dtype: int64"
      ]
     },
     "execution_count": 50,
     "metadata": {},
     "output_type": "execute_result"
    }
   ],
   "source": [
    "global_data[(global_data['operativa'] == 'APGSEG')].count().compute()"
   ]
  },
  {
   "cell_type": "code",
   "execution_count": 51,
   "id": "8d7c99a9",
   "metadata": {},
   "outputs": [
    {
     "data": {
      "text/plain": [
       "Unnamed: 0               128\n",
       "timestamp                128\n",
       "ID                       128\n",
       "rowid                    128\n",
       "canal                    128\n",
       "                        ... \n",
       "amount_categories        128\n",
       "cons_freq_fingerprint    128\n",
       "cons_freq_clientid       128\n",
       "cons_freq_ipaddress      128\n",
       "cons_time_fingerprint    128\n",
       "Length: 93, dtype: int64"
      ]
     },
     "execution_count": 51,
     "metadata": {},
     "output_type": "execute_result"
    }
   ],
   "source": [
    "global_data[(global_data['operativa'] == 'APGINT')].count().compute()"
   ]
  },
  {
   "cell_type": "code",
   "execution_count": 52,
   "id": "232851a2",
   "metadata": {},
   "outputs": [
    {
     "data": {
      "text/plain": [
       "Unnamed: 0               62979\n",
       "timestamp                62979\n",
       "ID                       62979\n",
       "rowid                    62979\n",
       "canal                    62979\n",
       "                         ...  \n",
       "amount_categories        62979\n",
       "cons_freq_fingerprint    62979\n",
       "cons_freq_clientid       62979\n",
       "cons_freq_ipaddress      62979\n",
       "cons_time_fingerprint    62979\n",
       "Length: 93, dtype: int64"
      ]
     },
     "execution_count": 52,
     "metadata": {},
     "output_type": "execute_result"
    }
   ],
   "source": [
    "global_data[(global_data['operativa'] == 'APGEST')].count().compute()"
   ]
  },
  {
   "cell_type": "code",
   "execution_count": 53,
   "id": "634b8850",
   "metadata": {},
   "outputs": [
    {
     "data": {
      "text/plain": [
       "Unnamed: 0               2478\n",
       "timestamp                2478\n",
       "ID                       2478\n",
       "rowid                    2478\n",
       "canal                    2478\n",
       "                         ... \n",
       "amount_categories        2478\n",
       "cons_freq_fingerprint    2478\n",
       "cons_freq_clientid       2478\n",
       "cons_freq_ipaddress      2478\n",
       "cons_time_fingerprint    2478\n",
       "Length: 93, dtype: int64"
      ]
     },
     "execution_count": 53,
     "metadata": {},
     "output_type": "execute_result"
    }
   ],
   "source": [
    "global_data[(global_data['operativa'] == 'APGCMP')].count().compute()"
   ]
  },
  {
   "cell_type": "code",
   "execution_count": 2,
   "id": "d053940e-f9f6-4596-81ab-e8456b45c4ec",
   "metadata": {},
   "outputs": [],
   "source": [
    "#select all operativas that refer to payments\n",
    "target_col = 'operativa'\n",
    "\n",
    "payments = global_data[(global_data[target_col] == 'RTFSEP') | (global_data[target_col] == 'RTFITC') | \n",
    "                       (global_data[target_col] == 'RTFIPS') | (global_data[target_col] == 'RTFINT') |\n",
    "                       (global_data[target_col] == 'PAGTRP') | (global_data[target_col] == 'PAGTEL') |\n",
    "                       (global_data[target_col] == 'PAGSRV') | (global_data[target_col] == 'PAGSEG') | \n",
    "                       (global_data[target_col] == 'PAGSEC') | (global_data[target_col] == 'PAGINT') | \n",
    "                       (global_data[target_col] == 'PAGEST') | (global_data[target_col] == 'PAGCMP') | \n",
    "                       (global_data[target_col] == 'ATFSEP') | (global_data[target_col] == 'ATFITI') | \n",
    "                       (global_data[target_col] == 'ATFITC') | (global_data[target_col] == 'ATFIPS') | \n",
    "                       (global_data[target_col] == 'ATFINT') | (global_data[target_col] == 'APGTRP') | \n",
    "                       (global_data[target_col] == 'APGTEL') | (global_data[target_col] == 'APGSRV') | \n",
    "                       (global_data[target_col] == 'APGSEG') | (global_data[target_col] == 'APGINT') | \n",
    "                       (global_data[target_col] == 'APGEST') | (global_data[target_col] == 'APGCMP')].copy()"
   ]
  },
  {
   "cell_type": "code",
   "execution_count": 4,
   "id": "bbae11cb",
   "metadata": {},
   "outputs": [
    {
     "data": {
      "text/plain": [
       "['C:/Users/BeatrizCarvalho/csvs.csv']"
      ]
     },
     "execution_count": 4,
     "metadata": {},
     "output_type": "execute_result"
    }
   ],
   "source": [
    "#put all payments data in a single csv file\n",
    "payments.to_csv(r\"C:\\Users\\BeatrizCarvalho\\0payments_nd.csv\", index = False, single_file = True)"
   ]
  },
  {
   "cell_type": "code",
   "execution_count": 7,
   "id": "3d7c3de6",
   "metadata": {},
   "outputs": [
    {
     "data": {
      "text/plain": [
       "13403165"
      ]
     },
     "execution_count": 7,
     "metadata": {},
     "output_type": "execute_result"
    }
   ],
   "source": [
    "#number of rows of the payments csv\n",
    "len(payments)"
   ]
  },
  {
   "cell_type": "code",
   "execution_count": 5,
   "id": "a77ab4d0",
   "metadata": {},
   "outputs": [],
   "source": [
    "#after operativas_analysis_payments there was the conclusion to eliminate operativas xxxxxxxxxx\n",
    "target_col = 'operativa'\n",
    "\n",
    "payments_opr = global_data[(global_data[target_col] == 'RTFSEP') | (global_data[target_col] == 'RTFITC') | \n",
    "                           (global_data[target_col] == 'RTFIPS') | (global_data[target_col] == 'RTFINT') |\n",
    "                           (global_data[target_col] == 'PAGTRP') | (global_data[target_col] == 'PAGTEL') |\n",
    "                           (global_data[target_col] == 'PAGSRV') | (global_data[target_col] == 'PAGSEG') | \n",
    "                           (global_data[target_col] == 'PAGSEC') | (global_data[target_col] == 'PAGINT') | \n",
    "                           (global_data[target_col] == 'PAGEST') | (global_data[target_col] == 'PAGCMP') | \n",
    "                           (global_data[target_col] == 'ATFSEP') | (global_data[target_col] == 'ATFITI') | \n",
    "                           (global_data[target_col] == 'ATFITC') | (global_data[target_col] == 'ATFIPS') | \n",
    "                           (global_data[target_col] == 'ATFINT') | (global_data[target_col] == 'APGTRP') | \n",
    "                           (global_data[target_col] == 'APGTEL') | (global_data[target_col] == 'APGSRV') | \n",
    "                           (global_data[target_col] == 'APGSEG') | (global_data[target_col] == 'APGINT') | \n",
    "                           (global_data[target_col] == 'APGEST') | (global_data[target_col] == 'APGCMP')].copy()"
   ]
  },
  {
   "cell_type": "code",
   "execution_count": null,
   "id": "a814c36b",
   "metadata": {},
   "outputs": [],
   "source": [
    "#after operativas filtering savel all payments data in a single csv file\n",
    "payments_opr.to_csv(r\"C:\\Users\\BeatrizCarvalho\\0payments_nd_corr.csv\", index = False, single_file = True)"
   ]
  },
  {
   "cell_type": "code",
   "execution_count": null,
   "id": "b8482aaf",
   "metadata": {},
   "outputs": [],
   "source": [
    "#number of rows of the payments csv after duplicates removal and the correlation analysis\n",
    "len(payments_opr)"
   ]
  },
  {
   "cell_type": "code",
   "execution_count": null,
   "id": "228b990f",
   "metadata": {},
   "outputs": [],
   "source": [
    "#number of frauds in payments\n",
    "target_col = 'is_fraud'\n",
    "payments_opr[(payments_opr[target_col] == 1)].count().compute()"
   ]
  },
  {
   "cell_type": "code",
   "execution_count": 2,
   "id": "3eb027f5",
   "metadata": {},
   "outputs": [
    {
     "data": {
      "text/plain": [
       "['C:/Users/BeatrizCarvalho/frauds_payments.csv']"
      ]
     },
     "execution_count": 2,
     "metadata": {},
     "output_type": "execute_result"
    }
   ],
   "source": [
    "#select only the frauds in transfers after the correlation analysis and the duplicates removal \n",
    "\n",
    "#payments frauds\n",
    "target_col = 'is_fraud'\n",
    "frauds_payments = payments[(payments[target_col] == 1)].copy()\n",
    "\n",
    "#save csv file\n",
    "frauds_payments.to_csv(r\"C:\\Users\\BeatrizCarvalho\\0frauds_payments_nd_corr.csv\", index = False, single_file = True)"
   ]
  },
  {
   "cell_type": "code",
   "execution_count": 3,
   "id": "190c4320",
   "metadata": {},
   "outputs": [
    {
     "data": {
      "text/plain": [
       "['C:/Users/BeatrizCarvalho/nonfrauds_payments.csv']"
      ]
     },
     "execution_count": 3,
     "metadata": {},
     "output_type": "execute_result"
    }
   ],
   "source": [
    "#select only the non-frauds in payments after the correlation analysis and the duplicates removal \n",
    "\n",
    "#payments non-frauds\n",
    "target_col = 'is_fraud'\n",
    "nonfrauds_payments = payments[(payments[target_col] == 0)].copy()\n",
    "\n",
    "#save csv file\n",
    "nonfrauds_payments.to_csv(r\"C:\\Users\\BeatrizCarvalho\\0nonfrauds_payments_nd_corr.csv\", index = False, single_file = True)"
   ]
  },
  {
   "cell_type": "code",
   "execution_count": null,
   "id": "eedf3656",
   "metadata": {},
   "outputs": [],
   "source": [
    "#-------------------------------------------------------transfers-------------------------------------------------------------#"
   ]
  },
  {
   "cell_type": "code",
   "execution_count": 54,
   "id": "82175415",
   "metadata": {},
   "outputs": [
    {
     "data": {
      "text/plain": [
       "Unnamed: 0               501\n",
       "timestamp                501\n",
       "ID                       501\n",
       "rowid                    501\n",
       "canal                    501\n",
       "                        ... \n",
       "amount_categories        501\n",
       "cons_freq_fingerprint    501\n",
       "cons_freq_clientid       501\n",
       "cons_freq_ipaddress      501\n",
       "cons_time_fingerprint    501\n",
       "Length: 93, dtype: int64"
      ]
     },
     "execution_count": 54,
     "metadata": {},
     "output_type": "execute_result"
    }
   ],
   "source": [
    "#number of transfers rows per operativa\n",
    "global_data[(global_data['operativa'] == 'TRFIBS')].count().compute()"
   ]
  },
  {
   "cell_type": "code",
   "execution_count": 55,
   "id": "fead12ab",
   "metadata": {},
   "outputs": [
    {
     "data": {
      "text/plain": [
       "Unnamed: 0               6969303\n",
       "timestamp                6969303\n",
       "ID                       6969303\n",
       "rowid                    6969303\n",
       "canal                    6969303\n",
       "                          ...   \n",
       "amount_categories        6969303\n",
       "cons_freq_fingerprint    6969303\n",
       "cons_freq_clientid       6969303\n",
       "cons_freq_ipaddress      6969303\n",
       "cons_time_fingerprint    6969303\n",
       "Length: 93, dtype: int64"
      ]
     },
     "execution_count": 55,
     "metadata": {},
     "output_type": "execute_result"
    }
   ],
   "source": [
    "global_data[(global_data['operativa'] == 'TRFINT')].count().compute()"
   ]
  },
  {
   "cell_type": "code",
   "execution_count": 56,
   "id": "fcc833de",
   "metadata": {},
   "outputs": [
    {
     "data": {
      "text/plain": [
       "Unnamed: 0               647143\n",
       "timestamp                647143\n",
       "ID                       647143\n",
       "rowid                    647143\n",
       "canal                    647143\n",
       "                          ...  \n",
       "amount_categories        647143\n",
       "cons_freq_fingerprint    647143\n",
       "cons_freq_clientid       647143\n",
       "cons_freq_ipaddress      647143\n",
       "cons_time_fingerprint    647143\n",
       "Length: 93, dtype: int64"
      ]
     },
     "execution_count": 56,
     "metadata": {},
     "output_type": "execute_result"
    }
   ],
   "source": [
    "global_data[(global_data['operativa'] == 'TRFIPS')].count().compute()"
   ]
  },
  {
   "cell_type": "code",
   "execution_count": 57,
   "id": "5753a7a1",
   "metadata": {},
   "outputs": [
    {
     "data": {
      "text/plain": [
       "Unnamed: 0               148665\n",
       "timestamp                148665\n",
       "ID                       148665\n",
       "rowid                    148665\n",
       "canal                    148665\n",
       "                          ...  \n",
       "amount_categories        148665\n",
       "cons_freq_fingerprint    148665\n",
       "cons_freq_clientid       148665\n",
       "cons_freq_ipaddress      148665\n",
       "cons_time_fingerprint    148665\n",
       "Length: 93, dtype: int64"
      ]
     },
     "execution_count": 57,
     "metadata": {},
     "output_type": "execute_result"
    }
   ],
   "source": [
    "global_data[(global_data['operativa'] == 'TRFITC')].count().compute()"
   ]
  },
  {
   "cell_type": "code",
   "execution_count": 58,
   "id": "612cca56",
   "metadata": {},
   "outputs": [
    {
     "data": {
      "text/plain": [
       "Unnamed: 0               9940\n",
       "timestamp                9940\n",
       "ID                       9940\n",
       "rowid                    9940\n",
       "canal                    9940\n",
       "                         ... \n",
       "amount_categories        9940\n",
       "cons_freq_fingerprint    9940\n",
       "cons_freq_clientid       9940\n",
       "cons_freq_ipaddress      9940\n",
       "cons_time_fingerprint    9940\n",
       "Length: 93, dtype: int64"
      ]
     },
     "execution_count": 58,
     "metadata": {},
     "output_type": "execute_result"
    }
   ],
   "source": [
    "global_data[(global_data['operativa'] == 'TRFITI')].count().compute()"
   ]
  },
  {
   "cell_type": "code",
   "execution_count": 59,
   "id": "8f1b7089",
   "metadata": {},
   "outputs": [
    {
     "data": {
      "text/plain": [
       "Unnamed: 0               297338\n",
       "timestamp                297338\n",
       "ID                       297338\n",
       "rowid                    297338\n",
       "canal                    297338\n",
       "                          ...  \n",
       "amount_categories        297338\n",
       "cons_freq_fingerprint    297338\n",
       "cons_freq_clientid       297338\n",
       "cons_freq_ipaddress      297338\n",
       "cons_time_fingerprint    297338\n",
       "Length: 93, dtype: int64"
      ]
     },
     "execution_count": 59,
     "metadata": {},
     "output_type": "execute_result"
    }
   ],
   "source": [
    "global_data[(global_data['operativa'] == 'TRFMBW')].count().compute()"
   ]
  },
  {
   "cell_type": "code",
   "execution_count": 60,
   "id": "8f116cc3",
   "metadata": {},
   "outputs": [
    {
     "data": {
      "text/plain": [
       "Unnamed: 0               7575383\n",
       "timestamp                7575383\n",
       "ID                       7575383\n",
       "rowid                    7575383\n",
       "canal                    7575383\n",
       "                          ...   \n",
       "amount_categories        7575383\n",
       "cons_freq_fingerprint    7575383\n",
       "cons_freq_clientid       7575383\n",
       "cons_freq_ipaddress      7575383\n",
       "cons_time_fingerprint    7575383\n",
       "Length: 93, dtype: int64"
      ]
     },
     "execution_count": 60,
     "metadata": {},
     "output_type": "execute_result"
    }
   ],
   "source": [
    "global_data[(global_data['operativa'] == 'TRFSEP')].count().compute()"
   ]
  },
  {
   "cell_type": "code",
   "execution_count": 62,
   "id": "53039edb",
   "metadata": {},
   "outputs": [],
   "source": [
    "#select all operativas that refer to transfers \n",
    "target_col = 'operativa'\n",
    "\n",
    "transfers = global_data[(global_data[target_col] == 'TRFIBS') | (global_data[target_col] == 'TRFINT') | \n",
    "                        (global_data[target_col] == 'TRFIPS') | (global_data[target_col] == 'TRFITC') |\n",
    "                        (global_data[target_col] == 'TRFITI') | (global_data[target_col] == 'TRFMBW') |\n",
    "                        (global_data[target_col] == 'TRFSEP')].copy()"
   ]
  },
  {
   "cell_type": "code",
   "execution_count": 63,
   "id": "663b5fe4",
   "metadata": {
    "scrolled": false
   },
   "outputs": [
    {
     "data": {
      "text/plain": [
       "['C:/Users/BeatrizCarvalho/transfers.csv']"
      ]
     },
     "execution_count": 63,
     "metadata": {},
     "output_type": "execute_result"
    }
   ],
   "source": [
    "#save all transfers data in a single csv file\n",
    "transfers.to_csv(r\"C:\\Users\\BeatrizCarvalho\\0transfers_nd.csv\", index = False, single_file = True)"
   ]
  },
  {
   "cell_type": "code",
   "execution_count": 64,
   "id": "95a495a8",
   "metadata": {},
   "outputs": [
    {
     "data": {
      "text/plain": [
       "15648273"
      ]
     },
     "execution_count": 64,
     "metadata": {},
     "output_type": "execute_result"
    }
   ],
   "source": [
    "#number of rows in the transfers csv\n",
    "len(transfers)"
   ]
  },
  {
   "cell_type": "code",
   "execution_count": 2,
   "id": "ae9ef738",
   "metadata": {},
   "outputs": [],
   "source": [
    "#after operativas_analysis_transfers there was the conclusion to eliminate operativas TRFITI e TRFIBS\n",
    "target_col = 'operativa'\n",
    "\n",
    "transfers_opr = global_data[(global_data[target_col] == 'TRFINT') | (global_data[target_col] == 'TRFIPS') | \n",
    "                            (global_data[target_col] == 'TRFITC') | (global_data[target_col] == 'TRFMBW') |\n",
    "                            (global_data[target_col] == 'TRFSEP')].copy()"
   ]
  },
  {
   "cell_type": "code",
   "execution_count": 6,
   "id": "2774a08e",
   "metadata": {},
   "outputs": [
    {
     "data": {
      "text/plain": [
       "['C:/Users/BeatrizCarvalho/transfers_opr.csv']"
      ]
     },
     "execution_count": 6,
     "metadata": {},
     "output_type": "execute_result"
    }
   ],
   "source": [
    "#after operativas filtering savel all transfers data in a single csv file\n",
    "transfers_opr.to_csv(r\"C:\\Users\\BeatrizCarvalho\\0transfers_nd_corr.csv\", index = False, single_file = True)"
   ]
  },
  {
   "cell_type": "code",
   "execution_count": null,
   "id": "fcdaa0b6",
   "metadata": {},
   "outputs": [],
   "source": [
    "#number of rows of the transfers csv after duplicates removal and the correlation analysis\n",
    "len(transfers_opr)"
   ]
  },
  {
   "cell_type": "code",
   "execution_count": 79,
   "id": "3e9b5626",
   "metadata": {},
   "outputs": [
    {
     "data": {
      "text/plain": [
       "Unnamed: 0               569\n",
       "timestamp                569\n",
       "ID                       569\n",
       "rowid                    569\n",
       "canal                    569\n",
       "                        ... \n",
       "amount_categories        569\n",
       "cons_freq_fingerprint    569\n",
       "cons_freq_clientid       569\n",
       "cons_freq_ipaddress      569\n",
       "cons_time_fingerprint    569\n",
       "Length: 93, dtype: int64"
      ]
     },
     "execution_count": 79,
     "metadata": {},
     "output_type": "execute_result"
    }
   ],
   "source": [
    "#number of frauds in transfers\n",
    "target_col = 'is_fraud'\n",
    "transfers[(transfers[target_col] == 1)].count().compute()"
   ]
  },
  {
   "cell_type": "code",
   "execution_count": 3,
   "id": "8e890795",
   "metadata": {},
   "outputs": [
    {
     "data": {
      "text/plain": [
       "['C:/Users/BeatrizCarvalho/frauds_transfers_corr.csv']"
      ]
     },
     "execution_count": 3,
     "metadata": {},
     "output_type": "execute_result"
    }
   ],
   "source": [
    "#select only the frauds in transfers after the correlation analysis and the duplicates removal \n",
    "\n",
    "#transfers frauds\n",
    "target_col = 'is_fraud'\n",
    "frauds_transfers_corr = transfers_opr[(transfers_opr[target_col] == 1)].copy()\n",
    "\n",
    "#save csv file \n",
    "frauds_transfers_corr.to_csv(r\"C:\\Users\\BeatrizCarvalho\\0frauds_transfers_nd_corr.csv\", index = False, single_file = True)"
   ]
  },
  {
   "cell_type": "code",
   "execution_count": 4,
   "id": "f6967d6f",
   "metadata": {},
   "outputs": [
    {
     "data": {
      "text/plain": [
       "['C:/Users/BeatrizCarvalho/nonfrauds_transfers_corr.csv']"
      ]
     },
     "execution_count": 4,
     "metadata": {},
     "output_type": "execute_result"
    }
   ],
   "source": [
    "#select only the non-frauds in transfers after the correlation analysis and the duplicates removal \n",
    "\n",
    "#transfers non-frauds\n",
    "target_col = 'is_fraud'\n",
    "nonfrauds_transfers_corr = transfers_opr[(transfers_opr[target_col] == 0)].copy()\n",
    "\n",
    "#save csv file\n",
    "nonfrauds_transfers_corr.to_csv(r\"C:\\Users\\BeatrizCarvalho\\0nonfrauds_transfers_nd_corr.csv\", index = False, single_file = True)"
   ]
  },
  {
   "cell_type": "code",
   "execution_count": null,
   "id": "3b9b04f8",
   "metadata": {},
   "outputs": [],
   "source": []
  }
 ],
 "metadata": {
  "kernelspec": {
   "display_name": "Python 3 (ipykernel)",
   "language": "python",
   "name": "python3"
  },
  "language_info": {
   "codemirror_mode": {
    "name": "ipython",
    "version": 3
   },
   "file_extension": ".py",
   "mimetype": "text/x-python",
   "name": "python",
   "nbconvert_exporter": "python",
   "pygments_lexer": "ipython3",
   "version": "3.9.9"
  }
 },
 "nbformat": 4,
 "nbformat_minor": 5
}
