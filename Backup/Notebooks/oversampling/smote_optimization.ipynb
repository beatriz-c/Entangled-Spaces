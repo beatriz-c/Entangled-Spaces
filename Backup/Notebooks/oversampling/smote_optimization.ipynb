{
 "cells": [
  {
   "cell_type": "code",
   "execution_count": 58,
   "metadata": {},
   "outputs": [],
   "source": [
    "# data loading\n",
    "import pandas as pd\n",
    "\n",
    "predata = pd.read_csv('correct_data.csv', low_memory=False)\n",
    "\n",
    "# create column weekday\n",
    "predata['weekday'] = pd.to_datetime(predata['timestamp']).apply(lambda x: x.weekday())\n",
    "\n",
    "# create column month\n",
    "predata['month'] = pd.DatetimeIndex(predata['timestamp']).month\n",
    "\n",
    "# drop column timestamp that was used for creating weekday and month columns\n",
    "predata.drop(['timestamp'], axis=1, inplace=True)\n",
    "\n",
    "\n",
    "# renaming browsers\n",
    "def assign_brws_fam(x):\n",
    "    changes = {\n",
    "        \"m bot\": \"other\",  # 15\n",
    "        \"android\": \"other\",  # 104\n",
    "        \"1password\": \"other\",  # 57\n",
    "        \"chrome mobile\": \"chrome\",  # 735168\n",
    "        \"chrome mobile webview\": \"chrome\",  # 2681\n",
    "        \"mobile safari\": \"safari\",  # 338413\n",
    "        \"mobile safari ui/wkwebview\": \"safari\",  # 4190964\n",
    "        \"firefox mobile\": \"firefox\",  # 5515\n",
    "        \"edge mobile\": \"edge\"\n",
    "    }\n",
    "\n",
    "    if x in changes.keys():\n",
    "        return changes[x]\n",
    "    else:\n",
    "        return x\n",
    "\n",
    "\n",
    "predata[\"browser_family\"] = predata[\"browser_family\"].apply(lambda x: assign_brws_fam(x))\n",
    "\n",
    "\n",
    "# renaming os\n",
    "def assign_os_fam(x):\n",
    "    changes = {\n",
    "        \"windows phone\": \"windows\"  # 863\n",
    "    }\n",
    "\n",
    "    if x in changes.keys():\n",
    "        return changes[x]\n",
    "    else:\n",
    "        return x\n",
    "\n",
    "\n",
    "predata[\"os_family\"] = predata[\"os_family\"].apply(lambda x: assign_os_fam(x))\n",
    "\n",
    "# remove spaces on browsers and os\n",
    "cols = ['os_family', 'browser_family']\n",
    "\n",
    "for col in cols:\n",
    "    predata[col] = predata[col].apply(lambda x: x.replace(' ', ''))\n",
    "\n",
    "\n",
    "# make all lowercase\n",
    "def convert_column_lower(column, df):\n",
    "    df[column] = df[column].str.lower()\n",
    "\n",
    "\n",
    "columns_to_lower = ['canal', 'operativa', 'browser_family', 'os_family', 'ipaddress', 'trusted_indicator']\n",
    "for col in columns_to_lower:\n",
    "    predata[col] = predata[col].str.lower()\n",
    "\n",
    "# remove dots from ipaddress\n",
    "predata['ipaddress'] = predata['ipaddress'].apply(lambda x: \"\".join(x.split(\".\")))\n",
    "\n",
    "\n",
    "# merge is_tablet, is_pc, is_mobile, is_touch on a new column called device\n",
    "def deviceselect(x):\n",
    "    # if True in tablet and touch\n",
    "    if x['is_tablet'] and x['is_touch']:\n",
    "        return 'ttablet'\n",
    "\n",
    "    # if True in pc and touch\n",
    "    if x['is_pc'] and x['is_touch']:\n",
    "        return 'tpc'\n",
    "\n",
    "    # if True in mobile and touch\n",
    "    if x['is_mobile'] and x['is_touch']:\n",
    "        return 'tmobile'\n",
    "\n",
    "    # if True only in mobile\n",
    "    if x['is_mobile']:\n",
    "        return 'mobile'\n",
    "\n",
    "    # if True only in pc\n",
    "    if x['is_pc']:\n",
    "        return 'pc'\n",
    "\n",
    "    # if True only in tablet\n",
    "    if x['is_tablet']:\n",
    "        return 'tablet'\n",
    "\n",
    "        # if none of the above return otherd\n",
    "    return 'otherd'\n",
    "\n",
    "\n",
    "predata['device'] = predata.apply(deviceselect, axis=1)\n",
    "\n",
    "# drop columns that were merged on the new device column\n",
    "predata.drop(['is_pc', 'is_tablet', 'is_mobile', 'is_touch'], axis=1, inplace=True)\n",
    "\n",
    "# change data types for columns that need to be categorical\n",
    "convert_dict = {'clientid': object, 'entity': object, 'reference': object, 'iban_orig': object, 'iban_dest': object,\n",
    "                'hour': object, 'week': object, 'weekday': object, 'month': object}\n",
    "\n",
    "predata = predata.astype(convert_dict)\n",
    "\n",
    "frauds = predata[predata['is_fraud'] == 1].copy(deep=True)\n",
    "non_frauds = predata[predata['is_fraud'] == 0].sample(500_000).copy(deep=True)\n",
    "del predata\n",
    "result = pd.concat([non_frauds, frauds], ignore_index=True).copy(deep=True)\n",
    "del frauds, non_frauds"
   ]
  },
  {
   "cell_type": "code",
   "execution_count": 61,
   "metadata": {},
   "outputs": [
    {
     "name": "stderr",
     "output_type": "stream",
     "text": [
      "/var/folders/g7/nkrn8hv17wd0kycz8srzhf7r0000gn/T/ipykernel_1245/2943095793.py:1: FutureWarning: In a future version, the Index constructor will not infer numeric dtypes when passed object-dtype sequences (matching Series behavior)\n",
      "  dums = pd.get_dummies(result,\n"
     ]
    }
   ],
   "source": [
    "dums = pd.get_dummies(result,\n",
    "                      columns=['canal', 'operativa', 'trusted_indicator', 'browser_family', 'os_family', 'hour', 'week',\n",
    "                               'weekday', 'month', 'device'])"
   ]
  },
  {
   "cell_type": "code",
   "execution_count": 62,
   "metadata": {},
   "outputs": [],
   "source": [
    "y = dums['is_fraud']\n",
    "\n",
    "X = dums.drop('is_fraud', axis=1)"
   ]
  },
  {
   "cell_type": "code",
   "execution_count": 64,
   "metadata": {},
   "outputs": [],
   "source": [
    "X = X.apply(pd.to_numeric, errors='ignore')"
   ]
  },
  {
   "cell_type": "code",
   "execution_count": 65,
   "metadata": {},
   "outputs": [
    {
     "name": "stdout",
     "output_type": "stream",
     "text": [
      "<class 'pandas.core.frame.DataFrame'>\n",
      "RangeIndex: 500569 entries, 0 to 500568\n",
      "Columns: 134 entries, entity to device_ttablet\n",
      "dtypes: float64(2), int64(5), object(1), uint8(126)\n",
      "memory usage: 90.7+ MB\n"
     ]
    }
   ],
   "source": [
    "X.info()"
   ]
  },
  {
   "cell_type": "code",
   "execution_count": 66,
   "metadata": {},
   "outputs": [
    {
     "data": {
      "text/plain": [
       "entity              int64\n",
       "reference           int64\n",
       "iban_orig           int64\n",
       "iban_dest           int64\n",
       "amount            float64\n",
       "                   ...   \n",
       "device_otherd       uint8\n",
       "device_pc           uint8\n",
       "device_tmobile      uint8\n",
       "device_tpc          uint8\n",
       "device_ttablet      uint8\n",
       "Length: 134, dtype: object"
      ]
     },
     "execution_count": 66,
     "metadata": {},
     "output_type": "execute_result"
    }
   ],
   "source": [
    "X.dtypes"
   ]
  },
  {
   "cell_type": "code",
   "execution_count": 67,
   "metadata": {},
   "outputs": [],
   "source": [
    "# TODO: Needs to be back to none when reverting\n",
    "def adjust_ip(ip):\n",
    "    try:\n",
    "        return int(ip)\n",
    "    except:\n",
    "        return 0\n",
    "\n",
    "\n",
    "X['ipaddress'] = X['ipaddress'].apply(lambda x: adjust_ip(x))"
   ]
  },
  {
   "cell_type": "code",
   "execution_count": 68,
   "metadata": {},
   "outputs": [
    {
     "data": {
      "text/plain": [
       "entity              int64\n",
       "reference           int64\n",
       "iban_orig           int64\n",
       "iban_dest           int64\n",
       "amount            float64\n",
       "                   ...   \n",
       "device_otherd       uint8\n",
       "device_pc           uint8\n",
       "device_tmobile      uint8\n",
       "device_tpc          uint8\n",
       "device_ttablet      uint8\n",
       "Length: 134, dtype: object"
      ]
     },
     "execution_count": 68,
     "metadata": {},
     "output_type": "execute_result"
    }
   ],
   "source": [
    "X.dtypes"
   ]
  },
  {
   "cell_type": "code",
   "execution_count": 69,
   "metadata": {},
   "outputs": [],
   "source": [
    "y = y.apply(pd.to_numeric)"
   ]
  },
  {
   "cell_type": "code",
   "execution_count": 70,
   "metadata": {},
   "outputs": [],
   "source": [
    "from imblearn.over_sampling import SMOTE\n",
    "\n",
    "over = SMOTE()\n",
    "X_res, y_res = over.fit_resample(X, y)"
   ]
  },
  {
   "cell_type": "code",
   "execution_count": 71,
   "metadata": {},
   "outputs": [
    {
     "data": {
      "text/plain": [
       "(1000000, 134)"
      ]
     },
     "execution_count": 71,
     "metadata": {},
     "output_type": "execute_result"
    }
   ],
   "source": [
    "X_res.shape"
   ]
  },
  {
   "cell_type": "code",
   "execution_count": 72,
   "metadata": {},
   "outputs": [
    {
     "name": "stderr",
     "output_type": "stream",
     "text": [
      "/var/folders/g7/nkrn8hv17wd0kycz8srzhf7r0000gn/T/ipykernel_1245/1130022697.py:1: PerformanceWarning: DataFrame is highly fragmented.  This is usually the result of calling `frame.insert` many times, which has poor performance.  Consider joining all columns at once using pd.concat(axis=1) instead. To get a de-fragmented frame, use `newframe = frame.copy()`\n",
      "  X_res['is_fraud'] = y_res.copy()\n"
     ]
    }
   ],
   "source": [
    "X_res['is_fraud'] = y_res.copy()"
   ]
  },
  {
   "cell_type": "code",
   "execution_count": 73,
   "metadata": {},
   "outputs": [
    {
     "data": {
      "text/plain": [
       "(1000000, 135)"
      ]
     },
     "execution_count": 73,
     "metadata": {},
     "output_type": "execute_result"
    }
   ],
   "source": [
    "X_res.shape"
   ]
  },
  {
   "cell_type": "code",
   "execution_count": 74,
   "metadata": {},
   "outputs": [
    {
     "data": {
      "text/plain": [
       "500000"
      ]
     },
     "execution_count": 74,
     "metadata": {},
     "output_type": "execute_result"
    }
   ],
   "source": [
    "len(X_res[X_res['is_fraud'] == 0])"
   ]
  },
  {
   "cell_type": "code",
   "execution_count": 75,
   "metadata": {},
   "outputs": [],
   "source": [
    "safe_X = X_res.copy(deep=True)"
   ]
  },
  {
   "cell_type": "code",
   "execution_count": 76,
   "metadata": {},
   "outputs": [
    {
     "data": {
      "text/plain": [
       "{'mobile', 'otherd', 'pc', 'tmobile', 'tpc', 'ttablet'}"
      ]
     },
     "execution_count": 76,
     "metadata": {},
     "output_type": "execute_result"
    }
   ],
   "source": [
    "set(result['device'])"
   ]
  },
  {
   "cell_type": "code",
   "execution_count": 77,
   "metadata": {},
   "outputs": [
    {
     "data": {
      "text/plain": [
       "(1000000, 135)"
      ]
     },
     "execution_count": 77,
     "metadata": {},
     "output_type": "execute_result"
    }
   ],
   "source": [
    "X_res.shape"
   ]
  },
  {
   "cell_type": "code",
   "execution_count": 78,
   "metadata": {},
   "outputs": [],
   "source": [
    "dummies_cols = [('canal', 'mbe'), ('operativa', 'trfint'), ('trusted_indicator', 'unknown'),\n",
    "                ('browser_family', 'chrome'), ('os_family', 'android'), ('hour', '17'), ('week', '46'), ('weekday', '3'),\n",
    "                ('month', '9'), ('device', 'mobile')]"
   ]
  },
  {
   "cell_type": "code",
   "execution_count": 79,
   "metadata": {},
   "outputs": [],
   "source": [
    "def get_proper_value(df, created_cols, origin_col, default_val):\n",
    "    proper_result = []\n",
    "\n",
    "    for _, row in df.iterrows():\n",
    "        curr_values = row[created_cols]\n",
    "        was_set = False\n",
    "        for i, val in enumerate(curr_values.values):\n",
    "            if val == 1:\n",
    "                was_set = True\n",
    "                to_append = str(created_cols[i])\n",
    "                to_append = to_append.replace(origin_col, '')\n",
    "                proper_result.append(to_append)\n",
    "                break\n",
    "        if not was_set:\n",
    "            proper_result.append(default_val)\n",
    "    return proper_result"
   ]
  },
  {
   "cell_type": "code",
   "execution_count": 80,
   "metadata": {},
   "outputs": [],
   "source": [
    "for (dummie, default) in dummies_cols:\n",
    "    curr_dummie = dummie + '_'\n",
    "    used_cols = [curr for curr in X_res.columns if curr_dummie in curr]\n",
    "    X_res[dummie] = get_proper_value(X_res, used_cols, curr_dummie, default)"
   ]
  },
  {
   "cell_type": "code",
   "execution_count": 81,
   "metadata": {},
   "outputs": [],
   "source": [
    "remove_cols = ['canal_', 'operativa_', 'trusted_indicator_', 'browser_family_', 'os_family_', 'hour_', 'week_', 'weekday_',\n",
    "               'month_', 'device_']"
   ]
  },
  {
   "cell_type": "code",
   "execution_count": 82,
   "metadata": {},
   "outputs": [],
   "source": [
    "for rem in remove_cols:\n",
    "    used_cols = [curr for curr in X_res.columns if rem in curr]\n",
    "    for c in used_cols:\n",
    "        X_res.drop(c, inplace=True, axis=1)"
   ]
  },
  {
   "cell_type": "code",
   "execution_count": 83,
   "metadata": {},
   "outputs": [],
   "source": [
    "def adjust_ip_reverse(ip):\n",
    "    if ip == 0:\n",
    "        return 'unknown'\n",
    "    return ip\n",
    "\n",
    "X_res['ipaddress'] = X_res['ipaddress'].apply(lambda x: adjust_ip_reverse(x))"
   ]
  },
  {
   "cell_type": "code",
   "execution_count": 84,
   "metadata": {},
   "outputs": [],
   "source": [
    "X_res.to_csv('res.csv', index=False)"
   ]
  },
  {
   "cell_type": "code",
   "execution_count": null,
   "metadata": {},
   "outputs": [],
   "source": []
  }
 ],
 "metadata": {
  "kernelspec": {
   "display_name": "Python 3 (ipykernel)",
   "language": "python",
   "name": "python3"
  },
  "language_info": {
   "codemirror_mode": {
    "name": "ipython",
    "version": 3
   },
   "file_extension": ".py",
   "mimetype": "text/x-python",
   "name": "python",
   "nbconvert_exporter": "python",
   "pygments_lexer": "ipython3",
   "version": "3.9.9"
  }
 },
 "nbformat": 4,
 "nbformat_minor": 1
}
