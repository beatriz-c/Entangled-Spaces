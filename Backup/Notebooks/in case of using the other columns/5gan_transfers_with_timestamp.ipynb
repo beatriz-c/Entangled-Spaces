{
 "cells": [
  {
   "cell_type": "code",
   "execution_count": 1,
   "id": "801b6b60",
   "metadata": {},
   "outputs": [],
   "source": [
    "#data loading\n",
    "import pandas as pd\n",
    "import zipfile\n",
    "\n",
    "predata = pd.read_csv('5transfers_rund.csv')"
   ]
  },
  {
   "cell_type": "code",
   "execution_count": null,
   "id": "027b3b0d",
   "metadata": {},
   "outputs": [],
   "source": [
    "#imbalance of the dataset\n",
    "predata['is_fraud'].value_counts()"
   ]
  },
  {
   "cell_type": "code",
   "execution_count": 2,
   "id": "243ac753",
   "metadata": {},
   "outputs": [],
   "source": [
    "#ignore warnings from ctgan\n",
    "import sys\n",
    "import warnings\n",
    "\n",
    "if not sys.warnoptions:\n",
    "    warnings.simplefilter(\"ignore\")"
   ]
  },
  {
   "cell_type": "code",
   "execution_count": null,
   "id": "8dc4d9d7",
   "metadata": {},
   "outputs": [],
   "source": [
    "#visualize the whole output\n",
    "pd.set_option('display.max_columns', None)\n",
    "pd.set_option('display.max_rows', None)"
   ]
  },
  {
   "cell_type": "code",
   "execution_count": null,
   "id": "3544fdfc",
   "metadata": {
    "scrolled": true
   },
   "outputs": [],
   "source": [
    "#initial number of columns and rows of the dataframe\n",
    "predata.shape"
   ]
  },
  {
   "cell_type": "code",
   "execution_count": null,
   "id": "14f83a9e",
   "metadata": {},
   "outputs": [],
   "source": [
    "#columns of the dataframe\n",
    "predata.columns"
   ]
  },
  {
   "cell_type": "code",
   "execution_count": 3,
   "id": "aabe1831",
   "metadata": {
    "scrolled": true
   },
   "outputs": [
    {
     "name": "stdout",
     "output_type": "stream",
     "text": [
      "Epoch 1, Loss G:  2.4302,Loss D: -0.3505\n"
     ]
    }
   ],
   "source": [
    "#generate synthetic frauds  \n",
    "from sdv.tabular import CTGAN\n",
    "\n",
    "model = CTGAN(verbose = True, epochs = 1, log_frequency = False)  #remove epochs, default it's 300\n",
    "\n",
    "model.fit(predata) "
   ]
  },
  {
   "cell_type": "code",
   "execution_count": 4,
   "id": "4832a749",
   "metadata": {},
   "outputs": [],
   "source": [
    "#number of frauds to generate \n",
    "f = len(predata[(predata['is_fraud'] == 0)]) - len(predata[(predata['is_fraud'] == 1)])"
   ]
  },
  {
   "cell_type": "code",
   "execution_count": 5,
   "id": "bc815e27",
   "metadata": {},
   "outputs": [
    {
     "name": "stderr",
     "output_type": "stream",
     "text": [
      "Sampling conditions: 100%|█████████████████████████████████████████████████████████| 6543/6543 [02:30<00:00, 43.44it/s]\n"
     ]
    }
   ],
   "source": [
    "#conditional sampling\n",
    "from sdv.sampling import Condition\n",
    "\n",
    "#generate only values that satisfy this condition\n",
    "condition = Condition({'is_fraud': 1}, num_rows = f)\n",
    "\n",
    "#generate synthetic data\n",
    "frauds_data = model.sample_conditions(conditions = [condition])"
   ]
  },
  {
   "cell_type": "code",
   "execution_count": 6,
   "id": "4e216a28",
   "metadata": {},
   "outputs": [],
   "source": [
    "#create the new dataframe\n",
    "predatabalanced = pd.concat([predata, frauds_data], ignore_index = True) \n",
    "\n",
    "#save the balanced dataset\n",
    "predatabalanced.to_csv(\"2transfers_balanced_gan+rund.csv\", index = False)"
   ]
  },
  {
   "cell_type": "code",
   "execution_count": null,
   "id": "5a44e3a9",
   "metadata": {},
   "outputs": [],
   "source": [
    "#make sure the dataset is now balanced\n",
    "predatabalanced['is_fraud'].value_counts()"
   ]
  },
  {
   "cell_type": "code",
   "execution_count": null,
   "id": "2560cfaa",
   "metadata": {},
   "outputs": [],
   "source": [
    "#select all transfers frauds after balance and save in a csv file\n",
    "#transfers frauds\n",
    "target_col = 'is_fraud'\n",
    "frauds_transfers = predatabalanced[(predatabalanced[target_col] == 1)].copy()\n",
    "\n",
    "#save csv file\n",
    "frauds_transfers.to_csv(\"5transfers_balanced_gan+rund.csv\", index = False)"
   ]
  },
  {
   "cell_type": "code",
   "execution_count": 7,
   "id": "adfeabc7",
   "metadata": {
    "scrolled": true
   },
   "outputs": [
    {
     "data": {
      "text/plain": [
       "((7681, 19), (14224, 19))"
      ]
     },
     "execution_count": 7,
     "metadata": {},
     "output_type": "execute_result"
    }
   ],
   "source": [
    "#comparision of the shape of the actual data and the generated data\n",
    "from table_evaluator import load_data, TableEvaluator\n",
    "\n",
    "predata.shape, predatabalanced.shape"
   ]
  },
  {
   "cell_type": "code",
   "execution_count": 12,
   "id": "0a84b171",
   "metadata": {},
   "outputs": [
    {
     "data": {
      "text/plain": [
       "0.49317536138808077"
      ]
     },
     "execution_count": 12,
     "metadata": {},
     "output_type": "execute_result"
    }
   ],
   "source": [
    "#compare dataframes by statistical tests\n",
    "from sdv.metrics.tabular import CSTest, KSTest, GMLogLikelihood\n",
    "\n",
    "#chi-2 test to compare the distributions of the discrete (categorical/boolean) columns\n",
    "CSTest.compute(predata, predatabalanced)"
   ]
  },
  {
   "cell_type": "code",
   "execution_count": 11,
   "id": "57d1c4fb",
   "metadata": {},
   "outputs": [
    {
     "data": {
      "text/plain": [
       "0.9058244683238915"
      ]
     },
     "execution_count": 11,
     "metadata": {},
     "output_type": "execute_result"
    }
   ],
   "source": [
    "#two-sample kolmogorov–smirnov test to compare the distributions of numerical columns using the empirical CDF\n",
    "KSTest.compute(predata, predatabalanced)"
   ]
  },
  {
   "cell_type": "code",
   "execution_count": 15,
   "id": "a9a06ac1",
   "metadata": {},
   "outputs": [
    {
     "data": {
      "text/plain": [
       "-72.44870295447264"
      ]
     },
     "execution_count": 15,
     "metadata": {},
     "output_type": "execute_result"
    }
   ],
   "source": [
    "#fits multiple GaussianMixture models to the real data and evaluates how likely it is that the synthetic data belongs to the \n",
    "#same distribution as the real data\n",
    "GMLogLikelihood.compute(predata, predatabalanced)"
   ]
  },
  {
   "cell_type": "code",
   "execution_count": null,
   "id": "3ddb6558",
   "metadata": {},
   "outputs": [],
   "source": []
  }
 ],
 "metadata": {
  "kernelspec": {
   "display_name": "Python 3 (ipykernel)",
   "language": "python",
   "name": "python3"
  },
  "language_info": {
   "codemirror_mode": {
    "name": "ipython",
    "version": 3
   },
   "file_extension": ".py",
   "mimetype": "text/x-python",
   "name": "python",
   "nbconvert_exporter": "python",
   "pygments_lexer": "ipython3",
   "version": "3.9.9"
  }
 },
 "nbformat": 4,
 "nbformat_minor": 5
}
