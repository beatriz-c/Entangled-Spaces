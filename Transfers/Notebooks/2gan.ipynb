{
 "cells": [
  {
   "cell_type": "code",
   "execution_count": 1,
   "id": "801b6b60",
   "metadata": {
    "scrolled": true
   },
   "outputs": [
    {
     "name": "stderr",
     "output_type": "stream",
     "text": [
      "C:\\Users\\BeatrizCarvalho\\AppData\\Local\\Programs\\Python\\Python39\\lib\\site-packages\\IPython\\core\\interactiveshell.py:3457: DtypeWarning: Columns (4) have mixed types.Specify dtype option on import or set low_memory=False.\n",
      "  exec(code_obj, self.user_global_ns, self.user_ns)\n"
     ]
    }
   ],
   "source": [
    "#data loading\n",
    "import pandas as pd\n",
    "\n",
    "predata = pd.read_csv(r'C:/Users/BeatrizCarvalho/OneDrive - Closer Consultoria Lda/Documents/Entangled-Spaces/Transfers/Datasets/0transfers_nd_corr.csv')"
   ]
  },
  {
   "cell_type": "code",
   "execution_count": 5,
   "id": "027b3b0d",
   "metadata": {},
   "outputs": [
    {
     "data": {
      "text/plain": [
       "0    500000\n",
       "1       569\n",
       "Name: is_fraud, dtype: int64"
      ]
     },
     "execution_count": 5,
     "metadata": {},
     "output_type": "execute_result"
    }
   ],
   "source": [
    "#imbalance of the dataset\n",
    "predata['is_fraud'].value_counts()"
   ]
  },
  {
   "cell_type": "code",
   "execution_count": 6,
   "id": "3544fdfc",
   "metadata": {
    "scrolled": true
   },
   "outputs": [
    {
     "data": {
      "text/plain": [
       "(500569, 19)"
      ]
     },
     "execution_count": 6,
     "metadata": {},
     "output_type": "execute_result"
    }
   ],
   "source": [
    "#initial number of columns and rows of the dataframe\n",
    "predata.shape"
   ]
  },
  {
   "cell_type": "code",
   "execution_count": 5,
   "id": "8dc4d9d7",
   "metadata": {},
   "outputs": [],
   "source": [
    "#visualize the whole output\n",
    "pd.set_option('display.max_columns', None)\n",
    "pd.set_option('display.max_rows', None)"
   ]
  },
  {
   "cell_type": "code",
   "execution_count": 6,
   "id": "243ac753",
   "metadata": {},
   "outputs": [],
   "source": [
    "#ignore warnings from ctgan\n",
    "import sys\n",
    "import warnings\n",
    "\n",
    "if not sys.warnoptions:\n",
    "    warnings.simplefilter(\"ignore\")"
   ]
  },
  {
   "cell_type": "code",
   "execution_count": null,
   "id": "aabe1831",
   "metadata": {
    "scrolled": false
   },
   "outputs": [],
   "source": [
    "#generate synthetic frauds  \n",
    "from sdv.tabular import CTGAN\n",
    "\n",
    "model = CTGAN(epochs = 100, verbose = True) \n",
    "\n",
    "model.fit(predata) "
   ]
  },
  {
   "cell_type": "code",
   "execution_count": null,
   "id": "e55c073f",
   "metadata": {},
   "outputs": [],
   "source": [
    "#save the trained model\n",
    "model.save(r'C:\\Users\\BeatrizCarvalho\\OneDrive - Closer Consultoria Lda\\Documents\\Entangled-Spaces\\Transfers\\Datasets\\gan.pkl')"
   ]
  },
  {
   "cell_type": "code",
   "execution_count": null,
   "id": "4832a749",
   "metadata": {},
   "outputs": [],
   "source": [
    "#number of frauds to generate \n",
    "f = len(predata[(predata['is_fraud'] == 0)]) - len(predata[(predata['is_fraud'] == 1)])"
   ]
  },
  {
   "cell_type": "code",
   "execution_count": null,
   "id": "bc815e27",
   "metadata": {},
   "outputs": [],
   "source": [
    "#conditional sampling\n",
    "from sdv.sampling import Condition\n",
    "\n",
    "#generate only values that satisfy this condition\n",
    "condition = Condition({'is_fraud': 1}, num_rows = f)\n",
    "\n",
    "#generate synthetic data\n",
    "frauds_data = model.sample_conditions(conditions = [condition])"
   ]
  },
  {
   "cell_type": "code",
   "execution_count": null,
   "id": "4e216a28",
   "metadata": {},
   "outputs": [],
   "source": [
    "#create the new dataframe\n",
    "predatabalanced = pd.concat([predata, frauds_data], ignore_index = True) "
   ]
  },
  {
   "cell_type": "code",
   "execution_count": null,
   "id": "5a44e3a9",
   "metadata": {},
   "outputs": [],
   "source": [
    "#make sure the dataset is now balanced\n",
    "predatabalanced['is_fraud'].value_counts()"
   ]
  },
  {
   "cell_type": "code",
   "execution_count": null,
   "id": "adfeabc7",
   "metadata": {
    "scrolled": true
   },
   "outputs": [],
   "source": [
    "#comparision of the shape of the actual data and the generated data\n",
    "from table_evaluator import load_data, TableEvaluator\n",
    "\n",
    "predata.shape, predatabalanced.shape"
   ]
  },
  {
   "cell_type": "code",
   "execution_count": null,
   "id": "2aab6a42",
   "metadata": {},
   "outputs": [],
   "source": [
    "#evaluate the synthetic data\n",
    "from sdv.evaluation import evaluate\n",
    "\n",
    "#separate scores \n",
    "evaluate(predatabalanced, predata, metrics = ['CSTest', 'KSTest', 'GMLogLikelihood'], aggregate = False)\n",
    "\n",
    "#CSTest - chi-2 test to compare the distributions of the discrete (categorical/boolean) columns returns the average of the \n",
    "#p-values obtained across all the columns\n",
    "#KSTest - 2 sample kolmogorov–smirnov test to compare the distributions of numerical columns using the empirical CDF returns \n",
    "#the average of the KS statistic values obtained across all the columns\n",
    "#GMLogLikelihood - fits GMM to the real data and evaluates how likely the synthetic data belongs to the same distribution as \n",
    "#the real data"
   ]
  },
  {
   "cell_type": "code",
   "execution_count": null,
   "id": "6ee06ded",
   "metadata": {},
   "outputs": [],
   "source": [
    "#evaluate how similar the two dataframes are by graphics \n",
    "table_evaluator =  TableEvaluator(predata, predatabalanced) \n",
    "\n",
    "table_evaluator.visual_evaluation()"
   ]
  },
  {
   "cell_type": "code",
   "execution_count": null,
   "id": "43e44f50",
   "metadata": {},
   "outputs": [],
   "source": [
    "#save the balanced dataset\n",
    "predatabalanced.to_csv(r'C:/Users/BeatrizCarvalho/OneDrive - Closer Consultoria Lda/Documents/Entangled-Spaces/Datasets/2transfers_balanced_gans+rund.csv', index = False)"
   ]
  }
 ],
 "metadata": {
  "kernelspec": {
   "display_name": "Python 3 (ipykernel)",
   "language": "python",
   "name": "python3"
  },
  "language_info": {
   "codemirror_mode": {
    "name": "ipython",
    "version": 3
   },
   "file_extension": ".py",
   "mimetype": "text/x-python",
   "name": "python",
   "nbconvert_exporter": "python",
   "pygments_lexer": "ipython3",
   "version": "3.9.9"
  }
 },
 "nbformat": 4,
 "nbformat_minor": 5
}
