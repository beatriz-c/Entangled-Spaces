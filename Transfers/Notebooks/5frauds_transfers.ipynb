{
 "cells": [
  {
   "cell_type": "code",
   "execution_count": null,
   "id": "6f52742d",
   "metadata": {},
   "outputs": [],
   "source": [
    "#load the original data set after cleaning\n",
    "import pandas as pd\n",
    "\n",
    "fraudsb = pd.read_csv(r'C:/Users/BeatrizCarvalho/OneDrive - Closer Consultoria Lda/Documents/Entangled-Spaces/Transfers/Datasets/0transfers_nd_corr.csv')"
   ]
  },
  {
   "cell_type": "code",
   "execution_count": null,
   "id": "330373e9",
   "metadata": {},
   "outputs": [],
   "source": [
    "#profiling \n",
    "from pandas_profiling import ProfileReport\n",
    "\n",
    "#ProfileReport(predata.sample(n = 10000)) randomizes data order and selects representative sample\n",
    "prof = ProfileReport(fraudsb, minimal = True)             \n",
    "prof.to_file(output_file = r'C:/Users/BeatrizCarvalho/OneDrive - Closer Consultoria Lda/Documents/Entangled-Spaces/Transfers/Profiles/0transfers_nd_corr.html')"
   ]
  },
  {
   "cell_type": "code",
   "execution_count": 14,
   "id": "a179725b",
   "metadata": {},
   "outputs": [],
   "source": [
    "#load the original frauds before synthetic generation\n",
    "import pandas as pd\n",
    "\n",
    "fraudsb = pd.read_csv(r'C:/Users/BeatrizCarvalho/OneDrive - Closer Consultoria Lda/Documents/Entangled-Spaces/Transfers/Datasets/0frauds_transfers_nd_corr.csv')"
   ]
  },
  {
   "cell_type": "code",
   "execution_count": 15,
   "id": "dfb36559",
   "metadata": {},
   "outputs": [
    {
     "data": {
      "text/plain": [
       "569"
      ]
     },
     "execution_count": 15,
     "metadata": {},
     "output_type": "execute_result"
    }
   ],
   "source": [
    "#how many frauds existed originally\n",
    "len(fraudsb)"
   ]
  },
  {
   "cell_type": "code",
   "execution_count": 16,
   "id": "e04675dd",
   "metadata": {},
   "outputs": [
    {
     "data": {
      "application/vnd.jupyter.widget-view+json": {
       "model_id": "652f19317aba43f385c6fb8a0c7e87f0",
       "version_major": 2,
       "version_minor": 0
      },
      "text/plain": [
       "Summarize dataset:   0%|          | 0/5 [00:00<?, ?it/s]"
      ]
     },
     "metadata": {},
     "output_type": "display_data"
    },
    {
     "data": {
      "application/vnd.jupyter.widget-view+json": {
       "model_id": "e46dbcd9ba84463fa03ce5465a35c0f1",
       "version_major": 2,
       "version_minor": 0
      },
      "text/plain": [
       "Generate report structure:   0%|          | 0/1 [00:00<?, ?it/s]"
      ]
     },
     "metadata": {},
     "output_type": "display_data"
    },
    {
     "data": {
      "application/vnd.jupyter.widget-view+json": {
       "model_id": "f8dd9459485248bda0cef4f7ea1d6cb0",
       "version_major": 2,
       "version_minor": 0
      },
      "text/plain": [
       "Render HTML:   0%|          | 0/1 [00:00<?, ?it/s]"
      ]
     },
     "metadata": {},
     "output_type": "display_data"
    },
    {
     "data": {
      "application/vnd.jupyter.widget-view+json": {
       "model_id": "6cff70c6ea664132979cc8543d6372ec",
       "version_major": 2,
       "version_minor": 0
      },
      "text/plain": [
       "Export report to file:   0%|          | 0/1 [00:00<?, ?it/s]"
      ]
     },
     "metadata": {},
     "output_type": "display_data"
    }
   ],
   "source": [
    "#profiling of the original frauds before synthetic generation\n",
    "from pandas_profiling import ProfileReport\n",
    "\n",
    "#ProfileReport(predata.sample(n = 10000)) randomizes data order and selects representative sample\n",
    "prof = ProfileReport(fraudsb, minimal = True)             \n",
    "prof.to_file(output_file = r'C:/Users/BeatrizCarvalho/OneDrive - Closer Consultoria Lda/Documents/Entangled-Spaces/Transfers/Profiles/0frauds_transfers_nd_corr.html')"
   ]
  },
  {
   "cell_type": "code",
   "execution_count": null,
   "id": "1d17b859",
   "metadata": {},
   "outputs": [],
   "source": [
    "#load the frauds after synthetic generation by smote\n",
    "fraudss = pd.read_csv(r'C:/Users/BeatrizCarvalho/OneDrive - Closer Consultoria Lda/Documents/Entangled-Spaces/Transfers/Datasets/2frauds_transfers_balanced_smote+rund.csv')"
   ]
  },
  {
   "cell_type": "code",
   "execution_count": null,
   "id": "2572c8eb",
   "metadata": {},
   "outputs": [],
   "source": [
    "#how many frauds exist now\n",
    "len(fraudss)"
   ]
  },
  {
   "cell_type": "code",
   "execution_count": null,
   "id": "344bc3de",
   "metadata": {},
   "outputs": [],
   "source": [
    "#profiling of the frauds after the synthetic generation by smote\n",
    "\n",
    "#ProfileReport(predata.sample(n = 10000)) randomizes data order and selects representative sample\n",
    "prof = ProfileReport(fraudss, minimal = True)           \n",
    "prof.to_file(output_file = r'C:/Users/BeatrizCarvalho/OneDrive - Closer Consultoria Lda/Documents/Entangled-Spaces/Transfers(Profiles/2frauds_transfers_balanced_smote+rund.html')"
   ]
  },
  {
   "cell_type": "code",
   "execution_count": null,
   "id": "f7be6fcb",
   "metadata": {},
   "outputs": [],
   "source": [
    "#load frauds after the synthetic generation by ctgan\n",
    "fraudsg = pd.read_csv(r'C:/Users/BeatrizCarvalho/OneDrive - Closer Consultoria Lda/Documents/Entangled-Spaces/Datasets/Transfers/2frauds_transfers_balanced_gan+rund.csv')"
   ]
  },
  {
   "cell_type": "code",
   "execution_count": null,
   "id": "002620bf",
   "metadata": {},
   "outputs": [],
   "source": [
    "#how many frauds exist now\n",
    "len(fraudsg)"
   ]
  },
  {
   "cell_type": "code",
   "execution_count": null,
   "id": "63ef2d2e",
   "metadata": {},
   "outputs": [],
   "source": [
    "#profiling of the frauds after the synthetic generation by ctgan\n",
    "\n",
    "#ProfileReport(predata.sample(n = 10000)) randomizes data order and selects representative sample\n",
    "prof = ProfileReport(fraudsg, minimal = True)           \n",
    "prof.to_file(output_file = r'C:/Users/BeatrizCarvalho/OneDrive - Closer Consultoria Lda/Documents/Entangled-Spaces/TranProfiles/2frauds_transfers_balanced_gan+rund.csv.html')"
   ]
  }
 ],
 "metadata": {
  "kernelspec": {
   "display_name": "Python 3 (ipykernel)",
   "language": "python",
   "name": "python3"
  },
  "language_info": {
   "codemirror_mode": {
    "name": "ipython",
    "version": 3
   },
   "file_extension": ".py",
   "mimetype": "text/x-python",
   "name": "python",
   "nbconvert_exporter": "python",
   "pygments_lexer": "ipython3",
   "version": "3.9.9"
  }
 },
 "nbformat": 4,
 "nbformat_minor": 5
}
