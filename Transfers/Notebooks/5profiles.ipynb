{
 "cells": [
  {
   "cell_type": "code",
   "execution_count": null,
   "id": "735415ed",
   "metadata": {},
   "outputs": [],
   "source": [
    "#profiling of the original data set"
   ]
  },
  {
   "cell_type": "code",
   "execution_count": null,
   "id": "6f52742d",
   "metadata": {},
   "outputs": [],
   "source": [
    "#load the original data set after cleaning\n",
    "import pandas as pd\n",
    "\n",
    "originalb = pd.read_csv(r'C:/Users/BeatrizCarvalho/OneDrive - Closer Consultoria Lda/Documents/Entangled-Spaces/Transfers/Datasets/0transfers_nd_corr.csv')"
   ]
  },
  {
   "cell_type": "code",
   "execution_count": null,
   "id": "330373e9",
   "metadata": {},
   "outputs": [],
   "source": [
    "#profiling \n",
    "from pandas_profiling import ProfileReport\n",
    "\n",
    "#ProfileReport(predata.sample(n = 10000)) randomizes data order and selects representative sample\n",
    "prof = ProfileReport(originalb, minimal = True)             \n",
    "prof.to_file(output_file = r'C:/Users/BeatrizCarvalho/OneDrive - Closer Consultoria Lda/Documents/Entangled-Spaces/Transfers/Profiles/0transfers_nd_corr.html')"
   ]
  },
  {
   "cell_type": "code",
   "execution_count": null,
   "id": "c6344481",
   "metadata": {},
   "outputs": [],
   "source": [
    "#profiling of the original frauds before synthetic generation"
   ]
  },
  {
   "cell_type": "code",
   "execution_count": 14,
   "id": "a179725b",
   "metadata": {},
   "outputs": [],
   "source": [
    "#load the original frauds before synthetic generation\n",
    "import pandas as pd\n",
    "\n",
    "fraudsb = pd.read_csv(r'C:/Users/BeatrizCarvalho/OneDrive - Closer Consultoria Lda/Documents/Entangled-Spaces/Transfers/Datasets/0frauds_transfers_nd_corr.csv')"
   ]
  },
  {
   "cell_type": "code",
   "execution_count": 15,
   "id": "dfb36559",
   "metadata": {},
   "outputs": [
    {
     "data": {
      "text/plain": [
       "569"
      ]
     },
     "execution_count": 15,
     "metadata": {},
     "output_type": "execute_result"
    }
   ],
   "source": [
    "#how many frauds existed originally\n",
    "len(fraudsb)"
   ]
  },
  {
   "cell_type": "code",
   "execution_count": 16,
   "id": "e04675dd",
   "metadata": {
    "scrolled": true
   },
   "outputs": [
    {
     "data": {
      "application/vnd.jupyter.widget-view+json": {
       "model_id": "652f19317aba43f385c6fb8a0c7e87f0",
       "version_major": 2,
       "version_minor": 0
      },
      "text/plain": [
       "Summarize dataset:   0%|          | 0/5 [00:00<?, ?it/s]"
      ]
     },
     "metadata": {},
     "output_type": "display_data"
    },
    {
     "data": {
      "application/vnd.jupyter.widget-view+json": {
       "model_id": "e46dbcd9ba84463fa03ce5465a35c0f1",
       "version_major": 2,
       "version_minor": 0
      },
      "text/plain": [
       "Generate report structure:   0%|          | 0/1 [00:00<?, ?it/s]"
      ]
     },
     "metadata": {},
     "output_type": "display_data"
    },
    {
     "data": {
      "application/vnd.jupyter.widget-view+json": {
       "model_id": "f8dd9459485248bda0cef4f7ea1d6cb0",
       "version_major": 2,
       "version_minor": 0
      },
      "text/plain": [
       "Render HTML:   0%|          | 0/1 [00:00<?, ?it/s]"
      ]
     },
     "metadata": {},
     "output_type": "display_data"
    },
    {
     "data": {
      "application/vnd.jupyter.widget-view+json": {
       "model_id": "6cff70c6ea664132979cc8543d6372ec",
       "version_major": 2,
       "version_minor": 0
      },
      "text/plain": [
       "Export report to file:   0%|          | 0/1 [00:00<?, ?it/s]"
      ]
     },
     "metadata": {},
     "output_type": "display_data"
    }
   ],
   "source": [
    "from pandas_profiling import ProfileReport\n",
    "\n",
    "#ProfileReport(predata.sample(n = 10000)) randomizes data order and selects representative sample\n",
    "prof = ProfileReport(fraudsb, minimal = True)             \n",
    "prof.to_file(output_file = r'C:/Users/BeatrizCarvalho/OneDrive - Closer Consultoria Lda/Documents/Entangled-Spaces/Transfers/Profiles/0frauds_transfers_nd_corr.html')"
   ]
  },
  {
   "cell_type": "code",
   "execution_count": null,
   "id": "29ec07c5",
   "metadata": {},
   "outputs": [],
   "source": [
    "#profiling of balanced data set - 1M"
   ]
  },
  {
   "cell_type": "code",
   "execution_count": 2,
   "id": "7e3ebd67",
   "metadata": {},
   "outputs": [
    {
     "name": "stderr",
     "output_type": "stream",
     "text": [
      "C:\\Users\\BeatrizCarvalho\\AppData\\Local\\Programs\\Python\\Python39\\lib\\site-packages\\IPython\\core\\interactiveshell.py:3457: DtypeWarning: Columns (11) have mixed types.Specify dtype option on import or set low_memory=False.\n",
      "  exec(code_obj, self.user_global_ns, self.user_ns)\n"
     ]
    }
   ],
   "source": [
    "#load the original data set after cleaning\n",
    "import pandas as pd\n",
    "\n",
    "balanced1m = pd.read_csv(r'C:/Users/BeatrizCarvalho/OneDrive - Closer Consultoria Lda/Documents/Entangled-Spaces/Transfers/Datasets/2transfers_balanced_smote+rund-1M.csv')"
   ]
  },
  {
   "cell_type": "code",
   "execution_count": 3,
   "id": "c845a94f",
   "metadata": {},
   "outputs": [
    {
     "data": {
      "application/vnd.jupyter.widget-view+json": {
       "model_id": "",
       "version_major": 2,
       "version_minor": 0
      },
      "text/plain": [
       "Summarize dataset:   0%|          | 0/5 [00:00<?, ?it/s]"
      ]
     },
     "metadata": {},
     "output_type": "display_data"
    },
    {
     "data": {
      "application/vnd.jupyter.widget-view+json": {
       "model_id": "",
       "version_major": 2,
       "version_minor": 0
      },
      "text/plain": [
       "Generate report structure:   0%|          | 0/1 [00:00<?, ?it/s]"
      ]
     },
     "metadata": {},
     "output_type": "display_data"
    },
    {
     "data": {
      "application/vnd.jupyter.widget-view+json": {
       "model_id": "",
       "version_major": 2,
       "version_minor": 0
      },
      "text/plain": [
       "Render HTML:   0%|          | 0/1 [00:00<?, ?it/s]"
      ]
     },
     "metadata": {},
     "output_type": "display_data"
    },
    {
     "data": {
      "application/vnd.jupyter.widget-view+json": {
       "model_id": "",
       "version_major": 2,
       "version_minor": 0
      },
      "text/plain": [
       "Export report to file:   0%|          | 0/1 [00:00<?, ?it/s]"
      ]
     },
     "metadata": {},
     "output_type": "display_data"
    }
   ],
   "source": [
    "#profiling \n",
    "from pandas_profiling import ProfileReport\n",
    "\n",
    "#ProfileReport(predata.sample(n = 10000)) randomizes data order and selects representative sample\n",
    "prof = ProfileReport(balanced1m, minimal = True)             \n",
    "prof.to_file(output_file = r'C:/Users/BeatrizCarvalho/OneDrive - Closer Consultoria Lda/Documents/Entangled-Spaces/Transfers/Profiles/2transfers_balanced_smote+rund-1M.html')"
   ]
  },
  {
   "cell_type": "code",
   "execution_count": null,
   "id": "484c13bc",
   "metadata": {},
   "outputs": [],
   "source": [
    "#profiling of balanced data set - 2M"
   ]
  },
  {
   "cell_type": "code",
   "execution_count": 4,
   "id": "b519e8bc",
   "metadata": {},
   "outputs": [
    {
     "name": "stderr",
     "output_type": "stream",
     "text": [
      "C:\\Users\\BeatrizCarvalho\\AppData\\Local\\Programs\\Python\\Python39\\lib\\site-packages\\IPython\\core\\interactiveshell.py:3457: DtypeWarning: Columns (11) have mixed types.Specify dtype option on import or set low_memory=False.\n",
      "  exec(code_obj, self.user_global_ns, self.user_ns)\n"
     ]
    }
   ],
   "source": [
    "import pandas as pd\n",
    "\n",
    "balanced2m = pd.read_csv(r'C:/Users/BeatrizCarvalho/OneDrive - Closer Consultoria Lda/Documents/Entangled-Spaces/Transfers/Datasets/2transfers_balanced_smote+rund-2M.csv')"
   ]
  },
  {
   "cell_type": "code",
   "execution_count": 5,
   "id": "43d65890",
   "metadata": {},
   "outputs": [
    {
     "data": {
      "application/vnd.jupyter.widget-view+json": {
       "model_id": "",
       "version_major": 2,
       "version_minor": 0
      },
      "text/plain": [
       "Summarize dataset:   0%|          | 0/5 [00:00<?, ?it/s]"
      ]
     },
     "metadata": {},
     "output_type": "display_data"
    },
    {
     "data": {
      "application/vnd.jupyter.widget-view+json": {
       "model_id": "",
       "version_major": 2,
       "version_minor": 0
      },
      "text/plain": [
       "Generate report structure:   0%|          | 0/1 [00:00<?, ?it/s]"
      ]
     },
     "metadata": {},
     "output_type": "display_data"
    },
    {
     "data": {
      "application/vnd.jupyter.widget-view+json": {
       "model_id": "",
       "version_major": 2,
       "version_minor": 0
      },
      "text/plain": [
       "Render HTML:   0%|          | 0/1 [00:00<?, ?it/s]"
      ]
     },
     "metadata": {},
     "output_type": "display_data"
    },
    {
     "data": {
      "application/vnd.jupyter.widget-view+json": {
       "model_id": "",
       "version_major": 2,
       "version_minor": 0
      },
      "text/plain": [
       "Export report to file:   0%|          | 0/1 [00:00<?, ?it/s]"
      ]
     },
     "metadata": {},
     "output_type": "display_data"
    }
   ],
   "source": [
    "#profiling \n",
    "from pandas_profiling import ProfileReport\n",
    "\n",
    "#ProfileReport(predata.sample(n = 10000)) randomizes data order and selects representative sample\n",
    "prof = ProfileReport(balanced2m, minimal = True)             \n",
    "prof.to_file(output_file = r'C:/Users/BeatrizCarvalho/OneDrive - Closer Consultoria Lda/Documents/Entangled-Spaces/Transfers/Profiles/2transfers_balanced_smote+rund-2M.html')"
   ]
  },
  {
   "cell_type": "code",
   "execution_count": null,
   "id": "64fdd5ae",
   "metadata": {},
   "outputs": [],
   "source": [
    "#profiling of balanced data set - 3M"
   ]
  },
  {
   "cell_type": "code",
   "execution_count": 11,
   "id": "583d64be",
   "metadata": {},
   "outputs": [
    {
     "name": "stderr",
     "output_type": "stream",
     "text": [
      "C:\\Users\\BeatrizCarvalho\\AppData\\Local\\Programs\\Python\\Python39\\lib\\site-packages\\IPython\\core\\interactiveshell.py:3457: DtypeWarning: Columns (11) have mixed types.Specify dtype option on import or set low_memory=False.\n",
      "  exec(code_obj, self.user_global_ns, self.user_ns)\n"
     ]
    }
   ],
   "source": [
    "import pandas as pd\n",
    "\n",
    "balanced3m = pd.read_csv(r'C:/Users/BeatrizCarvalho/OneDrive - Closer Consultoria Lda/Documents/Entangled-Spaces/Transfers/Datasets/2transfers_balanced_smote+rund-3M.csv')"
   ]
  },
  {
   "cell_type": "code",
   "execution_count": 13,
   "id": "0ddc77be",
   "metadata": {
    "scrolled": true
   },
   "outputs": [
    {
     "data": {
      "application/vnd.jupyter.widget-view+json": {
       "model_id": "",
       "version_major": 2,
       "version_minor": 0
      },
      "text/plain": [
       "Summarize dataset:   0%|          | 0/5 [00:00<?, ?it/s]"
      ]
     },
     "metadata": {},
     "output_type": "display_data"
    },
    {
     "data": {
      "application/vnd.jupyter.widget-view+json": {
       "model_id": "",
       "version_major": 2,
       "version_minor": 0
      },
      "text/plain": [
       "Generate report structure:   0%|          | 0/1 [00:00<?, ?it/s]"
      ]
     },
     "metadata": {},
     "output_type": "display_data"
    },
    {
     "data": {
      "application/vnd.jupyter.widget-view+json": {
       "model_id": "",
       "version_major": 2,
       "version_minor": 0
      },
      "text/plain": [
       "Render HTML:   0%|          | 0/1 [00:00<?, ?it/s]"
      ]
     },
     "metadata": {},
     "output_type": "display_data"
    },
    {
     "data": {
      "application/vnd.jupyter.widget-view+json": {
       "model_id": "",
       "version_major": 2,
       "version_minor": 0
      },
      "text/plain": [
       "Export report to file:   0%|          | 0/1 [00:00<?, ?it/s]"
      ]
     },
     "metadata": {},
     "output_type": "display_data"
    }
   ],
   "source": [
    "#profiling \n",
    "from pandas_profiling import ProfileReport\n",
    "\n",
    "#ProfileReport(predata.sample(n = 10000)) randomizes data order and selects representative sample\n",
    "prof = ProfileReport(balanced3m, minimal = True)             \n",
    "prof.to_file(output_file = r'C:/Users/BeatrizCarvalho/OneDrive - Closer Consultoria Lda/Documents/Entangled-Spaces/Transfers/Profiles/2transfers_balanced_smote+rund-3M.html')"
   ]
  },
  {
   "cell_type": "code",
   "execution_count": null,
   "id": "ad891616",
   "metadata": {},
   "outputs": [],
   "source": [
    "#profiling of balanced data set - 4M"
   ]
  },
  {
   "cell_type": "code",
   "execution_count": 15,
   "id": "92443d71",
   "metadata": {},
   "outputs": [
    {
     "name": "stderr",
     "output_type": "stream",
     "text": [
      "C:\\Users\\BeatrizCarvalho\\AppData\\Local\\Programs\\Python\\Python39\\lib\\site-packages\\IPython\\core\\interactiveshell.py:3457: DtypeWarning: Columns (11) have mixed types.Specify dtype option on import or set low_memory=False.\n",
      "  exec(code_obj, self.user_global_ns, self.user_ns)\n"
     ]
    }
   ],
   "source": [
    "import pandas as pd\n",
    "\n",
    "balanced4m = pd.read_csv(r'C:/Users/BeatrizCarvalho/OneDrive - Closer Consultoria Lda/Documents/Entangled-Spaces/Transfers/Datasets/2transfers_balanced_smote+rund-4M.csv')"
   ]
  },
  {
   "cell_type": "code",
   "execution_count": 16,
   "id": "54807c07",
   "metadata": {},
   "outputs": [
    {
     "data": {
      "application/vnd.jupyter.widget-view+json": {
       "model_id": "",
       "version_major": 2,
       "version_minor": 0
      },
      "text/plain": [
       "Summarize dataset:   0%|          | 0/5 [00:00<?, ?it/s]"
      ]
     },
     "metadata": {},
     "output_type": "display_data"
    },
    {
     "data": {
      "application/vnd.jupyter.widget-view+json": {
       "model_id": "",
       "version_major": 2,
       "version_minor": 0
      },
      "text/plain": [
       "Generate report structure:   0%|          | 0/1 [00:00<?, ?it/s]"
      ]
     },
     "metadata": {},
     "output_type": "display_data"
    },
    {
     "data": {
      "application/vnd.jupyter.widget-view+json": {
       "model_id": "",
       "version_major": 2,
       "version_minor": 0
      },
      "text/plain": [
       "Render HTML:   0%|          | 0/1 [00:00<?, ?it/s]"
      ]
     },
     "metadata": {},
     "output_type": "display_data"
    },
    {
     "data": {
      "application/vnd.jupyter.widget-view+json": {
       "model_id": "",
       "version_major": 2,
       "version_minor": 0
      },
      "text/plain": [
       "Export report to file:   0%|          | 0/1 [00:00<?, ?it/s]"
      ]
     },
     "metadata": {},
     "output_type": "display_data"
    }
   ],
   "source": [
    "#profiling \n",
    "from pandas_profiling import ProfileReport\n",
    "\n",
    "#ProfileReport(predata.sample(n = 10000)) randomizes data order and selects representative sample\n",
    "prof = ProfileReport(balanced4m, minimal = True)             \n",
    "prof.to_file(output_file = r'C:/Users/BeatrizCarvalho/OneDrive - Closer Consultoria Lda/Documents/Entangled-Spaces/Transfers/Profiles/2transfers_balanced_smote+rund-4M.html')"
   ]
  },
  {
   "cell_type": "code",
   "execution_count": null,
   "id": "9e3d9e25",
   "metadata": {},
   "outputs": [],
   "source": [
    "#profiling of balanced data set - 5M"
   ]
  },
  {
   "cell_type": "code",
   "execution_count": 17,
   "id": "6b30bafd",
   "metadata": {
    "scrolled": true
   },
   "outputs": [
    {
     "name": "stderr",
     "output_type": "stream",
     "text": [
      "C:\\Users\\BeatrizCarvalho\\AppData\\Local\\Programs\\Python\\Python39\\lib\\site-packages\\IPython\\core\\interactiveshell.py:3457: DtypeWarning: Columns (11) have mixed types.Specify dtype option on import or set low_memory=False.\n",
      "  exec(code_obj, self.user_global_ns, self.user_ns)\n"
     ]
    }
   ],
   "source": [
    "import pandas as pd\n",
    "\n",
    "balanced5m = pd.read_csv(r'C:/Users/BeatrizCarvalho/OneDrive - Closer Consultoria Lda/Documents/Entangled-Spaces/Transfers/Datasets/2transfers_balanced_smote+rund-5M.csv')"
   ]
  },
  {
   "cell_type": "code",
   "execution_count": 18,
   "id": "9fa7ed5f",
   "metadata": {},
   "outputs": [
    {
     "data": {
      "application/vnd.jupyter.widget-view+json": {
       "model_id": "c8e21a03c54b49d3827bc0acd5fab834",
       "version_major": 2,
       "version_minor": 0
      },
      "text/plain": [
       "Summarize dataset:   0%|          | 0/5 [00:00<?, ?it/s]"
      ]
     },
     "metadata": {},
     "output_type": "display_data"
    },
    {
     "data": {
      "application/vnd.jupyter.widget-view+json": {
       "model_id": "2f4f7578d1144e4384a51f8d74643538",
       "version_major": 2,
       "version_minor": 0
      },
      "text/plain": [
       "Generate report structure:   0%|          | 0/1 [00:00<?, ?it/s]"
      ]
     },
     "metadata": {},
     "output_type": "display_data"
    },
    {
     "data": {
      "application/vnd.jupyter.widget-view+json": {
       "model_id": "533ca1816771406599c0207d72ffa6d1",
       "version_major": 2,
       "version_minor": 0
      },
      "text/plain": [
       "Render HTML:   0%|          | 0/1 [00:00<?, ?it/s]"
      ]
     },
     "metadata": {},
     "output_type": "display_data"
    },
    {
     "data": {
      "application/vnd.jupyter.widget-view+json": {
       "model_id": "fc5d8e20c5334289b84317e16d0e3069",
       "version_major": 2,
       "version_minor": 0
      },
      "text/plain": [
       "Export report to file:   0%|          | 0/1 [00:00<?, ?it/s]"
      ]
     },
     "metadata": {},
     "output_type": "display_data"
    }
   ],
   "source": [
    "#profiling \n",
    "from pandas_profiling import ProfileReport\n",
    "\n",
    "#ProfileReport(predata.sample(n = 10000)) randomizes data order and selects representative sample\n",
    "prof = ProfileReport(balanced5m, minimal = True)             \n",
    "prof.to_file(output_file = r'C:/Users/BeatrizCarvalho/OneDrive - Closer Consultoria Lda/Documents/Entangled-Spaces/Transfers/Profiles/2transfers_balanced_smote+rund-5M.html')"
   ]
  },
  {
   "cell_type": "code",
   "execution_count": null,
   "id": "94af374b",
   "metadata": {},
   "outputs": [],
   "source": [
    "#profiling of gans balanced data set"
   ]
  },
  {
   "cell_type": "code",
   "execution_count": 8,
   "id": "fe20b03d",
   "metadata": {},
   "outputs": [],
   "source": [
    "import pandas as pd\n",
    "\n",
    "gansbalanced = pd.read_csv(r'C:/Users/BeatrizCarvalho/OneDrive - Closer Consultoria Lda/Documents/Entangled-Spaces/Transfers/Datasets/2transfers_balanced_gans+rund.csv')"
   ]
  },
  {
   "cell_type": "code",
   "execution_count": 10,
   "id": "cd36ac02",
   "metadata": {},
   "outputs": [
    {
     "data": {
      "application/vnd.jupyter.widget-view+json": {
       "model_id": "3f025d9078a144448ccc255733cae844",
       "version_major": 2,
       "version_minor": 0
      },
      "text/plain": [
       "Summarize dataset:   0%|          | 0/5 [00:00<?, ?it/s]"
      ]
     },
     "metadata": {},
     "output_type": "display_data"
    },
    {
     "data": {
      "application/vnd.jupyter.widget-view+json": {
       "model_id": "1555af9693844339bf7a24ad51355163",
       "version_major": 2,
       "version_minor": 0
      },
      "text/plain": [
       "Generate report structure:   0%|          | 0/1 [00:00<?, ?it/s]"
      ]
     },
     "metadata": {},
     "output_type": "display_data"
    },
    {
     "data": {
      "application/vnd.jupyter.widget-view+json": {
       "model_id": "97eefb9d9edd46849327f72d4cd7c313",
       "version_major": 2,
       "version_minor": 0
      },
      "text/plain": [
       "Render HTML:   0%|          | 0/1 [00:00<?, ?it/s]"
      ]
     },
     "metadata": {},
     "output_type": "display_data"
    },
    {
     "data": {
      "application/vnd.jupyter.widget-view+json": {
       "model_id": "191e477e16004c6189eea7cdc63cc893",
       "version_major": 2,
       "version_minor": 0
      },
      "text/plain": [
       "Export report to file:   0%|          | 0/1 [00:00<?, ?it/s]"
      ]
     },
     "metadata": {},
     "output_type": "display_data"
    }
   ],
   "source": [
    "#profiling \n",
    "from pandas_profiling import ProfileReport\n",
    "\n",
    "#ProfileReport(predata.sample(n = 10000)) randomizes data order and selects representative sample\n",
    "prof = ProfileReport(gansbalanced, minimal = True)             \n",
    "prof.to_file(output_file = r'C:/Users/BeatrizCarvalho/OneDrive - Closer Consultoria Lda/Documents/Entangled-Spaces/Transfers/Profiles/2transfers_balanced_gans+rund.html')"
   ]
  },
  {
   "cell_type": "code",
   "execution_count": null,
   "id": "0646c0e1",
   "metadata": {},
   "outputs": [],
   "source": []
  }
 ],
 "metadata": {
  "kernelspec": {
   "display_name": "Python 3 (ipykernel)",
   "language": "python",
   "name": "python3"
  },
  "language_info": {
   "codemirror_mode": {
    "name": "ipython",
    "version": 3
   },
   "file_extension": ".py",
   "mimetype": "text/x-python",
   "name": "python",
   "nbconvert_exporter": "python",
   "pygments_lexer": "ipython3",
   "version": "3.9.9"
  }
 },
 "nbformat": 4,
 "nbformat_minor": 5
}
