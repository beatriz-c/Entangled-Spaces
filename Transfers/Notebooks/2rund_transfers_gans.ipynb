{
 "cells": [
  {
   "cell_type": "code",
   "execution_count": 1,
   "id": "2e6d7871",
   "metadata": {},
   "outputs": [],
   "source": [
    "#data loading\n",
    "import pandas as pd\n",
    "\n",
    "predata = pd.read_csv(r'C:/Users/BeatrizCarvalho/OneDrive - Closer Consultoria Lda/Documents/Entangled-Spaces/Transfers/Datasets/0transfers_nd_corr.csv', low_memory = False) "
   ]
  },
  {
   "cell_type": "code",
   "execution_count": 3,
   "id": "f7b587bd",
   "metadata": {
    "scrolled": true
   },
   "outputs": [
    {
     "data": {
      "text/plain": [
       "0    0.999963\n",
       "1    0.000037\n",
       "Name: is_fraud, dtype: float64"
      ]
     },
     "execution_count": 3,
     "metadata": {},
     "output_type": "execute_result"
    }
   ],
   "source": [
    "#ratios of each class\n",
    "predata['is_fraud'].value_counts() / predata.shape[0]"
   ]
  },
  {
   "cell_type": "code",
   "execution_count": 4,
   "id": "799b924f",
   "metadata": {
    "scrolled": true
   },
   "outputs": [
    {
     "data": {
      "text/plain": [
       "(15388489, 21)"
      ]
     },
     "execution_count": 4,
     "metadata": {},
     "output_type": "execute_result"
    }
   ],
   "source": [
    "#inicial number of columns and rows of the dataframe\n",
    "predata.shape"
   ]
  },
  {
   "cell_type": "code",
   "execution_count": 5,
   "id": "ef3b0824",
   "metadata": {},
   "outputs": [],
   "source": [
    "#visualize the whole output\n",
    "pd.set_option('display.max_columns', None)\n",
    "pd.set_option('display.max_rows', None)"
   ]
  },
  {
   "cell_type": "code",
   "execution_count": 6,
   "id": "5e5cdec1",
   "metadata": {},
   "outputs": [],
   "source": [
    "#create column weekday\n",
    "predata['weekday'] = pd.to_datetime(predata['timestamp']).apply(lambda x: x.weekday())"
   ]
  },
  {
   "cell_type": "code",
   "execution_count": 7,
   "id": "25c9f66a",
   "metadata": {
    "scrolled": true
   },
   "outputs": [],
   "source": [
    "#create column month\n",
    "predata['month'] = pd.DatetimeIndex(predata['timestamp']).month"
   ]
  },
  {
   "cell_type": "code",
   "execution_count": 8,
   "id": "729c3ecc",
   "metadata": {},
   "outputs": [],
   "source": [
    "#drop column timestamp that was used for creating weekday and month\n",
    "predata.drop(['timestamp'], axis = 1, inplace = True)"
   ]
  },
  {
   "cell_type": "code",
   "execution_count": 10,
   "id": "74c2eeb1",
   "metadata": {},
   "outputs": [],
   "source": [
    "#renaming browsers\n",
    "def assign_brws_fam(x):\n",
    "\n",
    "    changes = {\n",
    "        \"m bot\": \"other\",  #15\n",
    "        \"android\": \"other\",  #104\n",
    "        \"1password\": \"other\",  #57\n",
    "        \"chrome mobile\": \"chrome\",  #735168\n",
    "        \"chrome mobile webview\": \"chrome\",  #2681\n",
    "        \"mobile safari\": \"safari\",  #338413\n",
    "        \"mobile safari ui/wkwebview\": \"safari\",  #4190964\n",
    "        \"firefox mobile\": \"firefox\",  #5515\n",
    "        \"edge mobile\": \"edge\",\n",
    "        \"firefox mobile\": \"firefox\"\n",
    "    }\n",
    "\n",
    "    if x in changes.keys():\n",
    "        return changes[x]\n",
    "    else:\n",
    "        return x\n",
    "\n",
    "predata[\"browser_family\"] = predata[\"browser_family\"].apply(lambda x: assign_brws_fam(x))"
   ]
  },
  {
   "cell_type": "code",
   "execution_count": 12,
   "id": "804ded41",
   "metadata": {},
   "outputs": [],
   "source": [
    "#renaming os \n",
    "def assign_os_fam(x):\n",
    "\n",
    "    changes = {\n",
    "        \"windows phone\": \"windows\"  #863\n",
    "    }\n",
    "\n",
    "    if x in changes.keys():\n",
    "        return changes[x]\n",
    "    else:\n",
    "        return x\n",
    "\n",
    "predata[\"os_family\"] = predata[\"os_family\"].apply(lambda x: assign_os_fam(x))"
   ]
  },
  {
   "cell_type": "code",
   "execution_count": 13,
   "id": "54a5318e",
   "metadata": {},
   "outputs": [],
   "source": [
    "#remove spaces on browsers and os \n",
    "cols = ['os_family', 'browser_family']\n",
    "\n",
    "for col in cols:\n",
    "      predata[col] = predata[col].apply(lambda x: x.replace(' ', ''))"
   ]
  },
  {
   "cell_type": "code",
   "execution_count": 14,
   "id": "ceae738e",
   "metadata": {},
   "outputs": [],
   "source": [
    "#make all lowercase\n",
    "def convert_column_lower(column, df):\n",
    "    df[column] = df[column].str.lower()\n",
    "    \n",
    "columns_to_lower = ['canal', 'operativa', 'browser_family', 'os_family', 'ipaddress', 'trusted_indicator']\n",
    "for col in columns_to_lower:\n",
    "    predata[col] = predata[col].str.lower()"
   ]
  },
  {
   "cell_type": "code",
   "execution_count": 15,
   "id": "e835bc67",
   "metadata": {},
   "outputs": [],
   "source": [
    "#remove dots from ipaddress\n",
    "predata['ipaddress'] = predata['ipaddress'].apply(lambda x: \"\".join(x.split(\".\")))"
   ]
  },
  {
   "cell_type": "code",
   "execution_count": 16,
   "id": "97770a9b",
   "metadata": {},
   "outputs": [],
   "source": [
    "#merge is_tablet, is_pc, is_mobile, is_touch on a new column called device\n",
    "def deviceselect(x): \n",
    "    #if True in tablet and touch\n",
    "    if x['is_tablet'] and x['is_touch']:\n",
    "       return 'ttablet'\n",
    "    \n",
    "    #if True in pc and touch\n",
    "    if x['is_pc'] and x['is_touch']:\n",
    "       return 'tpc'\n",
    "    \n",
    "    #if True in mobile and touch\n",
    "    if x['is_mobile'] and x['is_touch']:\n",
    "       return 'tmobile'\n",
    "\n",
    "    #if True only in mobile\n",
    "    if x['is_mobile']:\n",
    "        return 'mobile'\n",
    "    \n",
    "    #if True only in pc\n",
    "    if x['is_pc']:\n",
    "        return 'pc'\n",
    "\n",
    "    #if True only in tablet\n",
    "    if x['is_tablet']:\n",
    "        return 'tablet'  \n",
    "    \n",
    "    #if none of the above return otherd\n",
    "    return 'otherd'                            \n",
    "    \n",
    "predata['device'] = predata.apply(deviceselect, axis = 1)"
   ]
  },
  {
   "cell_type": "code",
   "execution_count": 17,
   "id": "8b434c0e",
   "metadata": {},
   "outputs": [],
   "source": [
    "#drop columns that were merged on the new device column\n",
    "predata.drop(['is_pc', 'is_tablet', 'is_mobile', 'is_touch'], axis = 1, inplace = True)  "
   ]
  },
  {
   "cell_type": "code",
   "execution_count": 18,
   "id": "8f7761e1",
   "metadata": {},
   "outputs": [
    {
     "data": {
      "text/plain": [
       "(15388489, 19)"
      ]
     },
     "execution_count": 18,
     "metadata": {},
     "output_type": "execute_result"
    }
   ],
   "source": [
    "#final number of columns and rows of the dataframe\n",
    "predata.shape"
   ]
  },
  {
   "cell_type": "code",
   "execution_count": 19,
   "id": "8c6be590",
   "metadata": {},
   "outputs": [
    {
     "data": {
      "text/plain": [
       "Index(['canal', 'operativa', 'entity', 'reference', 'trusted_indicator',\n",
       "       'iban_orig', 'iban_dest', 'amount', 'accountbalance', 'ipaddress',\n",
       "       'is_fraud', 'clientid', 'browser_family', 'os_family', 'hour', 'week',\n",
       "       'weekday', 'month', 'device'],\n",
       "      dtype='object')"
      ]
     },
     "execution_count": 19,
     "metadata": {},
     "output_type": "execute_result"
    }
   ],
   "source": [
    "#final columns of the dataframe\n",
    "predata.columns"
   ]
  },
  {
   "cell_type": "code",
   "execution_count": 26,
   "id": "9a1e4a11",
   "metadata": {
    "scrolled": true
   },
   "outputs": [],
   "source": [
    "#undersampling -> RandomUnderSampler\n",
    "from imblearn.under_sampling import RandomUnderSampler\n",
    "\n",
    "under = RandomUnderSampler(sampling_strategy = {0: 10000000, 1: 569})  #number of initial nonfrauds = 15387920\n",
    "                                                                \n",
    "#target column\n",
    "y = predata['is_fraud']  #series\n",
    "\n",
    "#all the other columns\n",
    "X = predata.drop('is_fraud', axis = 1)  #dataframe"
   ]
  },
  {
   "cell_type": "code",
   "execution_count": 27,
   "id": "1862ea2a",
   "metadata": {},
   "outputs": [],
   "source": [
    "#resample X and y \n",
    "X, y = under.fit_resample(X, y)"
   ]
  },
  {
   "cell_type": "code",
   "execution_count": 28,
   "id": "816cdf5a",
   "metadata": {},
   "outputs": [],
   "source": [
    "#create the new dataframe\n",
    "predatabalanced = X.copy()\n",
    "predatabalanced['is_fraud'] = y\n",
    "\n",
    "#save the balanced dataset\n",
    "predatabalanced.to_csv(r'C:/Users/BeatrizCarvalho/OneDrive - Closer Consultoria Lda/Documents/Entangled-Spaces/Transfers/Datasets/2transfers_rund.csv', index = False)"
   ]
  },
  {
   "cell_type": "code",
   "execution_count": 29,
   "id": "7e5f7b2c",
   "metadata": {},
   "outputs": [
    {
     "data": {
      "application/vnd.jupyter.widget-view+json": {
       "model_id": "a5140ed0591d498aa2109f8e8a9de847",
       "version_major": 2,
       "version_minor": 0
      },
      "text/plain": [
       "Summarize dataset:   0%|          | 0/5 [00:00<?, ?it/s]"
      ]
     },
     "metadata": {},
     "output_type": "display_data"
    },
    {
     "data": {
      "application/vnd.jupyter.widget-view+json": {
       "model_id": "95572cccd47549609e33f1f3a9cec517",
       "version_major": 2,
       "version_minor": 0
      },
      "text/plain": [
       "Generate report structure:   0%|          | 0/1 [00:00<?, ?it/s]"
      ]
     },
     "metadata": {},
     "output_type": "display_data"
    },
    {
     "data": {
      "application/vnd.jupyter.widget-view+json": {
       "model_id": "44270d7946d84721b2a365a210ebed7f",
       "version_major": 2,
       "version_minor": 0
      },
      "text/plain": [
       "Render HTML:   0%|          | 0/1 [00:00<?, ?it/s]"
      ]
     },
     "metadata": {},
     "output_type": "display_data"
    },
    {
     "data": {
      "application/vnd.jupyter.widget-view+json": {
       "model_id": "7491607d70f24a829bd4a4a843a5800b",
       "version_major": 2,
       "version_minor": 0
      },
      "text/plain": [
       "Export report to file:   0%|          | 0/1 [00:00<?, ?it/s]"
      ]
     },
     "metadata": {},
     "output_type": "display_data"
    }
   ],
   "source": [
    "#profiling of the imbalanced data\n",
    "from pandas_profiling import ProfileReport\n",
    "\n",
    "prof = ProfileReport(predatabalanced, minimal = True)             \n",
    "prof.to_file(output_file = r'C:/Users/BeatrizCarvalho/OneDrive - Closer Consultoria Lda/Documents/Entangled-Spaces/Transfers/Profiles/2transfers_rund.html')"
   ]
  },
  {
   "cell_type": "code",
   "execution_count": 30,
   "id": "bdd4ad4a",
   "metadata": {
    "scrolled": false
   },
   "outputs": [
    {
     "data": {
      "text/plain": [
       "0    0.999943\n",
       "1    0.000057\n",
       "Name: is_fraud, dtype: float64"
      ]
     },
     "execution_count": 30,
     "metadata": {},
     "output_type": "execute_result"
    }
   ],
   "source": [
    "#new percentage of frauds\n",
    "predatabalanced['is_fraud'].value_counts() / predatabalanced.shape[0]"
   ]
  },
  {
   "cell_type": "code",
   "execution_count": 31,
   "id": "97437781",
   "metadata": {
    "scrolled": true
   },
   "outputs": [
    {
     "data": {
      "text/plain": [
       "(10000569, 19)"
      ]
     },
     "execution_count": 31,
     "metadata": {},
     "output_type": "execute_result"
    }
   ],
   "source": [
    "predatabalanced.shape"
   ]
  },
  {
   "cell_type": "code",
   "execution_count": null,
   "id": "6b1698fa",
   "metadata": {},
   "outputs": [],
   "source": []
  }
 ],
 "metadata": {
  "kernelspec": {
   "display_name": "Python 3 (ipykernel)",
   "language": "python",
   "name": "python3"
  },
  "language_info": {
   "codemirror_mode": {
    "name": "ipython",
    "version": 3
   },
   "file_extension": ".py",
   "mimetype": "text/x-python",
   "name": "python",
   "nbconvert_exporter": "python",
   "pygments_lexer": "ipython3",
   "version": "3.9.9"
  }
 },
 "nbformat": 4,
 "nbformat_minor": 5
}
