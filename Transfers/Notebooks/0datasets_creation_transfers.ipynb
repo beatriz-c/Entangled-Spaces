{
 "cells": [
  {
   "cell_type": "code",
   "execution_count": 15,
   "id": "8c5dd168-6c17-401b-b1aa-0e4c36c4ee4a",
   "metadata": {},
   "outputs": [],
   "source": [
    "#data loading\n",
    "import dask.dataframe as dd\n",
    "\n",
    "dtype = {'trusted_indicator': 'object'}\n",
    "global_data = dd.read_csv(r'C:/Users/BeatrizCarvalho/OneDrive - Closer Consultoria Lda/Documents/Entangled-Spaces/Transfers/Datasets/0globaldata.csv',\n",
    "                          dtype = dtype)\n",
    "                          \n",
    "                          "
   ]
  },
  {
   "cell_type": "code",
   "execution_count": 16,
   "id": "246659fd",
   "metadata": {},
   "outputs": [],
   "source": [
    "global_data = global_data[['canal', 'operativa', 'entity', 'reference', 'trusted_indicator', 'iban_orig', 'iban_dest', \n",
    "                           'amount', 'accountbalance', 'ipaddress', 'is_fraud', 'is_tablet', 'is_pc', 'is_mobile', 'is_touch', \n",
    "                           'clientid', 'browser_family', 'os_family', 'hour', 'week', 'timestamp']]"
   ]
  },
  {
   "cell_type": "code",
   "execution_count": 17,
   "id": "284a610e",
   "metadata": {},
   "outputs": [
    {
     "data": {
      "text/plain": [
       "(Delayed('int-17128f17-dcd4-4e87-b601-f13bc5331da4'), 21)"
      ]
     },
     "execution_count": 17,
     "metadata": {},
     "output_type": "execute_result"
    }
   ],
   "source": [
    "#make sure the columns were well selected\n",
    "global_data.shape"
   ]
  },
  {
   "cell_type": "code",
   "execution_count": 19,
   "id": "b8e22c2a",
   "metadata": {
    "scrolled": false
   },
   "outputs": [
    {
     "data": {
      "text/plain": [
       "29051438"
      ]
     },
     "execution_count": 19,
     "metadata": {},
     "output_type": "execute_result"
    }
   ],
   "source": [
    "#total lines in the csv\n",
    "len(global_data)"
   ]
  },
  {
   "cell_type": "code",
   "execution_count": 2,
   "id": "13eb78c5",
   "metadata": {
    "scrolled": true
   },
   "outputs": [
    {
     "data": {
      "text/plain": [
       "20200531"
      ]
     },
     "execution_count": 2,
     "metadata": {},
     "output_type": "execute_result"
    }
   ],
   "source": [
    "#date in which the data ends\n",
    "max(global_data['date'])"
   ]
  },
  {
   "cell_type": "code",
   "execution_count": 3,
   "id": "5e83a722",
   "metadata": {
    "scrolled": true
   },
   "outputs": [
    {
     "data": {
      "text/plain": [
       "20190801"
      ]
     },
     "execution_count": 3,
     "metadata": {},
     "output_type": "execute_result"
    }
   ],
   "source": [
    "#date in which the data begins\n",
    "min(global_data['date'])"
   ]
  },
  {
   "cell_type": "code",
   "execution_count": 77,
   "id": "5e96550f",
   "metadata": {
    "scrolled": true
   },
   "outputs": [
    {
     "data": {
      "text/plain": [
       "Unnamed: 0               821\n",
       "timestamp                821\n",
       "ID                       821\n",
       "rowid                    821\n",
       "canal                    821\n",
       "                        ... \n",
       "amount_categories        821\n",
       "cons_freq_fingerprint    821\n",
       "cons_freq_clientid       821\n",
       "cons_freq_ipaddress      821\n",
       "cons_time_fingerprint    821\n",
       "Length: 93, dtype: int64"
      ]
     },
     "execution_count": 77,
     "metadata": {},
     "output_type": "execute_result"
    }
   ],
   "source": [
    "#how many frauds in the global dataset\n",
    "target_col = 'is_fraud'\n",
    "global_data[(global_data[target_col] == 1)].count().compute()"
   ]
  },
  {
   "cell_type": "code",
   "execution_count": 2,
   "id": "a9e2b6d0",
   "metadata": {
    "scrolled": false
   },
   "outputs": [
    {
     "data": {
      "text/plain": [
       "False    29051438\n",
       "Name: is_bot, dtype: int64"
      ]
     },
     "execution_count": 2,
     "metadata": {},
     "output_type": "execute_result"
    }
   ],
   "source": [
    "#there's no ocurrencies of bots in the entire dataset so it can be eliminated - column with only zeros\n",
    "global_data[\"is_bot\"].value_counts().compute()"
   ]
  },
  {
   "cell_type": "code",
   "execution_count": 4,
   "id": "ebce4ffb",
   "metadata": {
    "scrolled": true
   },
   "outputs": [
    {
     "data": {
      "text/plain": [
       "Unnamed: 0                           0\n",
       "timestamp                            0\n",
       "ID                                   0\n",
       "rowid                                0\n",
       "canal                                0\n",
       "operativa                            0\n",
       "client                               0\n",
       "clientid                             0\n",
       "entity                               0\n",
       "reference                            0\n",
       "trusted_indicator                    0\n",
       "iban_orig                            0\n",
       "iban_dest                            0\n",
       "amount                               0\n",
       "accountbalance                       0\n",
       "fingerprint                          0\n",
       "ipaddress                            0\n",
       "description_originator               0\n",
       "description_beneficiary              0\n",
       "is_fraud                             0\n",
       "dummy_var                            0\n",
       "is_mobile                            0\n",
       "is_tablet                            0\n",
       "is_pc                                0\n",
       "is_touch                             0\n",
       "is_bot                               0\n",
       "browser_family                       0\n",
       "os_family                            0\n",
       "#clientid_30D                        0\n",
       "#fingerprint_30D                     0\n",
       "#ipaddress_30D                       0\n",
       "#iban_orig_30D                       0\n",
       "#iban_dest_30D                       0\n",
       "clientid_time_diff                   0\n",
       "fingerprint_time_diff                0\n",
       "iban_dest_time_diff                  0\n",
       "clientid_fingerprint_30D             0\n",
       "clientid_ipaddress_30D               0\n",
       "clientid_iban_orig_30D               0\n",
       "clientid_iban_dest_30D               0\n",
       "mean_amount_clientid_30D             0\n",
       "mean_amount_iban_dest_30D            0\n",
       "#clientid_ipaddress_30D              0\n",
       "#clientid_fingerprint_30D            0\n",
       "#clientid_iban_orig_30D              0\n",
       "#clientid_iban_dest_30D              0\n",
       "is_fraud_cons                        0\n",
       "amount_ratio_avg_clientid_30D        0\n",
       "amount_ratio_avg_iban_dest_30D       0\n",
       "canal__MBE                           0\n",
       "canal__MBP                           0\n",
       "canal__NBE                           0\n",
       "canal__NBP                           0\n",
       "canal__OBE                           0\n",
       "operativa__PAGSRV                    0\n",
       "operativa__TRFINT                    0\n",
       "operativa__TRFIPS                    0\n",
       "operativa__TRFITC                    0\n",
       "operativa__TRFSEP                    0\n",
       "operativa__others                    0\n",
       "entity__3                            0\n",
       "entity__37                           0\n",
       "entity__469                          0\n",
       "entity__5623                         0\n",
       "entity__others                       0\n",
       "browser_family__chrome               0\n",
       "browser_family__chrome mobile        0\n",
       "browser_family__edge                 0\n",
       "browser_family__firefox              0\n",
       "browser_family__ie                   0\n",
       "browser_family__mobile safari        0\n",
       "browser_family__others               0\n",
       "os_family__android                   0\n",
       "os_family__ios                       0\n",
       "os_family__linux                     0\n",
       "os_family__mac os x                  0\n",
       "os_family__others                    0\n",
       "os_family__windows                   0\n",
       "trusted_indicator__0.0               0\n",
       "trusted_indicator__1.0               0\n",
       "trusted_indicator__UNKNOWN           0\n",
       "date                                 0\n",
       "hour                                 0\n",
       "week                                 0\n",
       "amount_ratio_avg_30D_per_clientid    0\n",
       "amount_ratio_max_30D_per_clientid    0\n",
       "amount_over_account_balance          0\n",
       "amount_is_integer                    0\n",
       "amount_categories                    0\n",
       "cons_freq_fingerprint                0\n",
       "cons_freq_clientid                   0\n",
       "cons_freq_ipaddress                  0\n",
       "cons_time_fingerprint                0\n",
       "dtype: int64"
      ]
     },
     "execution_count": 4,
     "metadata": {},
     "output_type": "execute_result"
    }
   ],
   "source": [
    "#find if there is NaN values\n",
    "global_data.isna().sum(axis = 0).compute()"
   ]
  },
  {
   "cell_type": "code",
   "execution_count": 5,
   "id": "f293f20c",
   "metadata": {
    "scrolled": true
   },
   "outputs": [
    {
     "data": {
      "text/plain": [
       "Unnamed: 0                           0\n",
       "timestamp                            0\n",
       "ID                                   0\n",
       "rowid                                0\n",
       "canal                                0\n",
       "operativa                            0\n",
       "client                               0\n",
       "clientid                             0\n",
       "entity                               0\n",
       "reference                            0\n",
       "trusted_indicator                    0\n",
       "iban_orig                            0\n",
       "iban_dest                            0\n",
       "amount                               0\n",
       "accountbalance                       0\n",
       "fingerprint                          0\n",
       "ipaddress                            0\n",
       "description_originator               0\n",
       "description_beneficiary              0\n",
       "is_fraud                             0\n",
       "dummy_var                            0\n",
       "is_mobile                            0\n",
       "is_tablet                            0\n",
       "is_pc                                0\n",
       "is_touch                             0\n",
       "is_bot                               0\n",
       "browser_family                       0\n",
       "os_family                            0\n",
       "#clientid_30D                        0\n",
       "#fingerprint_30D                     0\n",
       "#ipaddress_30D                       0\n",
       "#iban_orig_30D                       0\n",
       "#iban_dest_30D                       0\n",
       "clientid_time_diff                   0\n",
       "fingerprint_time_diff                0\n",
       "iban_dest_time_diff                  0\n",
       "clientid_fingerprint_30D             0\n",
       "clientid_ipaddress_30D               0\n",
       "clientid_iban_orig_30D               0\n",
       "clientid_iban_dest_30D               0\n",
       "mean_amount_clientid_30D             0\n",
       "mean_amount_iban_dest_30D            0\n",
       "#clientid_ipaddress_30D              0\n",
       "#clientid_fingerprint_30D            0\n",
       "#clientid_iban_orig_30D              0\n",
       "#clientid_iban_dest_30D              0\n",
       "is_fraud_cons                        0\n",
       "amount_ratio_avg_clientid_30D        0\n",
       "amount_ratio_avg_iban_dest_30D       0\n",
       "canal__MBE                           0\n",
       "canal__MBP                           0\n",
       "canal__NBE                           0\n",
       "canal__NBP                           0\n",
       "canal__OBE                           0\n",
       "operativa__PAGSRV                    0\n",
       "operativa__TRFINT                    0\n",
       "operativa__TRFIPS                    0\n",
       "operativa__TRFITC                    0\n",
       "operativa__TRFSEP                    0\n",
       "operativa__others                    0\n",
       "entity__3                            0\n",
       "entity__37                           0\n",
       "entity__469                          0\n",
       "entity__5623                         0\n",
       "entity__others                       0\n",
       "browser_family__chrome               0\n",
       "browser_family__chrome mobile        0\n",
       "browser_family__edge                 0\n",
       "browser_family__firefox              0\n",
       "browser_family__ie                   0\n",
       "browser_family__mobile safari        0\n",
       "browser_family__others               0\n",
       "os_family__android                   0\n",
       "os_family__ios                       0\n",
       "os_family__linux                     0\n",
       "os_family__mac os x                  0\n",
       "os_family__others                    0\n",
       "os_family__windows                   0\n",
       "trusted_indicator__0.0               0\n",
       "trusted_indicator__1.0               0\n",
       "trusted_indicator__UNKNOWN           0\n",
       "date                                 0\n",
       "hour                                 0\n",
       "week                                 0\n",
       "amount_ratio_avg_30D_per_clientid    0\n",
       "amount_ratio_max_30D_per_clientid    0\n",
       "amount_over_account_balance          0\n",
       "amount_is_integer                    0\n",
       "amount_categories                    0\n",
       "cons_freq_fingerprint                0\n",
       "cons_freq_clientid                   0\n",
       "cons_freq_ipaddress                  0\n",
       "cons_time_fingerprint                0\n",
       "dtype: int64"
      ]
     },
     "execution_count": 5,
     "metadata": {},
     "output_type": "execute_result"
    }
   ],
   "source": [
    "#find if there is missing values\n",
    "global_data.isnull().sum().compute()"
   ]
  },
  {
   "cell_type": "code",
   "execution_count": 12,
   "id": "cd6affe8",
   "metadata": {
    "scrolled": true
   },
   "outputs": [
    {
     "data": {
      "text/plain": [
       "{'APGCMP',\n",
       " 'APGEST',\n",
       " 'APGINT',\n",
       " 'APGSEG',\n",
       " 'APGSRV',\n",
       " 'APGTEL',\n",
       " 'APGTRP',\n",
       " 'ATFINT',\n",
       " 'ATFIPS',\n",
       " 'ATFITC',\n",
       " 'ATFITI',\n",
       " 'ATFSEP',\n",
       " 'PAGCMP',\n",
       " 'PAGEST',\n",
       " 'PAGINT',\n",
       " 'PAGSEC',\n",
       " 'PAGSEG',\n",
       " 'PAGSRV',\n",
       " 'PAGTEL',\n",
       " 'PAGTRP',\n",
       " 'RTFINT',\n",
       " 'RTFIPS',\n",
       " 'RTFITC',\n",
       " 'RTFSEP',\n",
       " 'TRFIBS',\n",
       " 'TRFINT',\n",
       " 'TRFIPS',\n",
       " 'TRFITC',\n",
       " 'TRFITI',\n",
       " 'TRFMBW',\n",
       " 'TRFSEP'}"
      ]
     },
     "execution_count": 12,
     "metadata": {},
     "output_type": "execute_result"
    }
   ],
   "source": [
    "#values that operativa takes\n",
    "set(global_data['operativa'])"
   ]
  },
  {
   "cell_type": "code",
   "execution_count": 20,
   "id": "3bfc7ab7",
   "metadata": {},
   "outputs": [],
   "source": [
    "#select all operativas that refer to transfers \n",
    "target_col = 'operativa'\n",
    "\n",
    "transfers = global_data[(global_data[target_col] == 'TRFIBS') | (global_data[target_col] == 'TRFINT') | \n",
    "                        (global_data[target_col] == 'TRFIPS') | (global_data[target_col] == 'TRFITC') |\n",
    "                        (global_data[target_col] == 'TRFITI') | (global_data[target_col] == 'TRFMBW') |\n",
    "                        (global_data[target_col] == 'TRFSEP')].copy()"
   ]
  },
  {
   "cell_type": "code",
   "execution_count": 21,
   "id": "16c451d6",
   "metadata": {
    "scrolled": true
   },
   "outputs": [
    {
     "data": {
      "text/plain": [
       "15648273"
      ]
     },
     "execution_count": 21,
     "metadata": {},
     "output_type": "execute_result"
    }
   ],
   "source": [
    "#number of rows in the transfers csv\n",
    "len(transfers)"
   ]
  },
  {
   "cell_type": "code",
   "execution_count": 22,
   "id": "3e9b5626",
   "metadata": {},
   "outputs": [
    {
     "data": {
      "text/plain": [
       "canal                569\n",
       "operativa            569\n",
       "entity               569\n",
       "reference            569\n",
       "trusted_indicator    569\n",
       "iban_orig            569\n",
       "iban_dest            569\n",
       "amount               569\n",
       "accountbalance       569\n",
       "ipaddress            569\n",
       "is_fraud             569\n",
       "is_tablet            569\n",
       "is_pc                569\n",
       "is_mobile            569\n",
       "is_touch             569\n",
       "clientid             569\n",
       "browser_family       569\n",
       "os_family            569\n",
       "hour                 569\n",
       "week                 569\n",
       "timestamp            569\n",
       "dtype: int64"
      ]
     },
     "execution_count": 22,
     "metadata": {},
     "output_type": "execute_result"
    }
   ],
   "source": [
    "#number of frauds in transfers\n",
    "target_col = 'is_fraud'\n",
    "transfers[(transfers[target_col] == 1)].count().compute()"
   ]
  },
  {
   "cell_type": "code",
   "execution_count": 23,
   "id": "663b5fe4",
   "metadata": {
    "scrolled": false
   },
   "outputs": [
    {
     "data": {
      "text/plain": [
       "['C:/Users/BeatrizCarvalho/0transfers.csv']"
      ]
     },
     "execution_count": 23,
     "metadata": {},
     "output_type": "execute_result"
    }
   ],
   "source": [
    "#save all transfers data in a csv file\n",
    "transfers.to_csv(r'C:\\Users\\BeatrizCarvalho\\0transfers.csv', index = False, single_file = True)"
   ]
  },
  {
   "cell_type": "code",
   "execution_count": null,
   "id": "8de731ec",
   "metadata": {},
   "outputs": [],
   "source": [
    "#divide in frauds and nonfrauds so that repeated fraud data won't be eliminated"
   ]
  },
  {
   "cell_type": "code",
   "execution_count": 30,
   "id": "ce53974c",
   "metadata": {},
   "outputs": [],
   "source": [
    "#select only the frauds\n",
    "target_col = 'is_fraud'\n",
    "frauds = transfers[(transfers[target_col] == 1)].copy()"
   ]
  },
  {
   "cell_type": "code",
   "execution_count": 33,
   "id": "f7d3ff79",
   "metadata": {},
   "outputs": [],
   "source": [
    "#select only the non-frauds \n",
    "nonfrauds = transfers[(transfers[target_col] == 0)].copy()"
   ]
  },
  {
   "cell_type": "code",
   "execution_count": 34,
   "id": "834158e9",
   "metadata": {},
   "outputs": [
    {
     "data": {
      "text/plain": [
       "15647704"
      ]
     },
     "execution_count": 34,
     "metadata": {},
     "output_type": "execute_result"
    }
   ],
   "source": [
    "#number of rows in nonfrauds data before the duplicates removal\n",
    "len(nonfrauds)"
   ]
  },
  {
   "cell_type": "code",
   "execution_count": 35,
   "id": "2efba193",
   "metadata": {},
   "outputs": [],
   "source": [
    "#drop duplicates\n",
    "nonfrauds_nd = nonfrauds.drop_duplicates()"
   ]
  },
  {
   "cell_type": "code",
   "execution_count": 36,
   "id": "7c1f46ad",
   "metadata": {},
   "outputs": [
    {
     "data": {
      "text/plain": [
       "15398238"
      ]
     },
     "execution_count": 36,
     "metadata": {},
     "output_type": "execute_result"
    }
   ],
   "source": [
    "#number of rows in nonfrauds after the duplicates removal (before there was 15647704)\n",
    "len(nonfrauds_nd)"
   ]
  },
  {
   "cell_type": "code",
   "execution_count": 37,
   "id": "6754c7c0",
   "metadata": {
    "scrolled": false
   },
   "outputs": [
    {
     "data": {
      "text/plain": [
       "249466"
      ]
     },
     "execution_count": 37,
     "metadata": {},
     "output_type": "execute_result"
    }
   ],
   "source": [
    "#number of duplicates\n",
    "15647704 - 15398238"
   ]
  },
  {
   "cell_type": "code",
   "execution_count": 38,
   "id": "3886153c",
   "metadata": {},
   "outputs": [],
   "source": [
    "#merge the dataframes again\n",
    "transfers_nd = nonfrauds_nd.append(frauds)"
   ]
  },
  {
   "cell_type": "code",
   "execution_count": 39,
   "id": "e479b9d8",
   "metadata": {},
   "outputs": [
    {
     "data": {
      "text/plain": [
       "15398807"
      ]
     },
     "execution_count": 39,
     "metadata": {},
     "output_type": "execute_result"
    }
   ],
   "source": [
    "#make sure the merge was done correctly\n",
    "len(transfers_nd)"
   ]
  },
  {
   "cell_type": "code",
   "execution_count": 40,
   "id": "1edcf6c0",
   "metadata": {},
   "outputs": [
    {
     "data": {
      "text/plain": [
       "['C:/Users/BeatrizCarvalho/0transfers_nd.csv']"
      ]
     },
     "execution_count": 40,
     "metadata": {},
     "output_type": "execute_result"
    }
   ],
   "source": [
    "#save dataframe without the duplicates in a single csv file\n",
    "transfers_nd.to_csv(r'C:\\Users\\BeatrizCarvalho\\0transfers_nd.csv', index = False, single_file = True)"
   ]
  },
  {
   "cell_type": "code",
   "execution_count": null,
   "id": "3b9b04f8",
   "metadata": {},
   "outputs": [],
   "source": []
  }
 ],
 "metadata": {
  "kernelspec": {
   "display_name": "Python 3 (ipykernel)",
   "language": "python",
   "name": "python3"
  },
  "language_info": {
   "codemirror_mode": {
    "name": "ipython",
    "version": 3
   },
   "file_extension": ".py",
   "mimetype": "text/x-python",
   "name": "python",
   "nbconvert_exporter": "python",
   "pygments_lexer": "ipython3",
   "version": "3.9.9"
  }
 },
 "nbformat": 4,
 "nbformat_minor": 5
}
