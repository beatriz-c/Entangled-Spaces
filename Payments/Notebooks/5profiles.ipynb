{
 "cells": [
  {
   "cell_type": "code",
   "execution_count": null,
   "id": "c562c71c",
   "metadata": {},
   "outputs": [],
   "source": [
    "#profiling of the original data set"
   ]
  },
  {
   "cell_type": "code",
   "execution_count": 2,
   "id": "6f52742d",
   "metadata": {},
   "outputs": [],
   "source": [
    "#load the original data set after cleaning\n",
    "import pandas as pd\n",
    "\n",
    "fraudsb = pd.read_csv(r'C:/Users/BeatrizCarvalho/OneDrive - Closer Consultoria Lda/Documents/Entangled-Spaces/Payments/Datasets/0payments_nd_corr.csv', low_memory = False)"
   ]
  },
  {
   "cell_type": "code",
   "execution_count": 3,
   "id": "330373e9",
   "metadata": {},
   "outputs": [
    {
     "data": {
      "application/vnd.jupyter.widget-view+json": {
       "model_id": "4784d09f22aa45498c0afab451528c9b",
       "version_major": 2,
       "version_minor": 0
      },
      "text/plain": [
       "Summarize dataset:   0%|          | 0/5 [00:00<?, ?it/s]"
      ]
     },
     "metadata": {},
     "output_type": "display_data"
    },
    {
     "data": {
      "application/vnd.jupyter.widget-view+json": {
       "model_id": "d90cb892f8b94aa598486f1b08cef202",
       "version_major": 2,
       "version_minor": 0
      },
      "text/plain": [
       "Generate report structure:   0%|          | 0/1 [00:00<?, ?it/s]"
      ]
     },
     "metadata": {},
     "output_type": "display_data"
    },
    {
     "data": {
      "application/vnd.jupyter.widget-view+json": {
       "model_id": "f06df247498d48b4bb6b2a79d957690e",
       "version_major": 2,
       "version_minor": 0
      },
      "text/plain": [
       "Render HTML:   0%|          | 0/1 [00:00<?, ?it/s]"
      ]
     },
     "metadata": {},
     "output_type": "display_data"
    },
    {
     "data": {
      "application/vnd.jupyter.widget-view+json": {
       "model_id": "e14fcb56cc944503b7692100911ac3a5",
       "version_major": 2,
       "version_minor": 0
      },
      "text/plain": [
       "Export report to file:   0%|          | 0/1 [00:00<?, ?it/s]"
      ]
     },
     "metadata": {},
     "output_type": "display_data"
    }
   ],
   "source": [
    "#profiling \n",
    "from pandas_profiling import ProfileReport\n",
    "\n",
    "#ProfileReport(predata.sample(n = 10000)) randomizes data order and selects representative sample\n",
    "prof = ProfileReport(fraudsb, minimal = True)             \n",
    "prof.to_file(output_file = r'C:/Users/BeatrizCarvalho/OneDrive - Closer Consultoria Lda/Documents/Entangled-Spaces/Payments/Profiles/0payments_nd_corr.html')"
   ]
  },
  {
   "cell_type": "code",
   "execution_count": null,
   "id": "ce2bffdd",
   "metadata": {},
   "outputs": [],
   "source": [
    "#profiling of the original frauds before synthetic generation"
   ]
  },
  {
   "cell_type": "code",
   "execution_count": 4,
   "id": "a179725b",
   "metadata": {},
   "outputs": [],
   "source": [
    "#load the original frauds before synthetic generation\n",
    "import pandas as pd\n",
    "\n",
    "fraudsb = pd.read_csv(r'C:/Users/BeatrizCarvalho/OneDrive - Closer Consultoria Lda/Documents/Entangled-Spaces/Payments/Datasets/0frauds_payments_nd_corr.csv')"
   ]
  },
  {
   "cell_type": "code",
   "execution_count": 5,
   "id": "dfb36559",
   "metadata": {},
   "outputs": [
    {
     "data": {
      "text/plain": [
       "252"
      ]
     },
     "execution_count": 5,
     "metadata": {},
     "output_type": "execute_result"
    }
   ],
   "source": [
    "#how many frauds existed originally\n",
    "len(fraudsb)"
   ]
  },
  {
   "cell_type": "code",
   "execution_count": 6,
   "id": "e04675dd",
   "metadata": {},
   "outputs": [
    {
     "data": {
      "application/vnd.jupyter.widget-view+json": {
       "model_id": "564ee1eb2ba3411e8896a38a6cf0c41f",
       "version_major": 2,
       "version_minor": 0
      },
      "text/plain": [
       "Summarize dataset:   0%|          | 0/5 [00:00<?, ?it/s]"
      ]
     },
     "metadata": {},
     "output_type": "display_data"
    },
    {
     "data": {
      "application/vnd.jupyter.widget-view+json": {
       "model_id": "c359f0d08b4442d6969076771176a5db",
       "version_major": 2,
       "version_minor": 0
      },
      "text/plain": [
       "Generate report structure:   0%|          | 0/1 [00:00<?, ?it/s]"
      ]
     },
     "metadata": {},
     "output_type": "display_data"
    },
    {
     "data": {
      "application/vnd.jupyter.widget-view+json": {
       "model_id": "212a631f249f4af0b391da2730837a2a",
       "version_major": 2,
       "version_minor": 0
      },
      "text/plain": [
       "Render HTML:   0%|          | 0/1 [00:00<?, ?it/s]"
      ]
     },
     "metadata": {},
     "output_type": "display_data"
    },
    {
     "data": {
      "application/vnd.jupyter.widget-view+json": {
       "model_id": "c4d43607c6ad439494937999b1917a1c",
       "version_major": 2,
       "version_minor": 0
      },
      "text/plain": [
       "Export report to file:   0%|          | 0/1 [00:00<?, ?it/s]"
      ]
     },
     "metadata": {},
     "output_type": "display_data"
    }
   ],
   "source": [
    "#profiling of the original frauds before synthetic generation\n",
    "from pandas_profiling import ProfileReport\n",
    "\n",
    "#ProfileReport(predata.sample(n = 10000)) randomizes data order and selects representative sample\n",
    "prof = ProfileReport(fraudsb, minimal = True)             \n",
    "prof.to_file(output_file = r'C:/Users/BeatrizCarvalho/OneDrive - Closer Consultoria Lda/Documents/Entangled-Spaces/Payments/Profiles/0frauds_payments_nd_corr.html')"
   ]
  },
  {
   "cell_type": "code",
   "execution_count": null,
   "id": "6bf5a99c",
   "metadata": {},
   "outputs": [],
   "source": [
    "#profiling of balanced data set - 1M"
   ]
  },
  {
   "cell_type": "code",
   "execution_count": 4,
   "id": "1d17b859",
   "metadata": {},
   "outputs": [],
   "source": [
    "#load the frauds after synthetic generation by smote\n",
    "import pandas as pd\n",
    "balanced1m = pd.read_csv(r'C:/Users/BeatrizCarvalho/OneDrive - Closer Consultoria Lda/Documents/Entangled-Spaces/Payments/Datasets/2payments_balanced_smote+rund-1M.csv')"
   ]
  },
  {
   "cell_type": "code",
   "execution_count": 6,
   "id": "344bc3de",
   "metadata": {},
   "outputs": [
    {
     "data": {
      "application/vnd.jupyter.widget-view+json": {
       "model_id": "",
       "version_major": 2,
       "version_minor": 0
      },
      "text/plain": [
       "Summarize dataset:   0%|          | 0/5 [00:00<?, ?it/s]"
      ]
     },
     "metadata": {},
     "output_type": "display_data"
    },
    {
     "data": {
      "application/vnd.jupyter.widget-view+json": {
       "model_id": "",
       "version_major": 2,
       "version_minor": 0
      },
      "text/plain": [
       "Generate report structure:   0%|          | 0/1 [00:00<?, ?it/s]"
      ]
     },
     "metadata": {},
     "output_type": "display_data"
    },
    {
     "data": {
      "application/vnd.jupyter.widget-view+json": {
       "model_id": "",
       "version_major": 2,
       "version_minor": 0
      },
      "text/plain": [
       "Render HTML:   0%|          | 0/1 [00:00<?, ?it/s]"
      ]
     },
     "metadata": {},
     "output_type": "display_data"
    },
    {
     "data": {
      "application/vnd.jupyter.widget-view+json": {
       "model_id": "",
       "version_major": 2,
       "version_minor": 0
      },
      "text/plain": [
       "Export report to file:   0%|          | 0/1 [00:00<?, ?it/s]"
      ]
     },
     "metadata": {},
     "output_type": "display_data"
    }
   ],
   "source": [
    "#profiling of the frauds after the synthetic generation by smote\n",
    "from pandas_profiling import ProfileReport\n",
    "\n",
    "#ProfileReport(predata.sample(n = 10000)) randomizes data order and selects representative sample\n",
    "prof = ProfileReport(balanced1m, minimal = True)           \n",
    "prof.to_file(output_file = r'C:/Users/BeatrizCarvalho/OneDrive - Closer Consultoria Lda/Documents/Entangled-Spaces/Payments/Profiles/2payments_balanced_smote+rund-1M.html')"
   ]
  },
  {
   "cell_type": "code",
   "execution_count": null,
   "id": "8f8b19b0",
   "metadata": {},
   "outputs": [],
   "source": [
    "#profiling of balanced data set - 2M"
   ]
  },
  {
   "cell_type": "code",
   "execution_count": 7,
   "id": "75b1fdf2",
   "metadata": {},
   "outputs": [
    {
     "name": "stderr",
     "output_type": "stream",
     "text": [
      "C:\\Users\\BeatrizCarvalho\\AppData\\Local\\Programs\\Python\\Python39\\lib\\site-packages\\IPython\\core\\interactiveshell.py:3457: DtypeWarning: Columns (6,11) have mixed types.Specify dtype option on import or set low_memory=False.\n",
      "  exec(code_obj, self.user_global_ns, self.user_ns)\n"
     ]
    }
   ],
   "source": [
    "#load the frauds after synthetic generation by smote\n",
    "import pandas as pd\n",
    "balanced2m = pd.read_csv(r'C:/Users/BeatrizCarvalho/OneDrive - Closer Consultoria Lda/Documents/Entangled-Spaces/Payments/Datasets/2payments_balanced_smote+rund-2M.csv')"
   ]
  },
  {
   "cell_type": "code",
   "execution_count": 8,
   "id": "ed9f8adc",
   "metadata": {},
   "outputs": [
    {
     "data": {
      "application/vnd.jupyter.widget-view+json": {
       "model_id": "95899e326089441c9593881bb996bdc5",
       "version_major": 2,
       "version_minor": 0
      },
      "text/plain": [
       "Summarize dataset:   0%|          | 0/5 [00:00<?, ?it/s]"
      ]
     },
     "metadata": {},
     "output_type": "display_data"
    },
    {
     "data": {
      "application/vnd.jupyter.widget-view+json": {
       "model_id": "4771867209444240a40724241774b827",
       "version_major": 2,
       "version_minor": 0
      },
      "text/plain": [
       "Generate report structure:   0%|          | 0/1 [00:00<?, ?it/s]"
      ]
     },
     "metadata": {},
     "output_type": "display_data"
    },
    {
     "data": {
      "application/vnd.jupyter.widget-view+json": {
       "model_id": "d0579021ddb5420089a857d1380f6c9a",
       "version_major": 2,
       "version_minor": 0
      },
      "text/plain": [
       "Render HTML:   0%|          | 0/1 [00:00<?, ?it/s]"
      ]
     },
     "metadata": {},
     "output_type": "display_data"
    },
    {
     "data": {
      "application/vnd.jupyter.widget-view+json": {
       "model_id": "9f3894de322a412897849e7fa9dd890b",
       "version_major": 2,
       "version_minor": 0
      },
      "text/plain": [
       "Export report to file:   0%|          | 0/1 [00:00<?, ?it/s]"
      ]
     },
     "metadata": {},
     "output_type": "display_data"
    }
   ],
   "source": [
    "#profiling of the frauds after the synthetic generation by smote\n",
    "from pandas_profiling import ProfileReport\n",
    "\n",
    "#ProfileReport(predata.sample(n = 10000)) randomizes data order and selects representative sample\n",
    "prof = ProfileReport(balanced2m, minimal = True)           \n",
    "prof.to_file(output_file = r'C:/Users/BeatrizCarvalho/OneDrive - Closer Consultoria Lda/Documents/Entangled-Spaces/Payments/Profiles/2payments_balanced_smote+rund-2M.html')"
   ]
  },
  {
   "cell_type": "code",
   "execution_count": null,
   "id": "0a607f86",
   "metadata": {},
   "outputs": [],
   "source": [
    "#profiling of balanced data set - 3M"
   ]
  },
  {
   "cell_type": "code",
   "execution_count": 9,
   "id": "d1196bcf",
   "metadata": {},
   "outputs": [
    {
     "name": "stderr",
     "output_type": "stream",
     "text": [
      "C:\\Users\\BeatrizCarvalho\\AppData\\Local\\Programs\\Python\\Python39\\lib\\site-packages\\IPython\\core\\interactiveshell.py:3457: DtypeWarning: Columns (6,11) have mixed types.Specify dtype option on import or set low_memory=False.\n",
      "  exec(code_obj, self.user_global_ns, self.user_ns)\n"
     ]
    }
   ],
   "source": [
    "#load the frauds after synthetic generation by smote\n",
    "import pandas as pd\n",
    "balanced3m = pd.read_csv(r'C:/Users/BeatrizCarvalho/OneDrive - Closer Consultoria Lda/Documents/Entangled-Spaces/Payments/Datasets/2payments_balanced_smote+rund-3M.csv')"
   ]
  },
  {
   "cell_type": "code",
   "execution_count": 10,
   "id": "ad5c7174",
   "metadata": {
    "scrolled": true
   },
   "outputs": [
    {
     "data": {
      "application/vnd.jupyter.widget-view+json": {
       "model_id": "",
       "version_major": 2,
       "version_minor": 0
      },
      "text/plain": [
       "Summarize dataset:   0%|          | 0/5 [00:00<?, ?it/s]"
      ]
     },
     "metadata": {},
     "output_type": "display_data"
    },
    {
     "data": {
      "application/vnd.jupyter.widget-view+json": {
       "model_id": "5a4fbfc067e6498680604a3f4eb1e16b",
       "version_major": 2,
       "version_minor": 0
      },
      "text/plain": [
       "Generate report structure:   0%|          | 0/1 [00:00<?, ?it/s]"
      ]
     },
     "metadata": {},
     "output_type": "display_data"
    },
    {
     "data": {
      "application/vnd.jupyter.widget-view+json": {
       "model_id": "258642e8efc248d58570948de5c56732",
       "version_major": 2,
       "version_minor": 0
      },
      "text/plain": [
       "Render HTML:   0%|          | 0/1 [00:00<?, ?it/s]"
      ]
     },
     "metadata": {},
     "output_type": "display_data"
    },
    {
     "data": {
      "application/vnd.jupyter.widget-view+json": {
       "model_id": "aa0280dea0474af89be12b1fac6e4e08",
       "version_major": 2,
       "version_minor": 0
      },
      "text/plain": [
       "Export report to file:   0%|          | 0/1 [00:00<?, ?it/s]"
      ]
     },
     "metadata": {},
     "output_type": "display_data"
    }
   ],
   "source": [
    "#profiling of the frauds after the synthetic generation by smote\n",
    "from pandas_profiling import ProfileReport\n",
    "\n",
    "#ProfileReport(predata.sample(n = 10000)) randomizes data order and selects representative sample\n",
    "prof = ProfileReport(balanced3m, minimal = True)           \n",
    "prof.to_file(output_file = r'C:/Users/BeatrizCarvalho/OneDrive - Closer Consultoria Lda/Documents/Entangled-Spaces/Payments/Profiles/2payments_balanced_smote+rund-3M.html')"
   ]
  },
  {
   "cell_type": "code",
   "execution_count": null,
   "id": "e8745d3a",
   "metadata": {},
   "outputs": [],
   "source": [
    "#profiling of balanced data set - 4M"
   ]
  },
  {
   "cell_type": "code",
   "execution_count": 13,
   "id": "36db4b04",
   "metadata": {},
   "outputs": [],
   "source": [
    "#load the frauds after synthetic generation by smote\n",
    "import pandas as pd\n",
    "balanced4m = pd.read_csv(r'C:/Users/BeatrizCarvalho/OneDrive - Closer Consultoria Lda/Documents/Entangled-Spaces/Payments/Datasets/2payments_balanced_smote+rund-4M.csv')"
   ]
  },
  {
   "cell_type": "code",
   "execution_count": 14,
   "id": "0bb50894",
   "metadata": {
    "scrolled": true
   },
   "outputs": [
    {
     "data": {
      "application/vnd.jupyter.widget-view+json": {
       "model_id": "7e70f0e1be884822976de3bc3499f1dd",
       "version_major": 2,
       "version_minor": 0
      },
      "text/plain": [
       "Summarize dataset:   0%|          | 0/5 [00:00<?, ?it/s]"
      ]
     },
     "metadata": {},
     "output_type": "display_data"
    },
    {
     "data": {
      "application/vnd.jupyter.widget-view+json": {
       "model_id": "4ef5de0c3b3d4e2cab8dec2d28a3b25b",
       "version_major": 2,
       "version_minor": 0
      },
      "text/plain": [
       "Generate report structure:   0%|          | 0/1 [00:00<?, ?it/s]"
      ]
     },
     "metadata": {},
     "output_type": "display_data"
    },
    {
     "data": {
      "application/vnd.jupyter.widget-view+json": {
       "model_id": "9e10254ec0c64f9b8aef079b46d0d7c6",
       "version_major": 2,
       "version_minor": 0
      },
      "text/plain": [
       "Render HTML:   0%|          | 0/1 [00:00<?, ?it/s]"
      ]
     },
     "metadata": {},
     "output_type": "display_data"
    },
    {
     "data": {
      "application/vnd.jupyter.widget-view+json": {
       "model_id": "368f9e014119456ab002bd1d5f83b1bb",
       "version_major": 2,
       "version_minor": 0
      },
      "text/plain": [
       "Export report to file:   0%|          | 0/1 [00:00<?, ?it/s]"
      ]
     },
     "metadata": {},
     "output_type": "display_data"
    }
   ],
   "source": [
    "#profiling of the frauds after the synthetic generation by smote\n",
    "from pandas_profiling import ProfileReport\n",
    "\n",
    "#ProfileReport(predata.sample(n = 10000)) randomizes data order and selects representative sample\n",
    "prof = ProfileReport(balanced4m, minimal = True)           \n",
    "prof.to_file(output_file = r'C:/Users/BeatrizCarvalho/OneDrive - Closer Consultoria Lda/Documents/Entangled-Spaces/Payments/Profiles/2payments_balanced_smote+rund-4M.html')"
   ]
  },
  {
   "cell_type": "code",
   "execution_count": null,
   "id": "0976396b",
   "metadata": {},
   "outputs": [],
   "source": [
    "#profiling of balanced data set - 5M"
   ]
  },
  {
   "cell_type": "code",
   "execution_count": 16,
   "id": "0da5e5fc",
   "metadata": {},
   "outputs": [
    {
     "name": "stderr",
     "output_type": "stream",
     "text": [
      "C:\\Users\\BeatrizCarvalho\\AppData\\Local\\Programs\\Python\\Python39\\lib\\site-packages\\IPython\\core\\interactiveshell.py:3457: DtypeWarning: Columns (6,11) have mixed types.Specify dtype option on import or set low_memory=False.\n",
      "  exec(code_obj, self.user_global_ns, self.user_ns)\n"
     ]
    }
   ],
   "source": [
    "#load the frauds after synthetic generation by smote\n",
    "import pandas as pd\n",
    "balanced5m = pd.read_csv(r'C:/Users/BeatrizCarvalho/OneDrive - Closer Consultoria Lda/Documents/Entangled-Spaces/Payments/Datasets/2payments_balanced_smote+rund-5M.csv')"
   ]
  },
  {
   "cell_type": "code",
   "execution_count": 17,
   "id": "df9285b8",
   "metadata": {
    "scrolled": true
   },
   "outputs": [
    {
     "data": {
      "application/vnd.jupyter.widget-view+json": {
       "model_id": "478cfde244f94506a062e23ee341eec9",
       "version_major": 2,
       "version_minor": 0
      },
      "text/plain": [
       "Summarize dataset:   0%|          | 0/5 [00:00<?, ?it/s]"
      ]
     },
     "metadata": {},
     "output_type": "display_data"
    },
    {
     "data": {
      "application/vnd.jupyter.widget-view+json": {
       "model_id": "8afc60fa51f94d8483677abc370f6d32",
       "version_major": 2,
       "version_minor": 0
      },
      "text/plain": [
       "Generate report structure:   0%|          | 0/1 [00:00<?, ?it/s]"
      ]
     },
     "metadata": {},
     "output_type": "display_data"
    },
    {
     "data": {
      "application/vnd.jupyter.widget-view+json": {
       "model_id": "1f66badc9a764e99b0248f78346961e8",
       "version_major": 2,
       "version_minor": 0
      },
      "text/plain": [
       "Render HTML:   0%|          | 0/1 [00:00<?, ?it/s]"
      ]
     },
     "metadata": {},
     "output_type": "display_data"
    },
    {
     "data": {
      "application/vnd.jupyter.widget-view+json": {
       "model_id": "760724d91d304045aa2ec563aea26c9b",
       "version_major": 2,
       "version_minor": 0
      },
      "text/plain": [
       "Export report to file:   0%|          | 0/1 [00:00<?, ?it/s]"
      ]
     },
     "metadata": {},
     "output_type": "display_data"
    }
   ],
   "source": [
    "#profiling of the frauds after the synthetic generation by smote\n",
    "from pandas_profiling import ProfileReport\n",
    "\n",
    "#ProfileReport(predata.sample(n = 10000)) randomizes data order and selects representative sample\n",
    "prof = ProfileReport(balanced5m, minimal = True)           \n",
    "prof.to_file(output_file = r'C:/Users/BeatrizCarvalho/OneDrive - Closer Consultoria Lda/Documents/Entangled-Spaces/Payments/Profiles/2payments_balanced_smote+rund-5M.html')"
   ]
  }
 ],
 "metadata": {
  "kernelspec": {
   "display_name": "Python 3 (ipykernel)",
   "language": "python",
   "name": "python3"
  },
  "language_info": {
   "codemirror_mode": {
    "name": "ipython",
    "version": 3
   },
   "file_extension": ".py",
   "mimetype": "text/x-python",
   "name": "python",
   "nbconvert_exporter": "python",
   "pygments_lexer": "ipython3",
   "version": "3.9.9"
  }
 },
 "nbformat": 4,
 "nbformat_minor": 5
}
