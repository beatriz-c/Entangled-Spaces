{
 "cells": [
  {
   "cell_type": "code",
   "execution_count": 1,
   "id": "2e6d7871",
   "metadata": {},
   "outputs": [],
   "source": [
    "#data loading\n",
    "import pandas as pd\n",
    "\n",
    "predata = pd.read_csv(r'C:/Users/BeatrizCarvalho/OneDrive - Closer Consultoria Lda/Documents/Entangled-Spaces/Payments/Datasets/0payments_nd_corr.csv', low_memory = False) "
   ]
  },
  {
   "cell_type": "code",
   "execution_count": 2,
   "id": "f7b587bd",
   "metadata": {
    "scrolled": true
   },
   "outputs": [
    {
     "data": {
      "text/plain": [
       "0    0.99998\n",
       "1    0.00002\n",
       "Name: is_fraud, dtype: float64"
      ]
     },
     "execution_count": 2,
     "metadata": {},
     "output_type": "execute_result"
    }
   ],
   "source": [
    "#ratios of each class\n",
    "predata['is_fraud'].value_counts() / predata.shape[0]"
   ]
  },
  {
   "cell_type": "code",
   "execution_count": 3,
   "id": "799b924f",
   "metadata": {
    "scrolled": true
   },
   "outputs": [
    {
     "data": {
      "text/plain": [
       "(12858796, 21)"
      ]
     },
     "execution_count": 3,
     "metadata": {},
     "output_type": "execute_result"
    }
   ],
   "source": [
    "#inicial number of columns and rows of the dataframe\n",
    "predata.shape"
   ]
  },
  {
   "cell_type": "code",
   "execution_count": 4,
   "id": "ef3b0824",
   "metadata": {},
   "outputs": [],
   "source": [
    "#visualize the whole output\n",
    "pd.set_option('display.max_columns', None)\n",
    "pd.set_option('display.max_rows', None)"
   ]
  },
  {
   "cell_type": "code",
   "execution_count": 5,
   "id": "5e5cdec1",
   "metadata": {},
   "outputs": [],
   "source": [
    "#create column weekday\n",
    "predata['weekday'] = pd.to_datetime(predata['timestamp']).apply(lambda x: x.weekday())"
   ]
  },
  {
   "cell_type": "code",
   "execution_count": 6,
   "id": "25c9f66a",
   "metadata": {
    "scrolled": true
   },
   "outputs": [],
   "source": [
    "#create column month\n",
    "predata['month'] = pd.DatetimeIndex(predata['timestamp']).month"
   ]
  },
  {
   "cell_type": "code",
   "execution_count": 7,
   "id": "729c3ecc",
   "metadata": {},
   "outputs": [],
   "source": [
    "#drop column timestamp that was used for creating weekday and month\n",
    "predata.drop(['timestamp'], axis = 1, inplace = True)"
   ]
  },
  {
   "cell_type": "code",
   "execution_count": 8,
   "id": "74c2eeb1",
   "metadata": {},
   "outputs": [],
   "source": [
    "#renaming browsers\n",
    "def assign_brws_fam(x):\n",
    "\n",
    "    changes = {\n",
    "        \"m bot\": \"other\",  #15\n",
    "        \"android\": \"other\",  #104\n",
    "        \"1password\": \"other\",  #57\n",
    "        \"chrome mobile\": \"chrome\",  #735168\n",
    "        \"chrome mobile webview\": \"chrome\",  #2681\n",
    "        \"mobile safari\": \"safari\",  #338413\n",
    "        \"mobile safari ui/wkwebview\": \"safari\",  #4190964\n",
    "        \"firefox mobile\": \"firefox\",  #5515\n",
    "        \"edge mobile\": \"edge\",\n",
    "        \"firefox mobile\": \"firefox\"\n",
    "    }\n",
    "\n",
    "    if x in changes.keys():\n",
    "        return changes[x]\n",
    "    else:\n",
    "        return x\n",
    "\n",
    "predata[\"browser_family\"] = predata[\"browser_family\"].apply(lambda x: assign_brws_fam(x))"
   ]
  },
  {
   "cell_type": "code",
   "execution_count": 9,
   "id": "804ded41",
   "metadata": {},
   "outputs": [],
   "source": [
    "#renaming os \n",
    "def assign_os_fam(x):\n",
    "\n",
    "    changes = {\n",
    "        \"windows phone\": \"windows\"  #863\n",
    "    }\n",
    "\n",
    "    if x in changes.keys():\n",
    "        return changes[x]\n",
    "    else:\n",
    "        return x\n",
    "\n",
    "predata[\"os_family\"] = predata[\"os_family\"].apply(lambda x: assign_os_fam(x))"
   ]
  },
  {
   "cell_type": "code",
   "execution_count": 10,
   "id": "54a5318e",
   "metadata": {},
   "outputs": [],
   "source": [
    "#remove spaces on browsers and os \n",
    "cols = ['os_family', 'browser_family']\n",
    "\n",
    "for col in cols:\n",
    "      predata[col] = predata[col].apply(lambda x: x.replace(' ', ''))"
   ]
  },
  {
   "cell_type": "code",
   "execution_count": 11,
   "id": "ceae738e",
   "metadata": {},
   "outputs": [],
   "source": [
    "#make all lowercase\n",
    "def convert_column_lower(column, df):\n",
    "    df[column] = df[column].str.lower()\n",
    "    \n",
    "columns_to_lower = ['canal', 'operativa', 'browser_family', 'os_family', 'ipaddress', 'trusted_indicator']\n",
    "for col in columns_to_lower:\n",
    "    predata[col] = predata[col].str.lower()"
   ]
  },
  {
   "cell_type": "code",
   "execution_count": 12,
   "id": "e835bc67",
   "metadata": {},
   "outputs": [],
   "source": [
    "#remove dots from ipaddress\n",
    "predata['ipaddress'] = predata['ipaddress'].apply(lambda x: \"\".join(x.split(\".\")))"
   ]
  },
  {
   "cell_type": "code",
   "execution_count": 13,
   "id": "97770a9b",
   "metadata": {},
   "outputs": [],
   "source": [
    "#merge is_tablet, is_pc, is_mobile, is_touch on a new column called device\n",
    "def deviceselect(x): \n",
    "    #if True in tablet and touch\n",
    "    if x['is_tablet'] and x['is_touch']:\n",
    "       return 'ttablet'\n",
    "    \n",
    "    #if True in pc and touch\n",
    "    if x['is_pc'] and x['is_touch']:\n",
    "       return 'tpc'\n",
    "    \n",
    "    #if True in mobile and touch\n",
    "    if x['is_mobile'] and x['is_touch']:\n",
    "       return 'tmobile'\n",
    "\n",
    "    #if True only in mobile\n",
    "    if x['is_mobile']:\n",
    "        return 'mobile'\n",
    "    \n",
    "    #if True only in pc\n",
    "    if x['is_pc']:\n",
    "        return 'pc'\n",
    "\n",
    "    #if True only in tablet\n",
    "    if x['is_tablet']:\n",
    "        return 'tablet'  \n",
    "    \n",
    "    #if none of the above return otherd\n",
    "    return 'otherd'                            \n",
    "    \n",
    "predata['device'] = predata.apply(deviceselect, axis = 1)"
   ]
  },
  {
   "cell_type": "code",
   "execution_count": 14,
   "id": "8b434c0e",
   "metadata": {},
   "outputs": [],
   "source": [
    "#drop columns that were merged on the new device column\n",
    "predata.drop(['is_pc', 'is_tablet', 'is_mobile', 'is_touch'], axis = 1, inplace = True)  "
   ]
  },
  {
   "cell_type": "code",
   "execution_count": 15,
   "id": "8f7761e1",
   "metadata": {},
   "outputs": [
    {
     "data": {
      "text/plain": [
       "(12858796, 19)"
      ]
     },
     "execution_count": 15,
     "metadata": {},
     "output_type": "execute_result"
    }
   ],
   "source": [
    "#final number of columns and rows of the dataframe\n",
    "predata.shape"
   ]
  },
  {
   "cell_type": "code",
   "execution_count": 16,
   "id": "8c6be590",
   "metadata": {
    "scrolled": false
   },
   "outputs": [
    {
     "data": {
      "text/plain": [
       "Index(['canal', 'operativa', 'entity', 'reference', 'trusted_indicator',\n",
       "       'iban_orig', 'iban_dest', 'amount', 'accountbalance', 'ipaddress',\n",
       "       'is_fraud', 'clientid', 'browser_family', 'os_family', 'hour', 'week',\n",
       "       'weekday', 'month', 'device'],\n",
       "      dtype='object')"
      ]
     },
     "execution_count": 16,
     "metadata": {},
     "output_type": "execute_result"
    }
   ],
   "source": [
    "#final columns of the dataframe\n",
    "predata.columns"
   ]
  },
  {
   "cell_type": "code",
   "execution_count": 17,
   "id": "9a1e4a11",
   "metadata": {
    "scrolled": true
   },
   "outputs": [],
   "source": [
    "#undersampling -> RandomUnderSampler\n",
    "from imblearn.under_sampling import RandomUnderSampler\n",
    "\n",
    "under = RandomUnderSampler(sampling_strategy = {0: 2520, 1: 252})  \n",
    "                                                                \n",
    "#target column\n",
    "y = predata['is_fraud']  #series\n",
    "\n",
    "#all the other columns\n",
    "X = predata.drop('is_fraud', axis = 1)  #dataframe"
   ]
  },
  {
   "cell_type": "code",
   "execution_count": 18,
   "id": "1862ea2a",
   "metadata": {},
   "outputs": [],
   "source": [
    "#resample X and y \n",
    "X, y = under.fit_resample(X, y)"
   ]
  },
  {
   "cell_type": "code",
   "execution_count": 19,
   "id": "816cdf5a",
   "metadata": {},
   "outputs": [],
   "source": [
    "#create the new dataframe\n",
    "predatabalanced = X.copy()\n",
    "predatabalanced['is_fraud'] = y\n",
    "\n",
    "#save the balanced dataset\n",
    "predatabalanced.to_csv(r'C:/Users/BeatrizCarvalho/OneDrive - Closer Consultoria Lda/Documents/Entangled-Spaces/Payments/Datasets/2payments_rund_10-90.csv', index = False)"
   ]
  },
  {
   "cell_type": "code",
   "execution_count": 20,
   "id": "7e5f7b2c",
   "metadata": {},
   "outputs": [
    {
     "data": {
      "application/vnd.jupyter.widget-view+json": {
       "model_id": "192e31f2ab3a47ef92d463a6efcbf279",
       "version_major": 2,
       "version_minor": 0
      },
      "text/plain": [
       "Summarize dataset:   0%|          | 0/5 [00:00<?, ?it/s]"
      ]
     },
     "metadata": {},
     "output_type": "display_data"
    },
    {
     "data": {
      "application/vnd.jupyter.widget-view+json": {
       "model_id": "521bc4b7824949b5a92c8fc4eb5a711d",
       "version_major": 2,
       "version_minor": 0
      },
      "text/plain": [
       "Generate report structure:   0%|          | 0/1 [00:00<?, ?it/s]"
      ]
     },
     "metadata": {},
     "output_type": "display_data"
    },
    {
     "data": {
      "application/vnd.jupyter.widget-view+json": {
       "model_id": "e8c777e8c51841609615811f7995df84",
       "version_major": 2,
       "version_minor": 0
      },
      "text/plain": [
       "Render HTML:   0%|          | 0/1 [00:00<?, ?it/s]"
      ]
     },
     "metadata": {},
     "output_type": "display_data"
    },
    {
     "data": {
      "application/vnd.jupyter.widget-view+json": {
       "model_id": "f888b5327c344cc0a93ad0118c04a638",
       "version_major": 2,
       "version_minor": 0
      },
      "text/plain": [
       "Export report to file:   0%|          | 0/1 [00:00<?, ?it/s]"
      ]
     },
     "metadata": {},
     "output_type": "display_data"
    }
   ],
   "source": [
    "#profiling of the imbalanced data\n",
    "from pandas_profiling import ProfileReport\n",
    "\n",
    "prof = ProfileReport(predatabalanced, minimal = True)             \n",
    "prof.to_file(output_file = r'C:/Users/BeatrizCarvalho/OneDrive - Closer Consultoria Lda/Documents/Entangled-Spaces/Payments/Profiles/2payments_rund_10-90.html')"
   ]
  },
  {
   "cell_type": "code",
   "execution_count": 21,
   "id": "bdd4ad4a",
   "metadata": {
    "scrolled": true
   },
   "outputs": [
    {
     "data": {
      "text/plain": [
       "0    0.909091\n",
       "1    0.090909\n",
       "Name: is_fraud, dtype: float64"
      ]
     },
     "execution_count": 21,
     "metadata": {},
     "output_type": "execute_result"
    }
   ],
   "source": [
    "#new percentage of frauds\n",
    "predatabalanced['is_fraud'].value_counts() / predatabalanced.shape[0]"
   ]
  },
  {
   "cell_type": "code",
   "execution_count": 22,
   "id": "97437781",
   "metadata": {
    "scrolled": true
   },
   "outputs": [
    {
     "data": {
      "text/plain": [
       "(2772, 19)"
      ]
     },
     "execution_count": 22,
     "metadata": {},
     "output_type": "execute_result"
    }
   ],
   "source": [
    "predatabalanced.shape"
   ]
  },
  {
   "cell_type": "code",
   "execution_count": null,
   "id": "8600ca71",
   "metadata": {},
   "outputs": [],
   "source": []
  }
 ],
 "metadata": {
  "kernelspec": {
   "display_name": "Python 3 (ipykernel)",
   "language": "python",
   "name": "python3"
  },
  "language_info": {
   "codemirror_mode": {
    "name": "ipython",
    "version": 3
   },
   "file_extension": ".py",
   "mimetype": "text/x-python",
   "name": "python",
   "nbconvert_exporter": "python",
   "pygments_lexer": "ipython3",
   "version": "3.9.9"
  }
 },
 "nbformat": 4,
 "nbformat_minor": 5
}
