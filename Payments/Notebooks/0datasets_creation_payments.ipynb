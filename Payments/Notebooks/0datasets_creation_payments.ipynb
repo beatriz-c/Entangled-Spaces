{
 "cells": [
  {
   "cell_type": "code",
   "execution_count": 1,
   "id": "8c5dd168-6c17-401b-b1aa-0e4c36c4ee4a",
   "metadata": {},
   "outputs": [],
   "source": [
    "#data loading\n",
    "import dask.dataframe as dd\n",
    "\n",
    "dtype = {'trusted_indicator': 'object'}\n",
    "global_data = dd.read_csv(r'C:/Users/BeatrizCarvalho/OneDrive - Closer Consultoria Lda/Documents/Entangled-Spaces/Payments/Datasets/0globaldata.csv',\n",
    "                          dtype = dtype)\n",
    "                          \n",
    "                          "
   ]
  },
  {
   "cell_type": "code",
   "execution_count": 2,
   "id": "246659fd",
   "metadata": {},
   "outputs": [],
   "source": [
    "global_data = global_data[['canal', 'operativa', 'entity', 'reference', 'trusted_indicator', 'iban_orig', 'iban_dest', \n",
    "                           'amount', 'accountbalance', 'ipaddress', 'is_fraud', 'is_tablet', 'is_pc', 'is_mobile', 'is_touch', \n",
    "                           'clientid', 'browser_family', 'os_family', 'hour', 'week', 'timestamp']]"
   ]
  },
  {
   "cell_type": "code",
   "execution_count": 12,
   "id": "cd6affe8",
   "metadata": {
    "scrolled": true
   },
   "outputs": [
    {
     "data": {
      "text/plain": [
       "{'APGCMP',\n",
       " 'APGEST',\n",
       " 'APGINT',\n",
       " 'APGSEG',\n",
       " 'APGSRV',\n",
       " 'APGTEL',\n",
       " 'APGTRP',\n",
       " 'ATFINT',\n",
       " 'ATFIPS',\n",
       " 'ATFITC',\n",
       " 'ATFITI',\n",
       " 'ATFSEP',\n",
       " 'PAGCMP',\n",
       " 'PAGEST',\n",
       " 'PAGINT',\n",
       " 'PAGSEC',\n",
       " 'PAGSEG',\n",
       " 'PAGSRV',\n",
       " 'PAGTEL',\n",
       " 'PAGTRP',\n",
       " 'RTFINT',\n",
       " 'RTFIPS',\n",
       " 'RTFITC',\n",
       " 'RTFSEP',\n",
       " 'TRFIBS',\n",
       " 'TRFINT',\n",
       " 'TRFIPS',\n",
       " 'TRFITC',\n",
       " 'TRFITI',\n",
       " 'TRFMBW',\n",
       " 'TRFSEP'}"
      ]
     },
     "execution_count": 12,
     "metadata": {},
     "output_type": "execute_result"
    }
   ],
   "source": [
    "#values that operativa takes\n",
    "set(global_data['operativa'])"
   ]
  },
  {
   "cell_type": "code",
   "execution_count": 6,
   "id": "3bfc7ab7",
   "metadata": {},
   "outputs": [],
   "source": [
    "#select all operativas that refer to payments\n",
    "target_col = 'operativa'\n",
    "\n",
    "payments = global_data[(global_data[target_col] == 'APGCMP') | (global_data[target_col] == 'APGEST') | \n",
    "                       (global_data[target_col] == 'APGINT') | (global_data[target_col] == 'APGSEG') |\n",
    "                       (global_data[target_col] == 'APGSRV') | (global_data[target_col] == 'APGTEL') |\n",
    "                       (global_data[target_col] == 'APGTRP') | (global_data[target_col] == 'ATFINT') |\n",
    "                       (global_data[target_col] == 'ATFIPS') | (global_data[target_col] == 'ATFITC') |\n",
    "                       (global_data[target_col] == 'ATFITI') | (global_data[target_col] == 'ATFSEP') |\n",
    "                       (global_data[target_col] == 'PAGCMP') | (global_data[target_col] == 'PAGEST') |\n",
    "                       (global_data[target_col] == 'PAGINT') | (global_data[target_col] == 'PAGSEC') |\n",
    "                       (global_data[target_col] == 'PAGSEG') | (global_data[target_col] == 'PAGSRV') |\n",
    "                       (global_data[target_col] == 'PAGTEL') | (global_data[target_col] == 'PAGTRP') |\n",
    "                       (global_data[target_col] == 'RTFINT') | (global_data[target_col] == 'RTFIPS') |\n",
    "                       (global_data[target_col] == 'RTFITC') | (global_data[target_col] == 'RTFSEP')].copy()"
   ]
  },
  {
   "cell_type": "code",
   "execution_count": 7,
   "id": "16c451d6",
   "metadata": {
    "scrolled": false
   },
   "outputs": [
    {
     "data": {
      "text/plain": [
       "13403165"
      ]
     },
     "execution_count": 7,
     "metadata": {},
     "output_type": "execute_result"
    }
   ],
   "source": [
    "#number of rows in the payments csv\n",
    "len(payments)"
   ]
  },
  {
   "cell_type": "code",
   "execution_count": 9,
   "id": "3e9b5626",
   "metadata": {
    "scrolled": true
   },
   "outputs": [
    {
     "data": {
      "text/plain": [
       "canal                252\n",
       "operativa            252\n",
       "entity               252\n",
       "reference            252\n",
       "trusted_indicator    252\n",
       "iban_orig            252\n",
       "iban_dest            252\n",
       "amount               252\n",
       "accountbalance       252\n",
       "ipaddress            252\n",
       "is_fraud             252\n",
       "is_tablet            252\n",
       "is_pc                252\n",
       "is_mobile            252\n",
       "is_touch             252\n",
       "clientid             252\n",
       "browser_family       252\n",
       "os_family            252\n",
       "hour                 252\n",
       "week                 252\n",
       "timestamp            252\n",
       "dtype: int64"
      ]
     },
     "execution_count": 9,
     "metadata": {},
     "output_type": "execute_result"
    }
   ],
   "source": [
    "#number of frauds in payments\n",
    "target_col = 'is_fraud'\n",
    "payments[(payments[target_col] == 1)].count().compute()"
   ]
  },
  {
   "cell_type": "code",
   "execution_count": 10,
   "id": "663b5fe4",
   "metadata": {
    "scrolled": false
   },
   "outputs": [
    {
     "data": {
      "text/plain": [
       "['C:/Users/BeatrizCarvalho/0payments.csv']"
      ]
     },
     "execution_count": 10,
     "metadata": {},
     "output_type": "execute_result"
    }
   ],
   "source": [
    "#save all payments data in a csv file\n",
    "payments.to_csv(r'C:\\Users\\BeatrizCarvalho\\0payments.csv', index = False, single_file = True)"
   ]
  },
  {
   "cell_type": "code",
   "execution_count": null,
   "id": "8de731ec",
   "metadata": {},
   "outputs": [],
   "source": [
    "#divide in frauds and nonfrauds so that repeated fraud data won't be eliminated"
   ]
  },
  {
   "cell_type": "code",
   "execution_count": 11,
   "id": "ce53974c",
   "metadata": {},
   "outputs": [],
   "source": [
    "#select only the frauds\n",
    "target_col = 'is_fraud'\n",
    "frauds = payments[(payments[target_col] == 1)].copy()"
   ]
  },
  {
   "cell_type": "code",
   "execution_count": 12,
   "id": "f7d3ff79",
   "metadata": {},
   "outputs": [],
   "source": [
    "#select only the non-frauds \n",
    "nonfrauds = payments[(payments[target_col] == 0)].copy()"
   ]
  },
  {
   "cell_type": "code",
   "execution_count": 13,
   "id": "834158e9",
   "metadata": {},
   "outputs": [
    {
     "data": {
      "text/plain": [
       "13402913"
      ]
     },
     "execution_count": 13,
     "metadata": {},
     "output_type": "execute_result"
    }
   ],
   "source": [
    "#number of rows in nonfrauds data before the duplicates removal\n",
    "len(nonfrauds)"
   ]
  },
  {
   "cell_type": "code",
   "execution_count": 14,
   "id": "2efba193",
   "metadata": {},
   "outputs": [],
   "source": [
    "#drop duplicates\n",
    "nonfrauds_nd = nonfrauds.drop_duplicates()"
   ]
  },
  {
   "cell_type": "code",
   "execution_count": 15,
   "id": "7c1f46ad",
   "metadata": {},
   "outputs": [
    {
     "data": {
      "text/plain": [
       "13161453"
      ]
     },
     "execution_count": 15,
     "metadata": {},
     "output_type": "execute_result"
    }
   ],
   "source": [
    "#number of rows in nonfrauds after the duplicates removal (before there was 15647704)\n",
    "len(nonfrauds_nd)"
   ]
  },
  {
   "cell_type": "code",
   "execution_count": 16,
   "id": "6754c7c0",
   "metadata": {
    "scrolled": false
   },
   "outputs": [
    {
     "data": {
      "text/plain": [
       "241460"
      ]
     },
     "execution_count": 16,
     "metadata": {},
     "output_type": "execute_result"
    }
   ],
   "source": [
    "#number of duplicates\n",
    "13402913 - 13161453"
   ]
  },
  {
   "cell_type": "code",
   "execution_count": 17,
   "id": "3886153c",
   "metadata": {},
   "outputs": [],
   "source": [
    "#merge the dataframes again\n",
    "payments_nd = nonfrauds_nd.append(frauds)"
   ]
  },
  {
   "cell_type": "code",
   "execution_count": 18,
   "id": "e479b9d8",
   "metadata": {},
   "outputs": [
    {
     "data": {
      "text/plain": [
       "13161705"
      ]
     },
     "execution_count": 18,
     "metadata": {},
     "output_type": "execute_result"
    }
   ],
   "source": [
    "#make sure the merge was done correctly\n",
    "len(payments_nd)"
   ]
  },
  {
   "cell_type": "code",
   "execution_count": 19,
   "id": "1edcf6c0",
   "metadata": {},
   "outputs": [
    {
     "data": {
      "text/plain": [
       "['C:/Users/BeatrizCarvalho/0payments_nd.csv']"
      ]
     },
     "execution_count": 19,
     "metadata": {},
     "output_type": "execute_result"
    }
   ],
   "source": [
    "#save dataframe without the duplicates in a single csv file\n",
    "payments_nd.to_csv(r'C:\\Users\\BeatrizCarvalho\\0payments_nd.csv', index = False, single_file = True)"
   ]
  },
  {
   "cell_type": "code",
   "execution_count": null,
   "id": "3b9b04f8",
   "metadata": {},
   "outputs": [],
   "source": []
  }
 ],
 "metadata": {
  "kernelspec": {
   "display_name": "Python 3 (ipykernel)",
   "language": "python",
   "name": "python3"
  },
  "language_info": {
   "codemirror_mode": {
    "name": "ipython",
    "version": 3
   },
   "file_extension": ".py",
   "mimetype": "text/x-python",
   "name": "python",
   "nbconvert_exporter": "python",
   "pygments_lexer": "ipython3",
   "version": "3.9.9"
  }
 },
 "nbformat": 4,
 "nbformat_minor": 5
}
