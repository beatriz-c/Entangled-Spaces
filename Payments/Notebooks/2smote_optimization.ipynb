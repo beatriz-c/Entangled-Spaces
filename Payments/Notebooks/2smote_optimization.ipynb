{
 "cells": [
  {
   "cell_type": "code",
   "execution_count": 1,
   "metadata": {},
   "outputs": [],
   "source": [
    "#data loading\n",
    "import pandas as pd\n",
    "\n",
    "predata = pd.read_csv('C:/Users/BeatrizCarvalho/OneDrive - Closer Consultoria Lda/Documents/Entangled-Spaces/Payments/Datasets/0payments_nd_corr.csv', low_memory = False)\n",
    "\n",
    "#create column weekday\n",
    "predata['weekday'] = pd.to_datetime(predata['timestamp']).apply(lambda x: x.weekday())\n",
    "\n",
    "#create column month\n",
    "predata['month'] = pd.DatetimeIndex(predata['timestamp']).month\n",
    "\n",
    "#drop column timestamp that was used for creating weekday and month columns\n",
    "predata.drop(['timestamp'], axis = 1, inplace = True)\n",
    "\n",
    "\n",
    "#renaming browsers\n",
    "def assign_brws_fam(x):\n",
    "    changes = {\n",
    "        \"m bot\": \"other\",  #15\n",
    "        \"android\": \"other\",  #104\n",
    "        \"1password\": \"other\",  #57\n",
    "        \"chrome mobile\": \"chrome\",  #735168\n",
    "        \"chrome mobile webview\": \"chrome\",  #2681\n",
    "        \"mobile safari\": \"safari\",  #338413\n",
    "        \"mobile safari ui/wkwebview\": \"safari\",  #4190964\n",
    "        \"firefox mobile\": \"firefox\",  #5515\n",
    "        \"edge mobile\": \"edge\",\n",
    "        \"firefox mobile\": \"firefox\"\n",
    "    }\n",
    "\n",
    "    if x in changes.keys():\n",
    "        return changes[x]\n",
    "    else:\n",
    "        return x\n",
    "\n",
    "\n",
    "predata[\"browser_family\"] = predata[\"browser_family\"].apply(lambda x: assign_brws_fam(x))\n",
    "\n",
    "\n",
    "#renaming os\n",
    "def assign_os_fam(x):\n",
    "    changes = {\n",
    "        \"windows phone\": \"windows\"  #863\n",
    "    }\n",
    "\n",
    "    if x in changes.keys():\n",
    "        return changes[x]\n",
    "    else:\n",
    "        return x\n",
    "\n",
    "\n",
    "predata[\"os_family\"] = predata[\"os_family\"].apply(lambda x: assign_os_fam(x))\n",
    "\n",
    "\n",
    "#remove spaces on browsers and os\n",
    "cols = ['os_family', 'browser_family']\n",
    "\n",
    "for col in cols:\n",
    "    predata[col] = predata[col].apply(lambda x: x.replace(' ', ''))\n",
    "\n",
    "\n",
    "#make all lowercase\n",
    "def convert_column_lower(column, df):\n",
    "    df[column] = df[column].str.lower()\n",
    "\n",
    "\n",
    "columns_to_lower = ['canal', 'operativa', 'browser_family', 'os_family', 'ipaddress', 'trusted_indicator']\n",
    "for col in columns_to_lower:\n",
    "    predata[col] = predata[col].str.lower()\n",
    "\n",
    "    \n",
    "#remove dots from ipaddress\n",
    "predata['ipaddress'] = predata['ipaddress'].apply(lambda x: \"\".join(x.split(\".\")))\n",
    "\n",
    "\n",
    "#merge is_tablet, is_pc, is_mobile, is_touch on a new column called device\n",
    "def deviceselect(x):\n",
    "    #if True in tablet and touch\n",
    "    if x['is_tablet'] and x['is_touch']:\n",
    "        return 'ttablet'\n",
    "\n",
    "    #if True in pc and touch\n",
    "    if x['is_pc'] and x['is_touch']:\n",
    "        return 'tpc'\n",
    "\n",
    "    #if True in mobile and touch\n",
    "    if x['is_mobile'] and x['is_touch']:\n",
    "        return 'tmobile'\n",
    "\n",
    "    #if True only in mobile\n",
    "    if x['is_mobile']:\n",
    "        return 'mobile'\n",
    "\n",
    "    #if True only in pc\n",
    "    if x['is_pc']:\n",
    "        return 'pc'\n",
    "\n",
    "    #if True only in tablet\n",
    "    if x['is_tablet']:\n",
    "        return 'tablet'\n",
    "\n",
    "    #if none of the above return otherd\n",
    "    return 'otherd'\n",
    "\n",
    "predata['device'] = predata.apply(deviceselect, axis = 1)\n",
    "\n",
    "\n",
    "#drop columns that were merged on the new device column\n",
    "predata.drop(['is_pc', 'is_tablet', 'is_mobile', 'is_touch'], axis = 1, inplace = True)\n",
    "\n",
    "#change data types for columns that need to be categorical\n",
    "convert_dict = {'clientid': object, 'entity': object, 'reference': object, 'iban_orig': object, 'iban_dest': object,\n",
    "                'hour': object, 'week': object, 'weekday': object, 'month': object}\n",
    "\n",
    "predata = predata.astype(convert_dict)"
   ]
  },
  {
   "cell_type": "code",
   "execution_count": 2,
   "metadata": {},
   "outputs": [],
   "source": [
    "#create new dataframe with already existent data but splitted in labels \n",
    "frauds = predata[predata['is_fraud'] == 1].copy(deep = True)\n",
    "\n",
    "#choose sample\n",
    "non_frauds = predata[predata['is_fraud'] == 0].sample(5000).copy(deep = True)\n",
    "\n",
    "del predata\n",
    "\n",
    "#new dataframe concatenated\n",
    "result = pd.concat([non_frauds, frauds], ignore_index = True).copy(deep = True)\n",
    "\n",
    "del frauds, non_frauds"
   ]
  },
  {
   "cell_type": "code",
   "execution_count": 3,
   "metadata": {},
   "outputs": [],
   "source": [
    "#dummies for categorical columns\n",
    "dums = pd.get_dummies(result, columns = ['canal', 'operativa', 'trusted_indicator', 'browser_family', 'os_family', 'hour', \n",
    "                                         'week', 'weekday', 'month', 'device'])"
   ]
  },
  {
   "cell_type": "code",
   "execution_count": 4,
   "metadata": {},
   "outputs": [],
   "source": [
    "#assign target column\n",
    "y = dums['is_fraud']\n",
    "\n",
    "X = dums.drop('is_fraud', axis = 1)"
   ]
  },
  {
   "cell_type": "code",
   "execution_count": 5,
   "metadata": {},
   "outputs": [],
   "source": [
    "#ignore errors in conversion to numerics and do not allow the conversion\n",
    "X = X.apply(pd.to_numeric, errors = 'ignore')"
   ]
  },
  {
   "cell_type": "code",
   "execution_count": 6,
   "metadata": {},
   "outputs": [],
   "source": [
    "#adjust mixed data in ips - unknown and numeric\n",
    "def adjust_ip(ip):\n",
    "    try:\n",
    "        return int(ip)\n",
    "    except:\n",
    "        return 0\n",
    "\n",
    "\n",
    "X['ipaddress'] = X['ipaddress'].apply(lambda x: adjust_ip(x))"
   ]
  },
  {
   "cell_type": "code",
   "execution_count": 7,
   "metadata": {},
   "outputs": [],
   "source": [
    "#apply to the target column\n",
    "y = y.apply(pd.to_numeric)"
   ]
  },
  {
   "cell_type": "code",
   "execution_count": 8,
   "metadata": {},
   "outputs": [],
   "source": [
    "#smote\n",
    "from imblearn.over_sampling import SMOTE\n",
    "import multiprocessing\n",
    "\n",
    "over = SMOTE()\n",
    "\n",
    "X_res, y_res = over.fit_resample(X, y)"
   ]
  },
  {
   "cell_type": "code",
   "execution_count": 9,
   "metadata": {},
   "outputs": [
    {
     "name": "stderr",
     "output_type": "stream",
     "text": [
      "C:\\Users\\BEATRI~1\\AppData\\Local\\Temp/ipykernel_14836/3657357880.py:2: PerformanceWarning: DataFrame is highly fragmented.  This is usually the result of calling `frame.insert` many times, which has poor performance.  Consider joining all columns at once using pd.concat(axis=1) instead.  To get a de-fragmented frame, use `newframe = frame.copy()`\n",
      "  X_res['is_fraud'] = y_res.copy()\n"
     ]
    }
   ],
   "source": [
    "#copy to new dataframe\n",
    "X_res['is_fraud'] = y_res.copy()"
   ]
  },
  {
   "cell_type": "code",
   "execution_count": 10,
   "metadata": {},
   "outputs": [
    {
     "data": {
      "text/plain": [
       "(10000, 131)"
      ]
     },
     "execution_count": 10,
     "metadata": {},
     "output_type": "execute_result"
    }
   ],
   "source": [
    "#new dataframe shape\n",
    "X_res.shape"
   ]
  },
  {
   "cell_type": "code",
   "execution_count": 11,
   "metadata": {},
   "outputs": [],
   "source": [
    "#when smote does not attribute any value choose one accordingly to the mode\n",
    "dummies_cols = [('canal', 'mbp'), ('operativa', 'pagsrv'), ('trusted_indicator', '0'), ('browser_family', 'chrome'), \n",
    "                ('os_family', 'windows'), ('hour', '11'), ('week', '21'), ('weekday', '0'), ('month', '5'), ('device', 'pc')]"
   ]
  },
  {
   "cell_type": "code",
   "execution_count": 12,
   "metadata": {
    "pycharm": {
     "is_executing": true
    }
   },
   "outputs": [],
   "source": [
    "#undo dummies\n",
    "def get_proper_value(df, created_cols, origin_col, default_val):\n",
    "    proper_result = []\n",
    "\n",
    "    for _, row in df.iterrows():\n",
    "        curr_values = row[created_cols]\n",
    "        was_set = False\n",
    "        for i, val in enumerate(curr_values.values):\n",
    "            if val == 1:\n",
    "                was_set = True\n",
    "                to_append = str(created_cols[i])\n",
    "                to_append = to_append.replace(origin_col, '')\n",
    "                proper_result.append(to_append)\n",
    "                break\n",
    "        if not was_set:\n",
    "            proper_result.append(default_val)\n",
    "    return proper_result"
   ]
  },
  {
   "cell_type": "code",
   "execution_count": 13,
   "metadata": {},
   "outputs": [],
   "source": [
    "#assign the reconverted values\n",
    "for (dummie, default) in dummies_cols:\n",
    "    curr_dummie = dummie + '_'\n",
    "    used_cols = [curr for curr in X_res.columns if curr_dummie in curr]\n",
    "    X_res[dummie] = get_proper_value(X_res, used_cols, curr_dummie, default)"
   ]
  },
  {
   "cell_type": "code",
   "execution_count": 14,
   "metadata": {},
   "outputs": [],
   "source": [
    "#remove dummy columns\n",
    "remove_cols = ['canal_', 'operativa_', 'trusted_indicator_', 'browser_family_', 'os_family_', 'hour_', 'week_', 'weekday_',\n",
    "               'month_', 'device_']"
   ]
  },
  {
   "cell_type": "code",
   "execution_count": 15,
   "metadata": {},
   "outputs": [],
   "source": [
    "for rem in remove_cols:\n",
    "    used_cols = [curr for curr in X_res.columns if rem in curr]\n",
    "    for c in used_cols:\n",
    "        X_res.drop(c, inplace = True, axis = 1)"
   ]
  },
  {
   "cell_type": "code",
   "execution_count": 16,
   "metadata": {},
   "outputs": [
    {
     "data": {
      "text/plain": [
       "Index(['entity', 'reference', 'iban_orig', 'iban_dest', 'amount',\n",
       "       'accountbalance', 'ipaddress', 'clientid', 'is_fraud', 'canal',\n",
       "       'operativa', 'trusted_indicator', 'browser_family', 'os_family', 'hour',\n",
       "       'week', 'weekday', 'month', 'device'],\n",
       "      dtype='object')"
      ]
     },
     "execution_count": 16,
     "metadata": {},
     "output_type": "execute_result"
    }
   ],
   "source": [
    "#confirm the final columns\n",
    "X_res.columns"
   ]
  },
  {
   "cell_type": "code",
   "execution_count": 17,
   "metadata": {},
   "outputs": [],
   "source": [
    "#assign the value unknown to the ip first assigned as zero\n",
    "def adjust_ip_reverse(ip):\n",
    "    if ip == 0:\n",
    "        return 'unknown'\n",
    "    return ip\n",
    "\n",
    "X_res['ipaddress'] = X_res['ipaddress'].apply(lambda x: adjust_ip_reverse(x))"
   ]
  },
  {
   "cell_type": "code",
   "execution_count": 18,
   "metadata": {
    "scrolled": false
   },
   "outputs": [
    {
     "data": {
      "text/plain": [
       "0    0.5\n",
       "1    0.5\n",
       "Name: is_fraud, dtype: float64"
      ]
     },
     "execution_count": 18,
     "metadata": {},
     "output_type": "execute_result"
    }
   ],
   "source": [
    "#final distribution ratio\n",
    "X_res['is_fraud'].value_counts() / X_res.shape[0]"
   ]
  },
  {
   "cell_type": "code",
   "execution_count": 19,
   "metadata": {},
   "outputs": [],
   "source": [
    "#save csv\n",
    "X_res.to_csv('C:/Users/BeatrizCarvalho/OneDrive - Closer Consultoria Lda/Documents/Entangled-Spaces/Payments/Datasets/2payments_balanced_smote+rund-10m.csv', index = False)"
   ]
  },
  {
   "cell_type": "code",
   "execution_count": null,
   "metadata": {},
   "outputs": [],
   "source": []
  }
 ],
 "metadata": {
  "kernelspec": {
   "display_name": "Python 3 (ipykernel)",
   "language": "python",
   "name": "python3"
  },
  "language_info": {
   "codemirror_mode": {
    "name": "ipython",
    "version": 3
   },
   "file_extension": ".py",
   "mimetype": "text/x-python",
   "name": "python",
   "nbconvert_exporter": "python",
   "pygments_lexer": "ipython3",
   "version": "3.9.9"
  }
 },
 "nbformat": 4,
 "nbformat_minor": 1
}
