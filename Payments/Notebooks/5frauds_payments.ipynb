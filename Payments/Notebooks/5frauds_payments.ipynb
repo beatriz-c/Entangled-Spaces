{
 "cells": [
  {
   "cell_type": "code",
   "execution_count": 2,
   "id": "6f52742d",
   "metadata": {},
   "outputs": [],
   "source": [
    "#load the original data set after cleaning\n",
    "import pandas as pd\n",
    "\n",
    "fraudsb = pd.read_csv(r'C:/Users/BeatrizCarvalho/OneDrive - Closer Consultoria Lda/Documents/Entangled-Spaces/Payments/Datasets/0payments_nd_corr.csv', low_memory = False)"
   ]
  },
  {
   "cell_type": "code",
   "execution_count": 3,
   "id": "330373e9",
   "metadata": {},
   "outputs": [
    {
     "data": {
      "application/vnd.jupyter.widget-view+json": {
       "model_id": "4784d09f22aa45498c0afab451528c9b",
       "version_major": 2,
       "version_minor": 0
      },
      "text/plain": [
       "Summarize dataset:   0%|          | 0/5 [00:00<?, ?it/s]"
      ]
     },
     "metadata": {},
     "output_type": "display_data"
    },
    {
     "data": {
      "application/vnd.jupyter.widget-view+json": {
       "model_id": "d90cb892f8b94aa598486f1b08cef202",
       "version_major": 2,
       "version_minor": 0
      },
      "text/plain": [
       "Generate report structure:   0%|          | 0/1 [00:00<?, ?it/s]"
      ]
     },
     "metadata": {},
     "output_type": "display_data"
    },
    {
     "data": {
      "application/vnd.jupyter.widget-view+json": {
       "model_id": "f06df247498d48b4bb6b2a79d957690e",
       "version_major": 2,
       "version_minor": 0
      },
      "text/plain": [
       "Render HTML:   0%|          | 0/1 [00:00<?, ?it/s]"
      ]
     },
     "metadata": {},
     "output_type": "display_data"
    },
    {
     "data": {
      "application/vnd.jupyter.widget-view+json": {
       "model_id": "e14fcb56cc944503b7692100911ac3a5",
       "version_major": 2,
       "version_minor": 0
      },
      "text/plain": [
       "Export report to file:   0%|          | 0/1 [00:00<?, ?it/s]"
      ]
     },
     "metadata": {},
     "output_type": "display_data"
    }
   ],
   "source": [
    "#profiling \n",
    "from pandas_profiling import ProfileReport\n",
    "\n",
    "#ProfileReport(predata.sample(n = 10000)) randomizes data order and selects representative sample\n",
    "prof = ProfileReport(fraudsb, minimal = True)             \n",
    "prof.to_file(output_file = r'C:/Users/BeatrizCarvalho/OneDrive - Closer Consultoria Lda/Documents/Entangled-Spaces/Payments/Profiles/0payments_nd_corr.html')"
   ]
  },
  {
   "cell_type": "code",
   "execution_count": 4,
   "id": "a179725b",
   "metadata": {},
   "outputs": [],
   "source": [
    "#load the original frauds before synthetic generation\n",
    "import pandas as pd\n",
    "\n",
    "fraudsb = pd.read_csv(r'C:/Users/BeatrizCarvalho/OneDrive - Closer Consultoria Lda/Documents/Entangled-Spaces/Payments/Datasets/0frauds_payments_nd_corr.csv')"
   ]
  },
  {
   "cell_type": "code",
   "execution_count": 5,
   "id": "dfb36559",
   "metadata": {},
   "outputs": [
    {
     "data": {
      "text/plain": [
       "252"
      ]
     },
     "execution_count": 5,
     "metadata": {},
     "output_type": "execute_result"
    }
   ],
   "source": [
    "#how many frauds existed originally\n",
    "len(fraudsb)"
   ]
  },
  {
   "cell_type": "code",
   "execution_count": 6,
   "id": "e04675dd",
   "metadata": {},
   "outputs": [
    {
     "data": {
      "application/vnd.jupyter.widget-view+json": {
       "model_id": "564ee1eb2ba3411e8896a38a6cf0c41f",
       "version_major": 2,
       "version_minor": 0
      },
      "text/plain": [
       "Summarize dataset:   0%|          | 0/5 [00:00<?, ?it/s]"
      ]
     },
     "metadata": {},
     "output_type": "display_data"
    },
    {
     "data": {
      "application/vnd.jupyter.widget-view+json": {
       "model_id": "c359f0d08b4442d6969076771176a5db",
       "version_major": 2,
       "version_minor": 0
      },
      "text/plain": [
       "Generate report structure:   0%|          | 0/1 [00:00<?, ?it/s]"
      ]
     },
     "metadata": {},
     "output_type": "display_data"
    },
    {
     "data": {
      "application/vnd.jupyter.widget-view+json": {
       "model_id": "212a631f249f4af0b391da2730837a2a",
       "version_major": 2,
       "version_minor": 0
      },
      "text/plain": [
       "Render HTML:   0%|          | 0/1 [00:00<?, ?it/s]"
      ]
     },
     "metadata": {},
     "output_type": "display_data"
    },
    {
     "data": {
      "application/vnd.jupyter.widget-view+json": {
       "model_id": "c4d43607c6ad439494937999b1917a1c",
       "version_major": 2,
       "version_minor": 0
      },
      "text/plain": [
       "Export report to file:   0%|          | 0/1 [00:00<?, ?it/s]"
      ]
     },
     "metadata": {},
     "output_type": "display_data"
    }
   ],
   "source": [
    "#profiling of the original frauds before synthetic generation\n",
    "from pandas_profiling import ProfileReport\n",
    "\n",
    "#ProfileReport(predata.sample(n = 10000)) randomizes data order and selects representative sample\n",
    "prof = ProfileReport(fraudsb, minimal = True)             \n",
    "prof.to_file(output_file = r'C:/Users/BeatrizCarvalho/OneDrive - Closer Consultoria Lda/Documents/Entangled-Spaces/Payments/Profiles/0frauds_payments_nd_corr.html')"
   ]
  },
  {
   "cell_type": "code",
   "execution_count": null,
   "id": "1d17b859",
   "metadata": {},
   "outputs": [],
   "source": [
    "#load the frauds after synthetic generation by smote\n",
    "fraudss = pd.read_csv(r'C:/Users/BeatrizCarvalho/OneDrive - Closer Consultoria Lda/Documents/Entangled-Spaces/Payments/Datasets/2frauds_payments_balanced_smote+rund.csv')"
   ]
  },
  {
   "cell_type": "code",
   "execution_count": null,
   "id": "2572c8eb",
   "metadata": {},
   "outputs": [],
   "source": [
    "#how many frauds exist now\n",
    "len(fraudss)"
   ]
  },
  {
   "cell_type": "code",
   "execution_count": null,
   "id": "344bc3de",
   "metadata": {},
   "outputs": [],
   "source": [
    "#profiling of the frauds after the synthetic generation by smote\n",
    "\n",
    "#ProfileReport(predata.sample(n = 10000)) randomizes data order and selects representative sample\n",
    "prof = ProfileReport(fraudss, minimal = True)           \n",
    "prof.to_file(output_file = r'C:/Users/BeatrizCarvalho/OneDrive - Closer Consultoria Lda/Documents/Entangled-Spaces/Payments/Profiles/2frauds_payments_balanced_smote+rund.html')"
   ]
  },
  {
   "cell_type": "code",
   "execution_count": null,
   "id": "f7be6fcb",
   "metadata": {},
   "outputs": [],
   "source": [
    "#load frauds after the synthetic generation by ctgan\n",
    "fraudsg = pd.read_csv(r'C:/Users/BeatrizCarvalho/OneDrive - Closer Consultoria Lda/Documents/Entangled-Spaces/Datasets/Payments/2frauds_payments_balanced_gan+rund.csv')"
   ]
  },
  {
   "cell_type": "code",
   "execution_count": null,
   "id": "002620bf",
   "metadata": {},
   "outputs": [],
   "source": [
    "#how many frauds exist now\n",
    "len(fraudsg)"
   ]
  },
  {
   "cell_type": "code",
   "execution_count": null,
   "id": "63ef2d2e",
   "metadata": {},
   "outputs": [],
   "source": [
    "#profiling of the frauds after the synthetic generation by ctgan\n",
    "\n",
    "#ProfileReport(predata.sample(n = 10000)) randomizes data order and selects representative sample\n",
    "prof = ProfileReport(fraudsg, minimal = True)           \n",
    "prof.to_file(output_file = r'C:/Users/BeatrizCarvalho/OneDrive - Closer Consultoria Lda/Documents/Entangled-Spaces/Payments/Profiles/2frauds_payments_balanced_gan+rund.csv.html')"
   ]
  }
 ],
 "metadata": {
  "kernelspec": {
   "display_name": "Python 3 (ipykernel)",
   "language": "python",
   "name": "python3"
  },
  "language_info": {
   "codemirror_mode": {
    "name": "ipython",
    "version": 3
   },
   "file_extension": ".py",
   "mimetype": "text/x-python",
   "name": "python",
   "nbconvert_exporter": "python",
   "pygments_lexer": "ipython3",
   "version": "3.9.9"
  }
 },
 "nbformat": 4,
 "nbformat_minor": 5
}
